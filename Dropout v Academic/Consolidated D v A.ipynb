{
 "cells": [
  {
   "cell_type": "markdown",
   "id": "75235878-7a41-4e0a-8f2a-64f2993929ac",
   "metadata": {},
   "source": [
    "## <center> Machine Learning Project\n",
    "## <center> Course: ML1    \n",
    "#### <center> Instructor: Dr. Tariq Mahmood\n",
    "\n",
    "### <center> Submitted By:\n",
    "## <center> Muhammad Uzair 29414\n",
    "#### <center> MS - Data Science (IBA)\n",
    "\n",
    "#### <center> Dataset - Dropout v Academic\n",
    "https://archive.ics.uci.edu/dataset/697/predict+students+dropout+and+academic+success"
   ]
  },
  {
   "cell_type": "markdown",
   "id": "6574dfec-919b-4a88-9b78-e0d788a6588b",
   "metadata": {},
   "source": [
    "# Imports"
   ]
  },
  {
   "cell_type": "code",
   "execution_count": 5,
   "id": "2da197a9-0f08-4fd7-af99-cf1dae47e51b",
   "metadata": {},
   "outputs": [],
   "source": [
    "import pandas as pd\n",
    "import numpy as np\n",
    "import matplotlib.pyplot as plt\n",
    "import seaborn as sns\n",
    "from sklearn.model_selection import train_test_split, cross_val_score\n",
    "from sklearn.preprocessing import StandardScaler, LabelEncoder, OneHotEncoder\n",
    "from sklearn.compose import ColumnTransformer\n",
    "from sklearn.pipeline import Pipeline\n",
    "from sklearn.metrics import classification_report, roc_auc_score, roc_curve, accuracy_score, auc, mean_squared_error, mean_absolute_error, r2_score\n",
    "from sklearn.decomposition import PCA\n",
    "from sklearn.neighbors import KNeighborsClassifier, KNeighborsRegressor\n",
    "from sklearn.svm import SVC\n",
    "from sklearn.tree import DecisionTreeClassifier\n",
    "from sklearn.linear_model import LogisticRegression\n",
    "from sklearn.ensemble import RandomForestClassifier, GradientBoostingClassifier\n",
    "from imblearn.ensemble import BalancedRandomForestClassifier\n",
    "from imblearn.over_sampling import RandomOverSampler\n",
    "from imblearn.under_sampling import RandomUnderSampler\n",
    "from sklearn.naive_bayes import GaussianNB\n",
    "from sklearn.utils.class_weight import compute_class_weight\n",
    "from imblearn.ensemble import EasyEnsembleClassifier\n",
    "from sklearn.ensemble import IsolationForest\n",
    "from sklearn.svm import OneClassSVM\n",
    "from imblearn.over_sampling import SMOTE\n"
   ]
  },
  {
   "cell_type": "markdown",
   "id": "79427b0d-906d-444f-b7db-96f5757f3b6b",
   "metadata": {},
   "source": [
    "# Functions"
   ]
  },
  {
   "cell_type": "code",
   "execution_count": 197,
   "id": "ef1f7758-54a2-4b2f-bf60-85f8a915e68c",
   "metadata": {},
   "outputs": [],
   "source": [
    "def load_data(filepath):\n",
    "    df = pd.read_csv(filepath, sep=';')\n",
    "    return df\n",
    "\n",
    "def class_label(df):\n",
    "    # Assuming your dataset is stored in a variable called 'df'\n",
    "    df['Target'] = df['Target'].replace({'Graduate': 1, 'Dropout': 0,'Enrolled':2})\n",
    "    return df\n",
    "\n",
    "def clean_data(df):\n",
    "    df_cleaned = df.dropna()\n",
    "    return df_cleaned\n",
    "\n",
    "def transform_data(df):\n",
    "    scaler = StandardScaler()\n",
    "    numerical_cols = df.select_dtypes(include=['float64']).columns\n",
    "    df[numerical_cols] = scaler.fit_transform(df[numerical_cols])\n",
    "    return df\n",
    "\n",
    "def eda(df):\n",
    "    summary_stats = df.describe()\n",
    "    float_cols = df.select_dtypes(include=['float64']).columns\n",
    "    \n",
    "    num_cols = len(float_cols)\n",
    "    num_rows = (num_cols + 2) // 3\n",
    "    \n",
    "    plt.figure(figsize=(12, 8))\n",
    "    for i, col in enumerate(float_cols):\n",
    "        plt.subplot(num_rows, 3, i+1)\n",
    "        sns.histplot(df[col], kde=True)\n",
    "        plt.title(f'Histogram of {col}')\n",
    "    plt.tight_layout()\n",
    "    plt.show()\n",
    "    \n",
    "    plt.figure(figsize=(12, 8))\n",
    "    for i, col in enumerate(float_cols):\n",
    "        plt.subplot(num_rows, 3, i+1)\n",
    "        sns.boxplot(y=df[col])\n",
    "        plt.title(f'Boxplot of {col}')\n",
    "    plt.tight_layout()\n",
    "    plt.show()\n",
    "\n",
    "\n",
    "def manual_split(df, target_column):\n",
    "    if isinstance(target_column, list):\n",
    "        target_column = target_column[0]\n",
    "    \n",
    "    # One-hot encoding for categorical features\n",
    "    categorical_cols = df.select_dtypes(include=['object']).columns.tolist()\n",
    "    # Check if the target column is in the list of categorical columns\n",
    "    if target_column in categorical_cols:\n",
    "        # Remove the target column from the list of categorical columns\n",
    "        categorical_cols.remove(target_column)\n",
    "    # else:\n",
    "    #     print(f\"Target column '{target_column}' is not found in the DataFrame's categorical columns.\")\n",
    "    \n",
    "    # Perform one-hot encoding excluding the target column\n",
    "    df = pd.get_dummies(df, columns=categorical_cols)\n",
    "\n",
    "    # Label encoding for the target variable\n",
    "    label_encoder = LabelEncoder()\n",
    "    df[target_column] = label_encoder.fit_transform(df[target_column])\n",
    "\n",
    "    X_train, X_test, y_train, y_test = train_test_split(\n",
    "        df.drop(columns=[target_column]),\n",
    "        df[target_column],\n",
    "        test_size=0.3,\n",
    "        random_state=1\n",
    "    )\n",
    "    return X_train, X_test, y_train, y_test\n",
    "    \n",
    "def cv_scores(model,X_train, y_train):  \n",
    "    # Example: KNN Classifier\n",
    "    cv_scores = cross_val_score(model, X_train, y_train, cv=5, scoring='accuracy')\n",
    "    return cv_scores\n",
    "    \n",
    "def train_model(model,X_train,y_train):\n",
    "    model.fit(X_train, y_train)\n",
    "\n",
    "def evaluate_model(model,X_test,y_test):\n",
    "    y_pred = model.predict(X_test)\n",
    "    accuracy = accuracy_score(y_test, y_pred)\n",
    "    classification_rep = classification_report(y_test, y_pred, output_dict=True)\n",
    "    \n",
    "    if len(np.unique(y_test)) > 2:\n",
    "        roc_auc = roc_auc_score(y_test, model.predict_proba(X_test), multi_class='ovr')\n",
    "    else:\n",
    "        roc_auc = roc_auc_score(y_test, model.predict_proba(X_test)[:, 1])\n",
    "\n",
    "    return accuracy, classification_rep, roc_auc"
   ]
  },
  {
   "cell_type": "markdown",
   "id": "7c1b0aea-712e-4552-8f35-aa9588e96bb9",
   "metadata": {},
   "source": [
    "# without CI"
   ]
  },
  {
   "cell_type": "markdown",
   "id": "bca7bc67-d03a-419c-a696-13181492a350",
   "metadata": {},
   "source": [
    "## Master Pipeline"
   ]
  },
  {
   "cell_type": "code",
   "execution_count": 189,
   "id": "00265656-1db3-4bbe-b4fd-f9faa9e92e10",
   "metadata": {},
   "outputs": [],
   "source": [
    "def master_pipeline(filepath, target):\n",
    "    df = load_data(filepath)\n",
    "    df = class_label(df)\n",
    "    df = clean_data(df)\n",
    "    df = transform_data(df)\n",
    "    # eda(df)\n",
    "    X_train, X_test, y_train, y_test = manual_split(df, target)\n",
    "    \n",
    "    # Model selection\n",
    "    model = model_selection()\n",
    "\n",
    "    # Train model without cross-validation\n",
    "    print(\"\\nTraining model without cross-validation...\")\n",
    "    train_model(model, X_train, y_train)\n",
    "\n",
    "    # Evaluate model without cross-validation\n",
    "    print(\"\\nEvaluating model without cross-validation...\")\n",
    "    acc_without_cv, class_rep_without_cv, roc_auc_without_cv = evaluate_model(model, X_test, y_test)\n",
    "\n",
    "    print(\"\\nResults without Cross-Validation:\")\n",
    "    print(f\"F1 +ve: {class_rep_without_cv['1']['f1-score']:.3f}\")\n",
    "    print(f\"F1 -ve: {class_rep_without_cv['0']['f1-score']:.3f}\")\n",
    "    print(f\"AUC: {roc_auc_without_cv:.3f}\")\n",
    "    print(f\"Accuracy: {acc_without_cv:.3f}\")\n",
    "\n",
    "    # Model selection with cross-validation\n",
    "    print(\"\\nTraining and evaluating model with cross-validation...\")\n",
    "    cv_scores_list = cv_scores(model, X_train, y_train)\n",
    "\n",
    "    # Report cross-validation scores\n",
    "    print(\"\\nCross-Validation Scores:\")\n",
    "    for i, score in enumerate(cv_scores_list):\n",
    "        print(f\"Fold {i+1}: {score:.3f}\")\n",
    "\n",
    "    # Train model with all data\n",
    "    print(\"\\nTraining model with all data...\")\n",
    "    model.fit(X_train, y_train)\n",
    "\n",
    "    # Evaluate model with all data\n",
    "    print(\"\\nEvaluating model with all data...\")\n",
    "    acc_with_all_data, class_rep_with_all_data, roc_auc_with_all_data = evaluate_model(model, X_test, y_test)\n",
    "\n",
    "    print(\"\\nResults with All Data:\")\n",
    "    print(f\"F1 +ve: {class_rep_with_all_data['1']['f1-score']:.3f}\")\n",
    "    print(f\"F1 -ve: {class_rep_with_all_data['0']['f1-score']:.3f}\")\n",
    "    print(f\"AUC: {roc_auc_with_all_data:.3f}\")\n",
    "    print(f\"Accuracy: {acc_with_all_data:.3f}\")"
   ]
  },
  {
   "cell_type": "code",
   "execution_count": null,
   "id": "bb16580a-3ef5-4d5e-91b5-5ca5cc3384fa",
   "metadata": {},
   "outputs": [],
   "source": []
  },
  {
   "cell_type": "code",
   "execution_count": 6,
   "id": "c1426dae-91a7-48f2-ba6f-82b9324dc109",
   "metadata": {},
   "outputs": [],
   "source": [
    "# file path\n",
    "filepath = 'dropout v academic.csv'\n",
    "target = 'Target'\n",
    "\n",
    "df1 = pd.read_csv(filepath, sep=';')\n",
    "\n"
   ]
  },
  {
   "cell_type": "code",
   "execution_count": 7,
   "id": "8c16fb2b-ccde-4ce3-a30d-3edc24e849e8",
   "metadata": {},
   "outputs": [
    {
     "data": {
      "text/html": [
       "<div>\n",
       "<style scoped>\n",
       "    .dataframe tbody tr th:only-of-type {\n",
       "        vertical-align: middle;\n",
       "    }\n",
       "\n",
       "    .dataframe tbody tr th {\n",
       "        vertical-align: top;\n",
       "    }\n",
       "\n",
       "    .dataframe thead th {\n",
       "        text-align: right;\n",
       "    }\n",
       "</style>\n",
       "<table border=\"1\" class=\"dataframe\">\n",
       "  <thead>\n",
       "    <tr style=\"text-align: right;\">\n",
       "      <th></th>\n",
       "      <th>Marital status</th>\n",
       "      <th>Application mode</th>\n",
       "      <th>Application order</th>\n",
       "      <th>Course</th>\n",
       "      <th>Daytime/evening attendance\\t</th>\n",
       "      <th>Previous qualification</th>\n",
       "      <th>Previous qualification (grade)</th>\n",
       "      <th>Nacionality</th>\n",
       "      <th>Mother's qualification</th>\n",
       "      <th>Father's qualification</th>\n",
       "      <th>...</th>\n",
       "      <th>Curricular units 2nd sem (credited)</th>\n",
       "      <th>Curricular units 2nd sem (enrolled)</th>\n",
       "      <th>Curricular units 2nd sem (evaluations)</th>\n",
       "      <th>Curricular units 2nd sem (approved)</th>\n",
       "      <th>Curricular units 2nd sem (grade)</th>\n",
       "      <th>Curricular units 2nd sem (without evaluations)</th>\n",
       "      <th>Unemployment rate</th>\n",
       "      <th>Inflation rate</th>\n",
       "      <th>GDP</th>\n",
       "      <th>Target</th>\n",
       "    </tr>\n",
       "  </thead>\n",
       "  <tbody>\n",
       "    <tr>\n",
       "      <th>0</th>\n",
       "      <td>1</td>\n",
       "      <td>17</td>\n",
       "      <td>5</td>\n",
       "      <td>171</td>\n",
       "      <td>1</td>\n",
       "      <td>1</td>\n",
       "      <td>122.0</td>\n",
       "      <td>1</td>\n",
       "      <td>19</td>\n",
       "      <td>12</td>\n",
       "      <td>...</td>\n",
       "      <td>0</td>\n",
       "      <td>0</td>\n",
       "      <td>0</td>\n",
       "      <td>0</td>\n",
       "      <td>0.000000</td>\n",
       "      <td>0</td>\n",
       "      <td>10.8</td>\n",
       "      <td>1.4</td>\n",
       "      <td>1.74</td>\n",
       "      <td>Dropout</td>\n",
       "    </tr>\n",
       "    <tr>\n",
       "      <th>1</th>\n",
       "      <td>1</td>\n",
       "      <td>15</td>\n",
       "      <td>1</td>\n",
       "      <td>9254</td>\n",
       "      <td>1</td>\n",
       "      <td>1</td>\n",
       "      <td>160.0</td>\n",
       "      <td>1</td>\n",
       "      <td>1</td>\n",
       "      <td>3</td>\n",
       "      <td>...</td>\n",
       "      <td>0</td>\n",
       "      <td>6</td>\n",
       "      <td>6</td>\n",
       "      <td>6</td>\n",
       "      <td>13.666667</td>\n",
       "      <td>0</td>\n",
       "      <td>13.9</td>\n",
       "      <td>-0.3</td>\n",
       "      <td>0.79</td>\n",
       "      <td>Graduate</td>\n",
       "    </tr>\n",
       "    <tr>\n",
       "      <th>2</th>\n",
       "      <td>1</td>\n",
       "      <td>1</td>\n",
       "      <td>5</td>\n",
       "      <td>9070</td>\n",
       "      <td>1</td>\n",
       "      <td>1</td>\n",
       "      <td>122.0</td>\n",
       "      <td>1</td>\n",
       "      <td>37</td>\n",
       "      <td>37</td>\n",
       "      <td>...</td>\n",
       "      <td>0</td>\n",
       "      <td>6</td>\n",
       "      <td>0</td>\n",
       "      <td>0</td>\n",
       "      <td>0.000000</td>\n",
       "      <td>0</td>\n",
       "      <td>10.8</td>\n",
       "      <td>1.4</td>\n",
       "      <td>1.74</td>\n",
       "      <td>Dropout</td>\n",
       "    </tr>\n",
       "    <tr>\n",
       "      <th>3</th>\n",
       "      <td>1</td>\n",
       "      <td>17</td>\n",
       "      <td>2</td>\n",
       "      <td>9773</td>\n",
       "      <td>1</td>\n",
       "      <td>1</td>\n",
       "      <td>122.0</td>\n",
       "      <td>1</td>\n",
       "      <td>38</td>\n",
       "      <td>37</td>\n",
       "      <td>...</td>\n",
       "      <td>0</td>\n",
       "      <td>6</td>\n",
       "      <td>10</td>\n",
       "      <td>5</td>\n",
       "      <td>12.400000</td>\n",
       "      <td>0</td>\n",
       "      <td>9.4</td>\n",
       "      <td>-0.8</td>\n",
       "      <td>-3.12</td>\n",
       "      <td>Graduate</td>\n",
       "    </tr>\n",
       "    <tr>\n",
       "      <th>4</th>\n",
       "      <td>2</td>\n",
       "      <td>39</td>\n",
       "      <td>1</td>\n",
       "      <td>8014</td>\n",
       "      <td>0</td>\n",
       "      <td>1</td>\n",
       "      <td>100.0</td>\n",
       "      <td>1</td>\n",
       "      <td>37</td>\n",
       "      <td>38</td>\n",
       "      <td>...</td>\n",
       "      <td>0</td>\n",
       "      <td>6</td>\n",
       "      <td>6</td>\n",
       "      <td>6</td>\n",
       "      <td>13.000000</td>\n",
       "      <td>0</td>\n",
       "      <td>13.9</td>\n",
       "      <td>-0.3</td>\n",
       "      <td>0.79</td>\n",
       "      <td>Graduate</td>\n",
       "    </tr>\n",
       "    <tr>\n",
       "      <th>...</th>\n",
       "      <td>...</td>\n",
       "      <td>...</td>\n",
       "      <td>...</td>\n",
       "      <td>...</td>\n",
       "      <td>...</td>\n",
       "      <td>...</td>\n",
       "      <td>...</td>\n",
       "      <td>...</td>\n",
       "      <td>...</td>\n",
       "      <td>...</td>\n",
       "      <td>...</td>\n",
       "      <td>...</td>\n",
       "      <td>...</td>\n",
       "      <td>...</td>\n",
       "      <td>...</td>\n",
       "      <td>...</td>\n",
       "      <td>...</td>\n",
       "      <td>...</td>\n",
       "      <td>...</td>\n",
       "      <td>...</td>\n",
       "      <td>...</td>\n",
       "    </tr>\n",
       "    <tr>\n",
       "      <th>4419</th>\n",
       "      <td>1</td>\n",
       "      <td>1</td>\n",
       "      <td>6</td>\n",
       "      <td>9773</td>\n",
       "      <td>1</td>\n",
       "      <td>1</td>\n",
       "      <td>125.0</td>\n",
       "      <td>1</td>\n",
       "      <td>1</td>\n",
       "      <td>1</td>\n",
       "      <td>...</td>\n",
       "      <td>0</td>\n",
       "      <td>6</td>\n",
       "      <td>8</td>\n",
       "      <td>5</td>\n",
       "      <td>12.666667</td>\n",
       "      <td>0</td>\n",
       "      <td>15.5</td>\n",
       "      <td>2.8</td>\n",
       "      <td>-4.06</td>\n",
       "      <td>Graduate</td>\n",
       "    </tr>\n",
       "    <tr>\n",
       "      <th>4420</th>\n",
       "      <td>1</td>\n",
       "      <td>1</td>\n",
       "      <td>2</td>\n",
       "      <td>9773</td>\n",
       "      <td>1</td>\n",
       "      <td>1</td>\n",
       "      <td>120.0</td>\n",
       "      <td>105</td>\n",
       "      <td>1</td>\n",
       "      <td>1</td>\n",
       "      <td>...</td>\n",
       "      <td>0</td>\n",
       "      <td>6</td>\n",
       "      <td>6</td>\n",
       "      <td>2</td>\n",
       "      <td>11.000000</td>\n",
       "      <td>0</td>\n",
       "      <td>11.1</td>\n",
       "      <td>0.6</td>\n",
       "      <td>2.02</td>\n",
       "      <td>Dropout</td>\n",
       "    </tr>\n",
       "    <tr>\n",
       "      <th>4421</th>\n",
       "      <td>1</td>\n",
       "      <td>1</td>\n",
       "      <td>1</td>\n",
       "      <td>9500</td>\n",
       "      <td>1</td>\n",
       "      <td>1</td>\n",
       "      <td>154.0</td>\n",
       "      <td>1</td>\n",
       "      <td>37</td>\n",
       "      <td>37</td>\n",
       "      <td>...</td>\n",
       "      <td>0</td>\n",
       "      <td>8</td>\n",
       "      <td>9</td>\n",
       "      <td>1</td>\n",
       "      <td>13.500000</td>\n",
       "      <td>0</td>\n",
       "      <td>13.9</td>\n",
       "      <td>-0.3</td>\n",
       "      <td>0.79</td>\n",
       "      <td>Dropout</td>\n",
       "    </tr>\n",
       "    <tr>\n",
       "      <th>4422</th>\n",
       "      <td>1</td>\n",
       "      <td>1</td>\n",
       "      <td>1</td>\n",
       "      <td>9147</td>\n",
       "      <td>1</td>\n",
       "      <td>1</td>\n",
       "      <td>180.0</td>\n",
       "      <td>1</td>\n",
       "      <td>37</td>\n",
       "      <td>37</td>\n",
       "      <td>...</td>\n",
       "      <td>0</td>\n",
       "      <td>5</td>\n",
       "      <td>6</td>\n",
       "      <td>5</td>\n",
       "      <td>12.000000</td>\n",
       "      <td>0</td>\n",
       "      <td>9.4</td>\n",
       "      <td>-0.8</td>\n",
       "      <td>-3.12</td>\n",
       "      <td>Graduate</td>\n",
       "    </tr>\n",
       "    <tr>\n",
       "      <th>4423</th>\n",
       "      <td>1</td>\n",
       "      <td>10</td>\n",
       "      <td>1</td>\n",
       "      <td>9773</td>\n",
       "      <td>1</td>\n",
       "      <td>1</td>\n",
       "      <td>152.0</td>\n",
       "      <td>22</td>\n",
       "      <td>38</td>\n",
       "      <td>37</td>\n",
       "      <td>...</td>\n",
       "      <td>0</td>\n",
       "      <td>6</td>\n",
       "      <td>6</td>\n",
       "      <td>6</td>\n",
       "      <td>13.000000</td>\n",
       "      <td>0</td>\n",
       "      <td>12.7</td>\n",
       "      <td>3.7</td>\n",
       "      <td>-1.70</td>\n",
       "      <td>Graduate</td>\n",
       "    </tr>\n",
       "  </tbody>\n",
       "</table>\n",
       "<p>4424 rows × 37 columns</p>\n",
       "</div>"
      ],
      "text/plain": [
       "      Marital status  Application mode  Application order  Course  \\\n",
       "0                  1                17                  5     171   \n",
       "1                  1                15                  1    9254   \n",
       "2                  1                 1                  5    9070   \n",
       "3                  1                17                  2    9773   \n",
       "4                  2                39                  1    8014   \n",
       "...              ...               ...                ...     ...   \n",
       "4419               1                 1                  6    9773   \n",
       "4420               1                 1                  2    9773   \n",
       "4421               1                 1                  1    9500   \n",
       "4422               1                 1                  1    9147   \n",
       "4423               1                10                  1    9773   \n",
       "\n",
       "      Daytime/evening attendance\\t  Previous qualification  \\\n",
       "0                                1                       1   \n",
       "1                                1                       1   \n",
       "2                                1                       1   \n",
       "3                                1                       1   \n",
       "4                                0                       1   \n",
       "...                            ...                     ...   \n",
       "4419                             1                       1   \n",
       "4420                             1                       1   \n",
       "4421                             1                       1   \n",
       "4422                             1                       1   \n",
       "4423                             1                       1   \n",
       "\n",
       "      Previous qualification (grade)  Nacionality  Mother's qualification  \\\n",
       "0                              122.0            1                      19   \n",
       "1                              160.0            1                       1   \n",
       "2                              122.0            1                      37   \n",
       "3                              122.0            1                      38   \n",
       "4                              100.0            1                      37   \n",
       "...                              ...          ...                     ...   \n",
       "4419                           125.0            1                       1   \n",
       "4420                           120.0          105                       1   \n",
       "4421                           154.0            1                      37   \n",
       "4422                           180.0            1                      37   \n",
       "4423                           152.0           22                      38   \n",
       "\n",
       "      Father's qualification  ...  Curricular units 2nd sem (credited)  \\\n",
       "0                         12  ...                                    0   \n",
       "1                          3  ...                                    0   \n",
       "2                         37  ...                                    0   \n",
       "3                         37  ...                                    0   \n",
       "4                         38  ...                                    0   \n",
       "...                      ...  ...                                  ...   \n",
       "4419                       1  ...                                    0   \n",
       "4420                       1  ...                                    0   \n",
       "4421                      37  ...                                    0   \n",
       "4422                      37  ...                                    0   \n",
       "4423                      37  ...                                    0   \n",
       "\n",
       "      Curricular units 2nd sem (enrolled)  \\\n",
       "0                                       0   \n",
       "1                                       6   \n",
       "2                                       6   \n",
       "3                                       6   \n",
       "4                                       6   \n",
       "...                                   ...   \n",
       "4419                                    6   \n",
       "4420                                    6   \n",
       "4421                                    8   \n",
       "4422                                    5   \n",
       "4423                                    6   \n",
       "\n",
       "      Curricular units 2nd sem (evaluations)  \\\n",
       "0                                          0   \n",
       "1                                          6   \n",
       "2                                          0   \n",
       "3                                         10   \n",
       "4                                          6   \n",
       "...                                      ...   \n",
       "4419                                       8   \n",
       "4420                                       6   \n",
       "4421                                       9   \n",
       "4422                                       6   \n",
       "4423                                       6   \n",
       "\n",
       "      Curricular units 2nd sem (approved)  Curricular units 2nd sem (grade)  \\\n",
       "0                                       0                          0.000000   \n",
       "1                                       6                         13.666667   \n",
       "2                                       0                          0.000000   \n",
       "3                                       5                         12.400000   \n",
       "4                                       6                         13.000000   \n",
       "...                                   ...                               ...   \n",
       "4419                                    5                         12.666667   \n",
       "4420                                    2                         11.000000   \n",
       "4421                                    1                         13.500000   \n",
       "4422                                    5                         12.000000   \n",
       "4423                                    6                         13.000000   \n",
       "\n",
       "      Curricular units 2nd sem (without evaluations)  Unemployment rate  \\\n",
       "0                                                  0               10.8   \n",
       "1                                                  0               13.9   \n",
       "2                                                  0               10.8   \n",
       "3                                                  0                9.4   \n",
       "4                                                  0               13.9   \n",
       "...                                              ...                ...   \n",
       "4419                                               0               15.5   \n",
       "4420                                               0               11.1   \n",
       "4421                                               0               13.9   \n",
       "4422                                               0                9.4   \n",
       "4423                                               0               12.7   \n",
       "\n",
       "      Inflation rate   GDP    Target  \n",
       "0                1.4  1.74   Dropout  \n",
       "1               -0.3  0.79  Graduate  \n",
       "2                1.4  1.74   Dropout  \n",
       "3               -0.8 -3.12  Graduate  \n",
       "4               -0.3  0.79  Graduate  \n",
       "...              ...   ...       ...  \n",
       "4419             2.8 -4.06  Graduate  \n",
       "4420             0.6  2.02   Dropout  \n",
       "4421            -0.3  0.79   Dropout  \n",
       "4422            -0.8 -3.12  Graduate  \n",
       "4423             3.7 -1.70  Graduate  \n",
       "\n",
       "[4424 rows x 37 columns]"
      ]
     },
     "execution_count": 7,
     "metadata": {},
     "output_type": "execute_result"
    }
   ],
   "source": [
    "df1"
   ]
  },
  {
   "cell_type": "code",
   "execution_count": 191,
   "id": "28e543a4-da1b-4edb-b3a5-031c26c730b4",
   "metadata": {},
   "outputs": [
    {
     "data": {
      "text/plain": [
       "Target\n",
       "Graduate    2209\n",
       "Dropout     1421\n",
       "Enrolled     794\n",
       "Name: count, dtype: int64"
      ]
     },
     "execution_count": 191,
     "metadata": {},
     "output_type": "execute_result"
    }
   ],
   "source": [
    "df1['Target'].value_counts()"
   ]
  },
  {
   "cell_type": "code",
   "execution_count": 199,
   "id": "1e52e869-a105-4e09-8434-d6d1997bf4f4",
   "metadata": {},
   "outputs": [
    {
     "data": {
      "text/plain": [
       "Marital status                                      int64\n",
       "Application mode                                    int64\n",
       "Application order                                   int64\n",
       "Course                                              int64\n",
       "Daytime/evening attendance\\t                        int64\n",
       "Previous qualification                              int64\n",
       "Previous qualification (grade)                    float64\n",
       "Nacionality                                         int64\n",
       "Mother's qualification                              int64\n",
       "Father's qualification                              int64\n",
       "Mother's occupation                                 int64\n",
       "Father's occupation                                 int64\n",
       "Admission grade                                   float64\n",
       "Displaced                                           int64\n",
       "Educational special needs                           int64\n",
       "Debtor                                              int64\n",
       "Tuition fees up to date                             int64\n",
       "Gender                                              int64\n",
       "Scholarship holder                                  int64\n",
       "Age at enrollment                                   int64\n",
       "International                                       int64\n",
       "Curricular units 1st sem (credited)                 int64\n",
       "Curricular units 1st sem (enrolled)                 int64\n",
       "Curricular units 1st sem (evaluations)              int64\n",
       "Curricular units 1st sem (approved)                 int64\n",
       "Curricular units 1st sem (grade)                  float64\n",
       "Curricular units 1st sem (without evaluations)      int64\n",
       "Curricular units 2nd sem (credited)                 int64\n",
       "Curricular units 2nd sem (enrolled)                 int64\n",
       "Curricular units 2nd sem (evaluations)              int64\n",
       "Curricular units 2nd sem (approved)                 int64\n",
       "Curricular units 2nd sem (grade)                  float64\n",
       "Curricular units 2nd sem (without evaluations)      int64\n",
       "Unemployment rate                                 float64\n",
       "Inflation rate                                    float64\n",
       "GDP                                               float64\n",
       "Target                                             object\n",
       "dtype: object"
      ]
     },
     "execution_count": 199,
     "metadata": {},
     "output_type": "execute_result"
    }
   ],
   "source": [
    "df1.dtypes"
   ]
  },
  {
   "cell_type": "markdown",
   "id": "f2cefe6d-97c0-4311-bc47-b04a75ecf5ef",
   "metadata": {},
   "source": [
    "## Logistic Regression"
   ]
  },
  {
   "cell_type": "code",
   "execution_count": 195,
   "id": "ed21c544-6cdd-4f9b-ac49-aae75ef696a7",
   "metadata": {},
   "outputs": [],
   "source": [
    "def model_selection():\n",
    "    model = LogisticRegression(max_iter = 1000000)\n",
    "    print ('Logistic Regression')\n",
    "    return model"
   ]
  },
  {
   "cell_type": "code",
   "execution_count": 196,
   "id": "595d6068-67fe-4e02-b41a-5474b162882b",
   "metadata": {
    "scrolled": true
   },
   "outputs": [
    {
     "name": "stderr",
     "output_type": "stream",
     "text": [
      "C:\\Users\\uzairmuh\\AppData\\Local\\Temp\\ipykernel_14436\\758360173.py:7: FutureWarning: Downcasting behavior in `replace` is deprecated and will be removed in a future version. To retain the old behavior, explicitly call `result.infer_objects(copy=False)`. To opt-in to the future behavior, set `pd.set_option('future.no_silent_downcasting', True)`\n",
      "  df['Target'] = df['Target'].replace({'Graduate': 1, 'Dropout': 0,'Enrolled':2})\n"
     ]
    },
    {
     "name": "stdout",
     "output_type": "stream",
     "text": [
      "Logistic Regression\n",
      "\n",
      "Training model without cross-validation...\n"
     ]
    },
    {
     "name": "stderr",
     "output_type": "stream",
     "text": [
      "C:\\Users\\uzairmuh\\AppData\\Local\\Programs\\Python\\Python312\\Lib\\site-packages\\sklearn\\linear_model\\_logistic.py:469: ConvergenceWarning: lbfgs failed to converge (status=1):\n",
      "STOP: TOTAL NO. of f AND g EVALUATIONS EXCEEDS LIMIT.\n",
      "\n",
      "Increase the number of iterations (max_iter) or scale the data as shown in:\n",
      "    https://scikit-learn.org/stable/modules/preprocessing.html\n",
      "Please also refer to the documentation for alternative solver options:\n",
      "    https://scikit-learn.org/stable/modules/linear_model.html#logistic-regression\n",
      "  n_iter_i = _check_optimize_result(\n"
     ]
    },
    {
     "name": "stdout",
     "output_type": "stream",
     "text": [
      "\n",
      "Evaluating model without cross-validation...\n",
      "\n",
      "Results without Cross-Validation:\n",
      "F1 +ve: 0.857\n",
      "F1 -ve: 0.792\n",
      "AUC: 0.889\n",
      "Accuracy: 0.769\n",
      "\n",
      "Training and evaluating model with cross-validation...\n"
     ]
    },
    {
     "name": "stderr",
     "output_type": "stream",
     "text": [
      "C:\\Users\\uzairmuh\\AppData\\Local\\Programs\\Python\\Python312\\Lib\\site-packages\\sklearn\\linear_model\\_logistic.py:469: ConvergenceWarning: lbfgs failed to converge (status=1):\n",
      "STOP: TOTAL NO. of f AND g EVALUATIONS EXCEEDS LIMIT.\n",
      "\n",
      "Increase the number of iterations (max_iter) or scale the data as shown in:\n",
      "    https://scikit-learn.org/stable/modules/preprocessing.html\n",
      "Please also refer to the documentation for alternative solver options:\n",
      "    https://scikit-learn.org/stable/modules/linear_model.html#logistic-regression\n",
      "  n_iter_i = _check_optimize_result(\n",
      "C:\\Users\\uzairmuh\\AppData\\Local\\Programs\\Python\\Python312\\Lib\\site-packages\\sklearn\\linear_model\\_logistic.py:469: ConvergenceWarning: lbfgs failed to converge (status=1):\n",
      "STOP: TOTAL NO. of f AND g EVALUATIONS EXCEEDS LIMIT.\n",
      "\n",
      "Increase the number of iterations (max_iter) or scale the data as shown in:\n",
      "    https://scikit-learn.org/stable/modules/preprocessing.html\n",
      "Please also refer to the documentation for alternative solver options:\n",
      "    https://scikit-learn.org/stable/modules/linear_model.html#logistic-regression\n",
      "  n_iter_i = _check_optimize_result(\n",
      "C:\\Users\\uzairmuh\\AppData\\Local\\Programs\\Python\\Python312\\Lib\\site-packages\\sklearn\\linear_model\\_logistic.py:469: ConvergenceWarning: lbfgs failed to converge (status=1):\n",
      "STOP: TOTAL NO. of f AND g EVALUATIONS EXCEEDS LIMIT.\n",
      "\n",
      "Increase the number of iterations (max_iter) or scale the data as shown in:\n",
      "    https://scikit-learn.org/stable/modules/preprocessing.html\n",
      "Please also refer to the documentation for alternative solver options:\n",
      "    https://scikit-learn.org/stable/modules/linear_model.html#logistic-regression\n",
      "  n_iter_i = _check_optimize_result(\n",
      "C:\\Users\\uzairmuh\\AppData\\Local\\Programs\\Python\\Python312\\Lib\\site-packages\\sklearn\\linear_model\\_logistic.py:469: ConvergenceWarning: lbfgs failed to converge (status=1):\n",
      "STOP: TOTAL NO. of f AND g EVALUATIONS EXCEEDS LIMIT.\n",
      "\n",
      "Increase the number of iterations (max_iter) or scale the data as shown in:\n",
      "    https://scikit-learn.org/stable/modules/preprocessing.html\n",
      "Please also refer to the documentation for alternative solver options:\n",
      "    https://scikit-learn.org/stable/modules/linear_model.html#logistic-regression\n",
      "  n_iter_i = _check_optimize_result(\n",
      "C:\\Users\\uzairmuh\\AppData\\Local\\Programs\\Python\\Python312\\Lib\\site-packages\\sklearn\\linear_model\\_logistic.py:469: ConvergenceWarning: lbfgs failed to converge (status=1):\n",
      "STOP: TOTAL NO. of f AND g EVALUATIONS EXCEEDS LIMIT.\n",
      "\n",
      "Increase the number of iterations (max_iter) or scale the data as shown in:\n",
      "    https://scikit-learn.org/stable/modules/preprocessing.html\n",
      "Please also refer to the documentation for alternative solver options:\n",
      "    https://scikit-learn.org/stable/modules/linear_model.html#logistic-regression\n",
      "  n_iter_i = _check_optimize_result(\n"
     ]
    },
    {
     "name": "stdout",
     "output_type": "stream",
     "text": [
      "\n",
      "Cross-Validation Scores:\n",
      "Fold 1: 0.771\n",
      "Fold 2: 0.740\n",
      "Fold 3: 0.746\n",
      "Fold 4: 0.771\n",
      "Fold 5: 0.780\n",
      "\n",
      "Training model with all data...\n",
      "\n",
      "Evaluating model with all data...\n",
      "\n",
      "Results with All Data:\n",
      "F1 +ve: 0.857\n",
      "F1 -ve: 0.792\n",
      "AUC: 0.889\n",
      "Accuracy: 0.769\n"
     ]
    },
    {
     "name": "stderr",
     "output_type": "stream",
     "text": [
      "C:\\Users\\uzairmuh\\AppData\\Local\\Programs\\Python\\Python312\\Lib\\site-packages\\sklearn\\linear_model\\_logistic.py:469: ConvergenceWarning: lbfgs failed to converge (status=1):\n",
      "STOP: TOTAL NO. of f AND g EVALUATIONS EXCEEDS LIMIT.\n",
      "\n",
      "Increase the number of iterations (max_iter) or scale the data as shown in:\n",
      "    https://scikit-learn.org/stable/modules/preprocessing.html\n",
      "Please also refer to the documentation for alternative solver options:\n",
      "    https://scikit-learn.org/stable/modules/linear_model.html#logistic-regression\n",
      "  n_iter_i = _check_optimize_result(\n"
     ]
    }
   ],
   "source": [
    "master_pipeline(filepath, target)"
   ]
  },
  {
   "cell_type": "markdown",
   "id": "f8eeb68e-7e09-4cc7-8443-a95fb65743ad",
   "metadata": {},
   "source": [
    "## Naive Bayes"
   ]
  },
  {
   "cell_type": "code",
   "execution_count": 139,
   "id": "a95928dd-f60a-404e-822c-58969adbd07b",
   "metadata": {},
   "outputs": [],
   "source": [
    "def model_selection():\n",
    "    model = GaussianNB()\n",
    "    print('Naive Bayes')\n",
    "    return model"
   ]
  },
  {
   "cell_type": "code",
   "execution_count": 140,
   "id": "b264756a-4346-4682-a929-1753b1ba1395",
   "metadata": {
    "scrolled": true
   },
   "outputs": [
    {
     "name": "stdout",
     "output_type": "stream",
     "text": [
      "Naive Bayes\n",
      "\n",
      "Training model without cross-validation...\n",
      "\n",
      "Evaluating model without cross-validation...\n",
      "\n",
      "Results without Cross-Validation:\n",
      "F1 +ve: 0.794\n",
      "F1 -ve: 0.721\n",
      "AUC: 0.798\n",
      "Accuracy: 0.695\n",
      "\n",
      "Training and evaluating model with cross-validation...\n",
      "\n",
      "Cross-Validation Scores:\n",
      "Fold 1: 0.705\n",
      "Fold 2: 0.669\n",
      "Fold 3: 0.658\n",
      "Fold 4: 0.711\n",
      "Fold 5: 0.700\n",
      "\n",
      "Training model with all data...\n",
      "\n",
      "Evaluating model with all data...\n",
      "\n",
      "Results with All Data:\n",
      "F1 +ve: 0.794\n",
      "F1 -ve: 0.721\n",
      "AUC: 0.798\n",
      "Accuracy: 0.695\n"
     ]
    },
    {
     "name": "stderr",
     "output_type": "stream",
     "text": [
      "C:\\Users\\uzairmuh\\AppData\\Local\\Temp\\ipykernel_14436\\758360173.py:7: FutureWarning: Downcasting behavior in `replace` is deprecated and will be removed in a future version. To retain the old behavior, explicitly call `result.infer_objects(copy=False)`. To opt-in to the future behavior, set `pd.set_option('future.no_silent_downcasting', True)`\n",
      "  df['Target'] = df['Target'].replace({'Graduate': 1, 'Dropout': 0,'Enrolled':2})\n"
     ]
    }
   ],
   "source": [
    "master_pipeline(filepath, target)"
   ]
  },
  {
   "cell_type": "markdown",
   "id": "1f65982f-f378-4711-9492-7e436ab9868c",
   "metadata": {},
   "source": [
    "## Decision Tree"
   ]
  },
  {
   "cell_type": "code",
   "execution_count": 143,
   "id": "1510a7a5-0f94-4946-976a-92ffb6eed6da",
   "metadata": {},
   "outputs": [],
   "source": [
    "def model_selection():\n",
    "    model = DecisionTreeClassifier()\n",
    "    print('Decision Tree')\n",
    "    return model"
   ]
  },
  {
   "cell_type": "code",
   "execution_count": 144,
   "id": "7e5778a6-a563-48f6-9de9-34f78f6adb93",
   "metadata": {
    "scrolled": true
   },
   "outputs": [
    {
     "name": "stdout",
     "output_type": "stream",
     "text": [
      "Decision Tree\n",
      "\n",
      "Training model without cross-validation...\n",
      "\n",
      "Evaluating model without cross-validation...\n",
      "\n",
      "Results without Cross-Validation:\n",
      "F1 +ve: 0.788\n",
      "F1 -ve: 0.682\n",
      "AUC: 0.727\n",
      "Accuracy: 0.682\n",
      "\n",
      "Training and evaluating model with cross-validation...\n"
     ]
    },
    {
     "name": "stderr",
     "output_type": "stream",
     "text": [
      "C:\\Users\\uzairmuh\\AppData\\Local\\Temp\\ipykernel_14436\\758360173.py:7: FutureWarning: Downcasting behavior in `replace` is deprecated and will be removed in a future version. To retain the old behavior, explicitly call `result.infer_objects(copy=False)`. To opt-in to the future behavior, set `pd.set_option('future.no_silent_downcasting', True)`\n",
      "  df['Target'] = df['Target'].replace({'Graduate': 1, 'Dropout': 0,'Enrolled':2})\n"
     ]
    },
    {
     "name": "stdout",
     "output_type": "stream",
     "text": [
      "\n",
      "Cross-Validation Scores:\n",
      "Fold 1: 0.660\n",
      "Fold 2: 0.649\n",
      "Fold 3: 0.658\n",
      "Fold 4: 0.667\n",
      "Fold 5: 0.670\n",
      "\n",
      "Training model with all data...\n",
      "\n",
      "Evaluating model with all data...\n",
      "\n",
      "Results with All Data:\n",
      "F1 +ve: 0.789\n",
      "F1 -ve: 0.692\n",
      "AUC: 0.730\n",
      "Accuracy: 0.684\n"
     ]
    }
   ],
   "source": [
    "master_pipeline(filepath,target)"
   ]
  },
  {
   "cell_type": "markdown",
   "id": "03dbab1e-339e-48c3-af14-bd5220a987db",
   "metadata": {},
   "source": [
    "## Random Forest Classifier"
   ]
  },
  {
   "cell_type": "code",
   "execution_count": 145,
   "id": "4d9d1308-7733-45f1-9701-4b74d819ac43",
   "metadata": {},
   "outputs": [],
   "source": [
    "def model_selection():\n",
    "    model = RandomForestClassifier()\n",
    "    print('Random Forest Classifier')\n",
    "    return model"
   ]
  },
  {
   "cell_type": "code",
   "execution_count": 146,
   "id": "feb18679-e382-4fc2-bba0-94b73293b87d",
   "metadata": {
    "scrolled": true
   },
   "outputs": [
    {
     "name": "stdout",
     "output_type": "stream",
     "text": [
      "Random Forest Classifier\n",
      "\n",
      "Training model without cross-validation...\n"
     ]
    },
    {
     "name": "stderr",
     "output_type": "stream",
     "text": [
      "C:\\Users\\uzairmuh\\AppData\\Local\\Temp\\ipykernel_14436\\758360173.py:7: FutureWarning: Downcasting behavior in `replace` is deprecated and will be removed in a future version. To retain the old behavior, explicitly call `result.infer_objects(copy=False)`. To opt-in to the future behavior, set `pd.set_option('future.no_silent_downcasting', True)`\n",
      "  df['Target'] = df['Target'].replace({'Graduate': 1, 'Dropout': 0,'Enrolled':2})\n"
     ]
    },
    {
     "name": "stdout",
     "output_type": "stream",
     "text": [
      "\n",
      "Evaluating model without cross-validation...\n",
      "\n",
      "Results without Cross-Validation:\n",
      "F1 +ve: 0.863\n",
      "F1 -ve: 0.798\n",
      "AUC: 0.893\n",
      "Accuracy: 0.780\n",
      "\n",
      "Training and evaluating model with cross-validation...\n",
      "\n",
      "Cross-Validation Scores:\n",
      "Fold 1: 0.774\n",
      "Fold 2: 0.750\n",
      "Fold 3: 0.753\n",
      "Fold 4: 0.764\n",
      "Fold 5: 0.763\n",
      "\n",
      "Training model with all data...\n",
      "\n",
      "Evaluating model with all data...\n",
      "\n",
      "Results with All Data:\n",
      "F1 +ve: 0.864\n",
      "F1 -ve: 0.795\n",
      "AUC: 0.891\n",
      "Accuracy: 0.782\n"
     ]
    }
   ],
   "source": [
    "master_pipeline(filepath, target)"
   ]
  },
  {
   "cell_type": "markdown",
   "id": "23c02a99-b099-4a99-a065-28f274ca2929",
   "metadata": {},
   "source": [
    "## Gradient Boosting Classifier"
   ]
  },
  {
   "cell_type": "code",
   "execution_count": 147,
   "id": "12c6ed22-281c-4467-bf88-cf1f1e0be66f",
   "metadata": {},
   "outputs": [],
   "source": [
    "def model_selection():\n",
    "    model = GradientBoostingClassifier()\n",
    "    print('Gradient Boosting Classifier')\n",
    "    return model"
   ]
  },
  {
   "cell_type": "code",
   "execution_count": 148,
   "id": "dfceb686-801a-4d25-ab39-ddc3da979212",
   "metadata": {
    "scrolled": true
   },
   "outputs": [
    {
     "name": "stdout",
     "output_type": "stream",
     "text": [
      "Gradient Boosting Classifier\n",
      "\n",
      "Training model without cross-validation...\n"
     ]
    },
    {
     "name": "stderr",
     "output_type": "stream",
     "text": [
      "C:\\Users\\uzairmuh\\AppData\\Local\\Temp\\ipykernel_14436\\758360173.py:7: FutureWarning: Downcasting behavior in `replace` is deprecated and will be removed in a future version. To retain the old behavior, explicitly call `result.infer_objects(copy=False)`. To opt-in to the future behavior, set `pd.set_option('future.no_silent_downcasting', True)`\n",
      "  df['Target'] = df['Target'].replace({'Graduate': 1, 'Dropout': 0,'Enrolled':2})\n"
     ]
    },
    {
     "name": "stdout",
     "output_type": "stream",
     "text": [
      "\n",
      "Evaluating model without cross-validation...\n",
      "\n",
      "Results without Cross-Validation:\n",
      "F1 +ve: 0.868\n",
      "F1 -ve: 0.793\n",
      "AUC: 0.899\n",
      "Accuracy: 0.787\n",
      "\n",
      "Training and evaluating model with cross-validation...\n",
      "\n",
      "Cross-Validation Scores:\n",
      "Fold 1: 0.773\n",
      "Fold 2: 0.740\n",
      "Fold 3: 0.754\n",
      "Fold 4: 0.758\n",
      "Fold 5: 0.769\n",
      "\n",
      "Training model with all data...\n",
      "\n",
      "Evaluating model with all data...\n",
      "\n",
      "Results with All Data:\n",
      "F1 +ve: 0.868\n",
      "F1 -ve: 0.793\n",
      "AUC: 0.899\n",
      "Accuracy: 0.787\n"
     ]
    }
   ],
   "source": [
    "master_pipeline(filepath, target)"
   ]
  },
  {
   "cell_type": "markdown",
   "id": "52d09c4d-5ef1-4013-afc5-a6f708b9561c",
   "metadata": {},
   "source": [
    "## Results"
   ]
  },
  {
   "cell_type": "markdown",
   "id": "666338d7-4b6a-4d16-8d6a-ef5d856b12c7",
   "metadata": {},
   "source": [
    "|          | Logistic Regression | Naïve Bayes | Decision Tree | Random Forest Classifier | Gradient Boosting |\r\n",
    "|------------------------|---------------------|-------------|---------------|--------------------------|-------------------|\r\n",
    "| F1 +ve                 | 0.439               | 0.443       | 0.479         | 0.503                    | 0.498             |\r\n",
    "| F1-ve                  | 0.946               | 0.913       | 0.930         | 0.949                    | 0.948             |\r\n",
    "| AUC                    | 0.907               | 0.806       | 0.711         | 0.929                    | 0.926             |\r\n",
    "| Accuracy               | 0.901               | 0.849       | 0.877         | 0.908                    | 0.906             |\r\n"
   ]
  },
  {
   "cell_type": "markdown",
   "id": "f15b98b3-f630-4aca-9c40-a8353eb8b1e8",
   "metadata": {},
   "source": [
    "# =====================================================\n",
    "# Class Imbalance - Resampling Method (Random Under Sampling)"
   ]
  },
  {
   "cell_type": "markdown",
   "id": "9aa56ffd-aacc-4055-a262-d397b8df0767",
   "metadata": {},
   "source": [
    "## Master Pipeline"
   ]
  },
  {
   "cell_type": "code",
   "execution_count": 149,
   "id": "f9b6481f-9e0d-4a9c-b330-bd1abdb27dbb",
   "metadata": {},
   "outputs": [],
   "source": [
    "def master_pipeline_with_resampling(filepath, target):\n",
    "    df = load_data(filepath)\n",
    "    df = class_label(df)\n",
    "    df = clean_data(df)\n",
    "    df = transform_data(df)\n",
    "    # eda(df)\n",
    "    \n",
    "    # Apply Random Undersampling\n",
    "    X_train, X_test, y_train, y_test = manual_split(df, target)\n",
    "    rus = RandomUnderSampler(random_state=1)\n",
    "    X_train_resampled, y_train_resampled = rus.fit_resample(X_train, y_train)\n",
    "    \n",
    "    # Model selection\n",
    "    model = model_selection()\n",
    "\n",
    "    # Train model without cross-validation\n",
    "    print(\"\\nTraining model without cross-validation...\")\n",
    "    train_model(model, X_train_resampled, y_train_resampled)\n",
    "\n",
    "    # Evaluate model without cross-validation\n",
    "    print(\"\\nEvaluating model without cross-validation...\")\n",
    "    acc_without_cv, class_rep_without_cv, roc_auc_without_cv = evaluate_model(model, X_test, y_test)\n",
    "\n",
    "    print(\"\\nResults without Cross-Validation:\")\n",
    "    print(f\"F1 +ve: {class_rep_without_cv['1']['f1-score']:.3f}\")\n",
    "    print(f\"F1 -ve: {class_rep_without_cv['0']['f1-score']:.3f}\")\n",
    "    print(f\"AUC: {roc_auc_without_cv:.3f}\")\n",
    "    print(f\"Accuracy: {acc_without_cv:.3f}\")\n",
    "\n",
    "    # Model selection with cross-validation\n",
    "    print(\"\\nTraining and evaluating model with cross-validation...\")\n",
    "    cv_scores_list = cv_scores(model, X_train_resampled, y_train_resampled)\n",
    "\n",
    "    # Report cross-validation scores\n",
    "    print(\"\\nCross-Validation Scores:\")\n",
    "    for i, score in enumerate(cv_scores_list):\n",
    "        print(f\"Fold {i+1}: {score:.3f}\")\n",
    "\n",
    "    # Train model with all data\n",
    "    print(\"\\nTraining model with all data...\")\n",
    "    model.fit(X_train_resampled, y_train_resampled)\n",
    "\n",
    "    # Evaluate model with all data\n",
    "    print(\"\\nEvaluating model with all data...\")\n",
    "    acc_with_all_data, class_rep_with_all_data, roc_auc_with_all_data = evaluate_model(model, X_test, y_test)\n",
    "\n",
    "    print(\"\\nResults with All Data:\")\n",
    "    print(f\"F1 +ve: {class_rep_with_all_data['1']['f1-score']:.3f}\")\n",
    "    print(f\"F1 -ve: {class_rep_with_all_data['0']['f1-score']:.3f}\")\n",
    "    print(f\"AUC: {roc_auc_with_all_data:.3f}\")\n",
    "    print(f\"Accuracy: {acc_with_all_data:.3f}\")\n",
    "\n",
    "\n"
   ]
  },
  {
   "cell_type": "markdown",
   "id": "7139131b-d511-428b-bc24-7c40ec507b10",
   "metadata": {},
   "source": [
    "## Logistic Regression with Random Under Sampling"
   ]
  },
  {
   "cell_type": "code",
   "execution_count": 152,
   "id": "2d50f9b0-3288-4a94-8eb7-3db94431c36f",
   "metadata": {},
   "outputs": [],
   "source": [
    "def model_selection():\n",
    "    model = LogisticRegression()\n",
    "    print ('Logistic Regression with Random Under Sampling')\n",
    "    return model"
   ]
  },
  {
   "cell_type": "code",
   "execution_count": 153,
   "id": "696c25c7-47b3-41a9-88ac-9a2cf260ec15",
   "metadata": {
    "scrolled": true
   },
   "outputs": [
    {
     "name": "stderr",
     "output_type": "stream",
     "text": [
      "C:\\Users\\uzairmuh\\AppData\\Local\\Temp\\ipykernel_14436\\758360173.py:7: FutureWarning: Downcasting behavior in `replace` is deprecated and will be removed in a future version. To retain the old behavior, explicitly call `result.infer_objects(copy=False)`. To opt-in to the future behavior, set `pd.set_option('future.no_silent_downcasting', True)`\n",
      "  df['Target'] = df['Target'].replace({'Graduate': 1, 'Dropout': 0,'Enrolled':2})\n",
      "C:\\Users\\uzairmuh\\AppData\\Local\\Programs\\Python\\Python312\\Lib\\site-packages\\sklearn\\linear_model\\_logistic.py:469: ConvergenceWarning: lbfgs failed to converge (status=1):\n",
      "STOP: TOTAL NO. of ITERATIONS REACHED LIMIT.\n",
      "\n",
      "Increase the number of iterations (max_iter) or scale the data as shown in:\n",
      "    https://scikit-learn.org/stable/modules/preprocessing.html\n",
      "Please also refer to the documentation for alternative solver options:\n",
      "    https://scikit-learn.org/stable/modules/linear_model.html#logistic-regression\n",
      "  n_iter_i = _check_optimize_result(\n",
      "C:\\Users\\uzairmuh\\AppData\\Local\\Programs\\Python\\Python312\\Lib\\site-packages\\sklearn\\linear_model\\_logistic.py:469: ConvergenceWarning: lbfgs failed to converge (status=1):\n",
      "STOP: TOTAL NO. of ITERATIONS REACHED LIMIT.\n",
      "\n",
      "Increase the number of iterations (max_iter) or scale the data as shown in:\n",
      "    https://scikit-learn.org/stable/modules/preprocessing.html\n",
      "Please also refer to the documentation for alternative solver options:\n",
      "    https://scikit-learn.org/stable/modules/linear_model.html#logistic-regression\n",
      "  n_iter_i = _check_optimize_result(\n"
     ]
    },
    {
     "name": "stdout",
     "output_type": "stream",
     "text": [
      "Logistic Regression with Random Under Sampling\n",
      "\n",
      "Training model without cross-validation...\n",
      "\n",
      "Evaluating model without cross-validation...\n",
      "\n",
      "Results without Cross-Validation:\n",
      "F1 +ve: 0.786\n",
      "F1 -ve: 0.657\n",
      "AUC: 0.793\n",
      "Accuracy: 0.671\n",
      "\n",
      "Training and evaluating model with cross-validation...\n"
     ]
    },
    {
     "name": "stderr",
     "output_type": "stream",
     "text": [
      "C:\\Users\\uzairmuh\\AppData\\Local\\Programs\\Python\\Python312\\Lib\\site-packages\\sklearn\\linear_model\\_logistic.py:469: ConvergenceWarning: lbfgs failed to converge (status=1):\n",
      "STOP: TOTAL NO. of ITERATIONS REACHED LIMIT.\n",
      "\n",
      "Increase the number of iterations (max_iter) or scale the data as shown in:\n",
      "    https://scikit-learn.org/stable/modules/preprocessing.html\n",
      "Please also refer to the documentation for alternative solver options:\n",
      "    https://scikit-learn.org/stable/modules/linear_model.html#logistic-regression\n",
      "  n_iter_i = _check_optimize_result(\n",
      "C:\\Users\\uzairmuh\\AppData\\Local\\Programs\\Python\\Python312\\Lib\\site-packages\\sklearn\\linear_model\\_logistic.py:469: ConvergenceWarning: lbfgs failed to converge (status=1):\n",
      "STOP: TOTAL NO. of ITERATIONS REACHED LIMIT.\n",
      "\n",
      "Increase the number of iterations (max_iter) or scale the data as shown in:\n",
      "    https://scikit-learn.org/stable/modules/preprocessing.html\n",
      "Please also refer to the documentation for alternative solver options:\n",
      "    https://scikit-learn.org/stable/modules/linear_model.html#logistic-regression\n",
      "  n_iter_i = _check_optimize_result(\n",
      "C:\\Users\\uzairmuh\\AppData\\Local\\Programs\\Python\\Python312\\Lib\\site-packages\\sklearn\\linear_model\\_logistic.py:469: ConvergenceWarning: lbfgs failed to converge (status=1):\n",
      "STOP: TOTAL NO. of ITERATIONS REACHED LIMIT.\n",
      "\n",
      "Increase the number of iterations (max_iter) or scale the data as shown in:\n",
      "    https://scikit-learn.org/stable/modules/preprocessing.html\n",
      "Please also refer to the documentation for alternative solver options:\n",
      "    https://scikit-learn.org/stable/modules/linear_model.html#logistic-regression\n",
      "  n_iter_i = _check_optimize_result(\n"
     ]
    },
    {
     "name": "stdout",
     "output_type": "stream",
     "text": [
      "\n",
      "Cross-Validation Scores:\n",
      "Fold 1: 0.566\n",
      "Fold 2: 0.645\n",
      "Fold 3: 0.581\n",
      "Fold 4: 0.578\n",
      "Fold 5: 0.625\n",
      "\n",
      "Training model with all data...\n",
      "\n",
      "Evaluating model with all data...\n",
      "\n",
      "Results with All Data:\n",
      "F1 +ve: 0.786\n",
      "F1 -ve: 0.657\n",
      "AUC: 0.793\n",
      "Accuracy: 0.671\n"
     ]
    },
    {
     "name": "stderr",
     "output_type": "stream",
     "text": [
      "C:\\Users\\uzairmuh\\AppData\\Local\\Programs\\Python\\Python312\\Lib\\site-packages\\sklearn\\linear_model\\_logistic.py:469: ConvergenceWarning: lbfgs failed to converge (status=1):\n",
      "STOP: TOTAL NO. of ITERATIONS REACHED LIMIT.\n",
      "\n",
      "Increase the number of iterations (max_iter) or scale the data as shown in:\n",
      "    https://scikit-learn.org/stable/modules/preprocessing.html\n",
      "Please also refer to the documentation for alternative solver options:\n",
      "    https://scikit-learn.org/stable/modules/linear_model.html#logistic-regression\n",
      "  n_iter_i = _check_optimize_result(\n",
      "C:\\Users\\uzairmuh\\AppData\\Local\\Programs\\Python\\Python312\\Lib\\site-packages\\sklearn\\linear_model\\_logistic.py:469: ConvergenceWarning: lbfgs failed to converge (status=1):\n",
      "STOP: TOTAL NO. of ITERATIONS REACHED LIMIT.\n",
      "\n",
      "Increase the number of iterations (max_iter) or scale the data as shown in:\n",
      "    https://scikit-learn.org/stable/modules/preprocessing.html\n",
      "Please also refer to the documentation for alternative solver options:\n",
      "    https://scikit-learn.org/stable/modules/linear_model.html#logistic-regression\n",
      "  n_iter_i = _check_optimize_result(\n"
     ]
    }
   ],
   "source": [
    "master_pipeline_with_resampling(filepath, target)"
   ]
  },
  {
   "cell_type": "markdown",
   "id": "5b3f26e1-b5d2-4891-bdb6-b6ceeef632a7",
   "metadata": {},
   "source": [
    "## Naive Bayes with Random Under Sampling"
   ]
  },
  {
   "cell_type": "code",
   "execution_count": 154,
   "id": "7c731826-ca5d-4006-ada8-17adb94d12a8",
   "metadata": {},
   "outputs": [],
   "source": [
    "def model_selection():\n",
    "    model = GaussianNB()\n",
    "    print('Naive Bayes with Random Under Sampling')\n",
    "    return model"
   ]
  },
  {
   "cell_type": "code",
   "execution_count": 155,
   "id": "c85d039f-ffe5-412f-b2c2-e11d9f92de7f",
   "metadata": {
    "scrolled": true
   },
   "outputs": [
    {
     "name": "stderr",
     "output_type": "stream",
     "text": [
      "C:\\Users\\uzairmuh\\AppData\\Local\\Temp\\ipykernel_14436\\758360173.py:7: FutureWarning: Downcasting behavior in `replace` is deprecated and will be removed in a future version. To retain the old behavior, explicitly call `result.infer_objects(copy=False)`. To opt-in to the future behavior, set `pd.set_option('future.no_silent_downcasting', True)`\n",
      "  df['Target'] = df['Target'].replace({'Graduate': 1, 'Dropout': 0,'Enrolled':2})\n"
     ]
    },
    {
     "name": "stdout",
     "output_type": "stream",
     "text": [
      "Naive Bayes with Random Under Sampling\n",
      "\n",
      "Training model without cross-validation...\n",
      "\n",
      "Evaluating model without cross-validation...\n",
      "\n",
      "Results without Cross-Validation:\n",
      "F1 +ve: 0.788\n",
      "F1 -ve: 0.716\n",
      "AUC: 0.791\n",
      "Accuracy: 0.689\n",
      "\n",
      "Training and evaluating model with cross-validation...\n",
      "\n",
      "Cross-Validation Scores:\n",
      "Fold 1: 0.602\n",
      "Fold 2: 0.648\n",
      "Fold 3: 0.551\n",
      "Fold 4: 0.614\n",
      "Fold 5: 0.628\n",
      "\n",
      "Training model with all data...\n",
      "\n",
      "Evaluating model with all data...\n",
      "\n",
      "Results with All Data:\n",
      "F1 +ve: 0.788\n",
      "F1 -ve: 0.716\n",
      "AUC: 0.791\n",
      "Accuracy: 0.689\n"
     ]
    }
   ],
   "source": [
    "master_pipeline_with_resampling(filepath, target)"
   ]
  },
  {
   "cell_type": "markdown",
   "id": "978dd1d0-f3f4-42bd-be52-5a158a012c59",
   "metadata": {},
   "source": [
    "## Decision Tree Classifier with Random Under Sampling"
   ]
  },
  {
   "cell_type": "code",
   "execution_count": 158,
   "id": "c817b1e3-5c21-4653-8586-6953ea2b1ffd",
   "metadata": {},
   "outputs": [],
   "source": [
    "def model_selection():\n",
    "    model = DecisionTreeClassifier()\n",
    "    print('Decision Tree with Random Under Sampling')\n",
    "    return model"
   ]
  },
  {
   "cell_type": "code",
   "execution_count": 159,
   "id": "28e722be-d98e-459e-8924-f865ca30feb1",
   "metadata": {
    "scrolled": true
   },
   "outputs": [
    {
     "name": "stdout",
     "output_type": "stream",
     "text": [
      "Decision Tree with Random Under Sampling\n",
      "\n",
      "Training model without cross-validation...\n",
      "\n",
      "Evaluating model without cross-validation...\n",
      "\n",
      "Results without Cross-Validation:\n",
      "F1 +ve: 0.718\n",
      "F1 -ve: 0.660\n",
      "AUC: 0.715\n",
      "Accuracy: 0.627\n",
      "\n",
      "Training and evaluating model with cross-validation...\n"
     ]
    },
    {
     "name": "stderr",
     "output_type": "stream",
     "text": [
      "C:\\Users\\uzairmuh\\AppData\\Local\\Temp\\ipykernel_14436\\758360173.py:7: FutureWarning: Downcasting behavior in `replace` is deprecated and will be removed in a future version. To retain the old behavior, explicitly call `result.infer_objects(copy=False)`. To opt-in to the future behavior, set `pd.set_option('future.no_silent_downcasting', True)`\n",
      "  df['Target'] = df['Target'].replace({'Graduate': 1, 'Dropout': 0,'Enrolled':2})\n"
     ]
    },
    {
     "name": "stdout",
     "output_type": "stream",
     "text": [
      "\n",
      "Cross-Validation Scores:\n",
      "Fold 1: 0.578\n",
      "Fold 2: 0.633\n",
      "Fold 3: 0.590\n",
      "Fold 4: 0.566\n",
      "Fold 5: 0.592\n",
      "\n",
      "Training model with all data...\n",
      "\n",
      "Evaluating model with all data...\n",
      "\n",
      "Results with All Data:\n",
      "F1 +ve: 0.704\n",
      "F1 -ve: 0.667\n",
      "AUC: 0.711\n",
      "Accuracy: 0.620\n"
     ]
    }
   ],
   "source": [
    "master_pipeline_with_resampling(filepath, target)"
   ]
  },
  {
   "cell_type": "markdown",
   "id": "26198b5b-050b-46dd-a26d-71d5e97f7052",
   "metadata": {},
   "source": [
    "## Random Forest Classifier with Random Under Sampling"
   ]
  },
  {
   "cell_type": "code",
   "execution_count": 160,
   "id": "ba098edb-92a0-434f-a46e-085eb2979019",
   "metadata": {},
   "outputs": [],
   "source": [
    "def model_selection():\n",
    "    model = RandomForestClassifier()\n",
    "    print('Random Forest Classifier with Random Under Sampling')\n",
    "    return model"
   ]
  },
  {
   "cell_type": "code",
   "execution_count": 161,
   "id": "61ec90bc-356d-400f-ac55-3f40c66836b6",
   "metadata": {
    "scrolled": true
   },
   "outputs": [
    {
     "name": "stdout",
     "output_type": "stream",
     "text": [
      "Random Forest Classifier with Random Under Sampling\n",
      "\n",
      "Training model without cross-validation...\n"
     ]
    },
    {
     "name": "stderr",
     "output_type": "stream",
     "text": [
      "C:\\Users\\uzairmuh\\AppData\\Local\\Temp\\ipykernel_14436\\758360173.py:7: FutureWarning: Downcasting behavior in `replace` is deprecated and will be removed in a future version. To retain the old behavior, explicitly call `result.infer_objects(copy=False)`. To opt-in to the future behavior, set `pd.set_option('future.no_silent_downcasting', True)`\n",
      "  df['Target'] = df['Target'].replace({'Graduate': 1, 'Dropout': 0,'Enrolled':2})\n"
     ]
    },
    {
     "name": "stdout",
     "output_type": "stream",
     "text": [
      "\n",
      "Evaluating model without cross-validation...\n",
      "\n",
      "Results without Cross-Validation:\n",
      "F1 +ve: 0.840\n",
      "F1 -ve: 0.766\n",
      "AUC: 0.892\n",
      "Accuracy: 0.751\n",
      "\n",
      "Training and evaluating model with cross-validation...\n",
      "\n",
      "Cross-Validation Scores:\n",
      "Fold 1: 0.657\n",
      "Fold 2: 0.729\n",
      "Fold 3: 0.678\n",
      "Fold 4: 0.672\n",
      "Fold 5: 0.719\n",
      "\n",
      "Training model with all data...\n",
      "\n",
      "Evaluating model with all data...\n",
      "\n",
      "Results with All Data:\n",
      "F1 +ve: 0.851\n",
      "F1 -ve: 0.774\n",
      "AUC: 0.892\n",
      "Accuracy: 0.762\n"
     ]
    }
   ],
   "source": [
    "master_pipeline_with_resampling(filepath,target)"
   ]
  },
  {
   "cell_type": "markdown",
   "id": "029bcddd-8095-4eac-bd64-e4bf08a7d48c",
   "metadata": {},
   "source": [
    "## Gradient Boosting Classifier with Random Under Sampling"
   ]
  },
  {
   "cell_type": "code",
   "execution_count": 162,
   "id": "22c6c6f6-655b-461d-99b6-dbf19d4dff30",
   "metadata": {},
   "outputs": [],
   "source": [
    "def model_selection():\n",
    "    model = GradientBoostingClassifier()\n",
    "    print('Gradient Boosting Classifier with Random Under Sampling')\n",
    "    return model"
   ]
  },
  {
   "cell_type": "code",
   "execution_count": 163,
   "id": "ed040d78-d4c2-4798-96ba-8697096a27c4",
   "metadata": {
    "scrolled": true
   },
   "outputs": [
    {
     "name": "stdout",
     "output_type": "stream",
     "text": [
      "Gradient Boosting Classifier with Random Under Sampling\n",
      "\n",
      "Training model without cross-validation...\n"
     ]
    },
    {
     "name": "stderr",
     "output_type": "stream",
     "text": [
      "C:\\Users\\uzairmuh\\AppData\\Local\\Temp\\ipykernel_14436\\758360173.py:7: FutureWarning: Downcasting behavior in `replace` is deprecated and will be removed in a future version. To retain the old behavior, explicitly call `result.infer_objects(copy=False)`. To opt-in to the future behavior, set `pd.set_option('future.no_silent_downcasting', True)`\n",
      "  df['Target'] = df['Target'].replace({'Graduate': 1, 'Dropout': 0,'Enrolled':2})\n"
     ]
    },
    {
     "name": "stdout",
     "output_type": "stream",
     "text": [
      "\n",
      "Evaluating model without cross-validation...\n",
      "\n",
      "Results without Cross-Validation:\n",
      "F1 +ve: 0.850\n",
      "F1 -ve: 0.756\n",
      "AUC: 0.892\n",
      "Accuracy: 0.756\n",
      "\n",
      "Training and evaluating model with cross-validation...\n",
      "\n",
      "Cross-Validation Scores:\n",
      "Fold 1: 0.645\n",
      "Fold 2: 0.711\n",
      "Fold 3: 0.729\n",
      "Fold 4: 0.675\n",
      "Fold 5: 0.737\n",
      "\n",
      "Training model with all data...\n",
      "\n",
      "Evaluating model with all data...\n",
      "\n",
      "Results with All Data:\n",
      "F1 +ve: 0.849\n",
      "F1 -ve: 0.758\n",
      "AUC: 0.892\n",
      "Accuracy: 0.757\n"
     ]
    }
   ],
   "source": [
    "master_pipeline_with_resampling(filepath,target)"
   ]
  },
  {
   "cell_type": "markdown",
   "id": "f9f68e0b-2245-4308-a311-6a64d0ea5927",
   "metadata": {},
   "source": [
    "## Results"
   ]
  },
  {
   "cell_type": "markdown",
   "id": "bcdf15af-089c-4c35-a37e-99de4bb94bfd",
   "metadata": {},
   "source": [
    "|          | Logistic Regression | Naïve Bayes | Decision Tree | Random Forest Classifier | Gradient Boosting |\r\n",
    "|------------------------|---------------------|-------------|---------------|--------------------------|-------------------|\r\n",
    "| F1 +ve                 | 0.786               | 0.788       | 0.791         | 0.704                    | 0.711             |\r\n",
    "| F1-ve                  | 0.657               | 0.716       | 0.689         | 0.667                    | 0.620             |\r\n",
    "| AUC                    | 0.793               | 0.791       | 0.704         | 0.711                    | 0.620             |\r\n",
    "| Accuracy               | 0.671               | 0.689       | 0.667         | 0.711                    | 0.774             |\r\n"
   ]
  },
  {
   "cell_type": "markdown",
   "id": "21356cb0-e82b-443a-9596-b613b7b7fa23",
   "metadata": {},
   "source": [
    "# =====================================================\n",
    "# Class Imbalance - Class weight and Ensemble "
   ]
  },
  {
   "cell_type": "markdown",
   "id": "8dbb82d3-6998-440b-a715-0ca8eb7c8a7f",
   "metadata": {},
   "source": [
    "## Master Pipeline"
   ]
  },
  {
   "cell_type": "code",
   "execution_count": 164,
   "id": "3716c043-b63b-4e5b-9b3a-d693b720a67d",
   "metadata": {},
   "outputs": [],
   "source": [
    "def master_pipeline(filepath, target, strategy='class_weight'):\n",
    "    df = load_data(filepath)\n",
    "    df = class_label(df)\n",
    "    df = clean_data(df)\n",
    "    df = transform_data(df)\n",
    "    # eda(df)\n",
    "    X_train, X_test, y_train, y_test = manual_split(df, target)\n",
    "    \n",
    "    # Model selection\n",
    "    model = model_selection(strategy=strategy, y_train=y_train)\n",
    "    \n",
    "    # Train model without cross-validation\n",
    "    print(\"\\nTraining model without cross-validation...\")\n",
    "    train_model(model, X_train, y_train)\n",
    "\n",
    "    # Evaluate model without cross-validation\n",
    "    print(\"\\nEvaluating model without cross-validation...\")\n",
    "    acc_without_cv, class_rep_without_cv, roc_auc_without_cv = evaluate_model(model, X_test, y_test)\n",
    "\n",
    "    print(\"\\nResults without Cross-Validation:\")\n",
    "    print(f\"F1 +ve: {class_rep_without_cv['1']['f1-score']:.3f}\")\n",
    "    print(f\"F1 -ve: {class_rep_without_cv['0']['f1-score']:.3f}\")\n",
    "    print(f\"AUC: {roc_auc_without_cv:.3f}\")\n",
    "    print(f\"Accuracy: {acc_without_cv:.3f}\")\n",
    "\n",
    "    # Model selection with cross-validation\n",
    "    print(\"\\nTraining and evaluating model with cross-validation...\")\n",
    "    cv_scores_list = cv_scores(model, X_train, y_train)\n",
    "\n",
    "    # Report cross-validation scores\n",
    "    print(\"\\nCross-Validation Scores:\")\n",
    "    for i, score in enumerate(cv_scores_list):\n",
    "        print(f\"Fold {i+1}: {score:.3f}\")\n",
    "\n",
    "    # Train model with all data\n",
    "    print(\"\\nTraining model with all data...\")\n",
    "    model.fit(X_train, y_train)\n",
    "\n",
    "    # Evaluate model with all data\n",
    "    print(\"\\nEvaluating model with all data...\")\n",
    "    acc_with_all_data, class_rep_with_all_data, roc_auc_with_all_data = evaluate_model(model, X_test, y_test)\n",
    "\n",
    "    print(\"\\nResults with All Data:\")\n",
    "    print(f\"F1 +ve: {class_rep_with_all_data['1']['f1-score']:.3f}\")\n",
    "    print(f\"F1 -ve: {class_rep_with_all_data['0']['f1-score']:.3f}\")\n",
    "    print(f\"AUC: {roc_auc_with_all_data:.3f}\")\n",
    "    print(f\"Accuracy: {acc_with_all_data:.3f}\")\n"
   ]
  },
  {
   "cell_type": "markdown",
   "id": "aeec8d4d-7a1f-405e-935f-ed3456eae857",
   "metadata": {},
   "source": [
    "## Logistic Regression (Class Weight)\n",
    "## Gradient Boosting (Ensemble)"
   ]
  },
  {
   "cell_type": "code",
   "execution_count": 165,
   "id": "3ed59c34-9fd2-4ea0-b816-fe95109bfc3c",
   "metadata": {},
   "outputs": [],
   "source": [
    "def model_selection(strategy='class_weight', y_train=None):\n",
    "    if strategy == 'class_weight':\n",
    "        if y_train is None:\n",
    "            raise ValueError(\"If 'class_weight' strategy is selected, y_train must be provided.\")\n",
    "        class_weights = compute_class_weight('balanced', classes=np.unique(y_train), y=y_train)\n",
    "        class_weights_dict = {class_label: weight for class_label, weight in zip(np.unique(y_train), class_weights)}\n",
    "        model = LogisticRegression(class_weight=class_weights_dict,max_iter = 1000000)\n",
    "        print('Logistic Regression with Class Weighting')\n",
    "    elif strategy == 'ensemble':\n",
    "        model = GradientBoostingClassifier()\n",
    "        print('Gradient Boosting Classifier (Ensemble Method)')\n",
    "    else:\n",
    "        raise ValueError(\"Invalid strategy. Choose either 'class_weight' or 'ensemble'.\")\n",
    "    return model\n"
   ]
  },
  {
   "cell_type": "code",
   "execution_count": 166,
   "id": "7681c403-bf6a-4012-af0b-575780383723",
   "metadata": {
    "scrolled": true
   },
   "outputs": [
    {
     "name": "stdout",
     "output_type": "stream",
     "text": [
      "Logistic Regression with Class Weighting\n",
      "\n",
      "Training model without cross-validation...\n"
     ]
    },
    {
     "name": "stderr",
     "output_type": "stream",
     "text": [
      "C:\\Users\\uzairmuh\\AppData\\Local\\Temp\\ipykernel_14436\\758360173.py:7: FutureWarning: Downcasting behavior in `replace` is deprecated and will be removed in a future version. To retain the old behavior, explicitly call `result.infer_objects(copy=False)`. To opt-in to the future behavior, set `pd.set_option('future.no_silent_downcasting', True)`\n",
      "  df['Target'] = df['Target'].replace({'Graduate': 1, 'Dropout': 0,'Enrolled':2})\n",
      "C:\\Users\\uzairmuh\\AppData\\Local\\Programs\\Python\\Python312\\Lib\\site-packages\\sklearn\\linear_model\\_logistic.py:469: ConvergenceWarning: lbfgs failed to converge (status=1):\n",
      "STOP: TOTAL NO. of f AND g EVALUATIONS EXCEEDS LIMIT.\n",
      "\n",
      "Increase the number of iterations (max_iter) or scale the data as shown in:\n",
      "    https://scikit-learn.org/stable/modules/preprocessing.html\n",
      "Please also refer to the documentation for alternative solver options:\n",
      "    https://scikit-learn.org/stable/modules/linear_model.html#logistic-regression\n",
      "  n_iter_i = _check_optimize_result(\n"
     ]
    },
    {
     "name": "stdout",
     "output_type": "stream",
     "text": [
      "\n",
      "Evaluating model without cross-validation...\n",
      "\n",
      "Results without Cross-Validation:\n",
      "F1 +ve: 0.848\n",
      "F1 -ve: 0.779\n",
      "AUC: 0.886\n",
      "Accuracy: 0.763\n",
      "\n",
      "Training and evaluating model with cross-validation...\n"
     ]
    },
    {
     "name": "stderr",
     "output_type": "stream",
     "text": [
      "C:\\Users\\uzairmuh\\AppData\\Local\\Programs\\Python\\Python312\\Lib\\site-packages\\sklearn\\linear_model\\_logistic.py:469: ConvergenceWarning: lbfgs failed to converge (status=1):\n",
      "STOP: TOTAL NO. of f AND g EVALUATIONS EXCEEDS LIMIT.\n",
      "\n",
      "Increase the number of iterations (max_iter) or scale the data as shown in:\n",
      "    https://scikit-learn.org/stable/modules/preprocessing.html\n",
      "Please also refer to the documentation for alternative solver options:\n",
      "    https://scikit-learn.org/stable/modules/linear_model.html#logistic-regression\n",
      "  n_iter_i = _check_optimize_result(\n",
      "C:\\Users\\uzairmuh\\AppData\\Local\\Programs\\Python\\Python312\\Lib\\site-packages\\sklearn\\linear_model\\_logistic.py:469: ConvergenceWarning: lbfgs failed to converge (status=1):\n",
      "STOP: TOTAL NO. of f AND g EVALUATIONS EXCEEDS LIMIT.\n",
      "\n",
      "Increase the number of iterations (max_iter) or scale the data as shown in:\n",
      "    https://scikit-learn.org/stable/modules/preprocessing.html\n",
      "Please also refer to the documentation for alternative solver options:\n",
      "    https://scikit-learn.org/stable/modules/linear_model.html#logistic-regression\n",
      "  n_iter_i = _check_optimize_result(\n",
      "C:\\Users\\uzairmuh\\AppData\\Local\\Programs\\Python\\Python312\\Lib\\site-packages\\sklearn\\linear_model\\_logistic.py:469: ConvergenceWarning: lbfgs failed to converge (status=1):\n",
      "STOP: TOTAL NO. of f AND g EVALUATIONS EXCEEDS LIMIT.\n",
      "\n",
      "Increase the number of iterations (max_iter) or scale the data as shown in:\n",
      "    https://scikit-learn.org/stable/modules/preprocessing.html\n",
      "Please also refer to the documentation for alternative solver options:\n",
      "    https://scikit-learn.org/stable/modules/linear_model.html#logistic-regression\n",
      "  n_iter_i = _check_optimize_result(\n",
      "C:\\Users\\uzairmuh\\AppData\\Local\\Programs\\Python\\Python312\\Lib\\site-packages\\sklearn\\linear_model\\_logistic.py:469: ConvergenceWarning: lbfgs failed to converge (status=1):\n",
      "STOP: TOTAL NO. of f AND g EVALUATIONS EXCEEDS LIMIT.\n",
      "\n",
      "Increase the number of iterations (max_iter) or scale the data as shown in:\n",
      "    https://scikit-learn.org/stable/modules/preprocessing.html\n",
      "Please also refer to the documentation for alternative solver options:\n",
      "    https://scikit-learn.org/stable/modules/linear_model.html#logistic-regression\n",
      "  n_iter_i = _check_optimize_result(\n",
      "C:\\Users\\uzairmuh\\AppData\\Local\\Programs\\Python\\Python312\\Lib\\site-packages\\sklearn\\linear_model\\_logistic.py:469: ConvergenceWarning: lbfgs failed to converge (status=1):\n",
      "STOP: TOTAL NO. of f AND g EVALUATIONS EXCEEDS LIMIT.\n",
      "\n",
      "Increase the number of iterations (max_iter) or scale the data as shown in:\n",
      "    https://scikit-learn.org/stable/modules/preprocessing.html\n",
      "Please also refer to the documentation for alternative solver options:\n",
      "    https://scikit-learn.org/stable/modules/linear_model.html#logistic-regression\n",
      "  n_iter_i = _check_optimize_result(\n"
     ]
    },
    {
     "name": "stdout",
     "output_type": "stream",
     "text": [
      "\n",
      "Cross-Validation Scores:\n",
      "Fold 1: 0.739\n",
      "Fold 2: 0.717\n",
      "Fold 3: 0.724\n",
      "Fold 4: 0.753\n",
      "Fold 5: 0.730\n",
      "\n",
      "Training model with all data...\n",
      "\n",
      "Evaluating model with all data...\n",
      "\n",
      "Results with All Data:\n",
      "F1 +ve: 0.848\n",
      "F1 -ve: 0.779\n",
      "AUC: 0.886\n",
      "Accuracy: 0.763\n"
     ]
    },
    {
     "name": "stderr",
     "output_type": "stream",
     "text": [
      "C:\\Users\\uzairmuh\\AppData\\Local\\Programs\\Python\\Python312\\Lib\\site-packages\\sklearn\\linear_model\\_logistic.py:469: ConvergenceWarning: lbfgs failed to converge (status=1):\n",
      "STOP: TOTAL NO. of f AND g EVALUATIONS EXCEEDS LIMIT.\n",
      "\n",
      "Increase the number of iterations (max_iter) or scale the data as shown in:\n",
      "    https://scikit-learn.org/stable/modules/preprocessing.html\n",
      "Please also refer to the documentation for alternative solver options:\n",
      "    https://scikit-learn.org/stable/modules/linear_model.html#logistic-regression\n",
      "  n_iter_i = _check_optimize_result(\n"
     ]
    }
   ],
   "source": [
    "master_pipeline(filepath, target, strategy='class_weight')"
   ]
  },
  {
   "cell_type": "code",
   "execution_count": 167,
   "id": "62b1f96b-60be-447f-8822-1c2487b58ffb",
   "metadata": {
    "scrolled": true
   },
   "outputs": [
    {
     "name": "stderr",
     "output_type": "stream",
     "text": [
      "C:\\Users\\uzairmuh\\AppData\\Local\\Temp\\ipykernel_14436\\758360173.py:7: FutureWarning: Downcasting behavior in `replace` is deprecated and will be removed in a future version. To retain the old behavior, explicitly call `result.infer_objects(copy=False)`. To opt-in to the future behavior, set `pd.set_option('future.no_silent_downcasting', True)`\n",
      "  df['Target'] = df['Target'].replace({'Graduate': 1, 'Dropout': 0,'Enrolled':2})\n"
     ]
    },
    {
     "name": "stdout",
     "output_type": "stream",
     "text": [
      "Gradient Boosting Classifier (Ensemble Method)\n",
      "\n",
      "Training model without cross-validation...\n",
      "\n",
      "Evaluating model without cross-validation...\n",
      "\n",
      "Results without Cross-Validation:\n",
      "F1 +ve: 0.868\n",
      "F1 -ve: 0.793\n",
      "AUC: 0.899\n",
      "Accuracy: 0.787\n",
      "\n",
      "Training and evaluating model with cross-validation...\n",
      "\n",
      "Cross-Validation Scores:\n",
      "Fold 1: 0.773\n",
      "Fold 2: 0.740\n",
      "Fold 3: 0.754\n",
      "Fold 4: 0.759\n",
      "Fold 5: 0.769\n",
      "\n",
      "Training model with all data...\n",
      "\n",
      "Evaluating model with all data...\n",
      "\n",
      "Results with All Data:\n",
      "F1 +ve: 0.868\n",
      "F1 -ve: 0.793\n",
      "AUC: 0.899\n",
      "Accuracy: 0.787\n"
     ]
    }
   ],
   "source": [
    "master_pipeline(filepath, target, strategy='ensemble')"
   ]
  },
  {
   "cell_type": "markdown",
   "id": "7fbfa719-ed7e-4fe1-b9ba-a5e5ca19624b",
   "metadata": {},
   "source": [
    "## Balanced Random Forest (Class Weight)\n",
    "## Easy Ensemble Classifier (Ensemble) "
   ]
  },
  {
   "cell_type": "code",
   "execution_count": 168,
   "id": "29a8fb79-9819-49c2-8128-ad72b44ec4d7",
   "metadata": {},
   "outputs": [],
   "source": [
    "def model_selection(strategy='class_weight', y_train=None):\n",
    "    if strategy == 'class_weight':\n",
    "        if y_train is None:\n",
    "            raise ValueError(\"If 'class_weight' strategy is selected, y_train must be provided.\")\n",
    "        class_weights = compute_class_weight('balanced', classes=np.unique(y_train), y=y_train)\n",
    "        class_weights_dict = {class_label: weight for class_label, weight in zip(np.unique(y_train), class_weights)}\n",
    "        model = BalancedRandomForestClassifier(class_weight=class_weights_dict)\n",
    "        print('Balanced Random Forest Classifier with Class Weighting')\n",
    "    elif strategy == 'ensemble':\n",
    "        model = EasyEnsembleClassifier()\n",
    "        print('Easy Ensemble Classifier (Ensemble Method)')\n",
    "    else:\n",
    "        raise ValueError(\"Invalid strategy. Choose either 'class_weight' or 'ensemble'.\")\n",
    "    return model\n"
   ]
  },
  {
   "cell_type": "code",
   "execution_count": 169,
   "id": "16904ecb-2395-467b-a896-ce5ce418b885",
   "metadata": {
    "scrolled": true
   },
   "outputs": [
    {
     "name": "stdout",
     "output_type": "stream",
     "text": [
      "Balanced Random Forest Classifier with Class Weighting\n",
      "\n",
      "Training model without cross-validation...\n"
     ]
    },
    {
     "name": "stderr",
     "output_type": "stream",
     "text": [
      "C:\\Users\\uzairmuh\\AppData\\Local\\Temp\\ipykernel_14436\\758360173.py:7: FutureWarning: Downcasting behavior in `replace` is deprecated and will be removed in a future version. To retain the old behavior, explicitly call `result.infer_objects(copy=False)`. To opt-in to the future behavior, set `pd.set_option('future.no_silent_downcasting', True)`\n",
      "  df['Target'] = df['Target'].replace({'Graduate': 1, 'Dropout': 0,'Enrolled':2})\n",
      "C:\\Users\\uzairmuh\\AppData\\Local\\Programs\\Python\\Python312\\Lib\\site-packages\\imblearn\\ensemble\\_forest.py:577: FutureWarning: The default of `sampling_strategy` will change from `'auto'` to `'all'` in version 0.13. This change will follow the implementation proposed in the original paper. Set to `'all'` to silence this warning and adopt the future behaviour.\n",
      "  warn(\n",
      "C:\\Users\\uzairmuh\\AppData\\Local\\Programs\\Python\\Python312\\Lib\\site-packages\\imblearn\\ensemble\\_forest.py:589: FutureWarning: The default of `replacement` will change from `False` to `True` in version 0.13. This change will follow the implementation proposed in the original paper. Set to `True` to silence this warning and adopt the future behaviour.\n",
      "  warn(\n",
      "C:\\Users\\uzairmuh\\AppData\\Local\\Programs\\Python\\Python312\\Lib\\site-packages\\imblearn\\ensemble\\_forest.py:601: FutureWarning: The default of `bootstrap` will change from `True` to `False` in version 0.13. This change will follow the implementation proposed in the original paper. Set to `False` to silence this warning and adopt the future behaviour.\n",
      "  warn(\n"
     ]
    },
    {
     "name": "stdout",
     "output_type": "stream",
     "text": [
      "\n",
      "Evaluating model without cross-validation...\n",
      "\n",
      "Results without Cross-Validation:\n",
      "F1 +ve: 0.835\n",
      "F1 -ve: 0.772\n",
      "AUC: 0.884\n",
      "Accuracy: 0.750\n",
      "\n",
      "Training and evaluating model with cross-validation...\n"
     ]
    },
    {
     "name": "stderr",
     "output_type": "stream",
     "text": [
      "C:\\Users\\uzairmuh\\AppData\\Local\\Programs\\Python\\Python312\\Lib\\site-packages\\imblearn\\ensemble\\_forest.py:577: FutureWarning: The default of `sampling_strategy` will change from `'auto'` to `'all'` in version 0.13. This change will follow the implementation proposed in the original paper. Set to `'all'` to silence this warning and adopt the future behaviour.\n",
      "  warn(\n",
      "C:\\Users\\uzairmuh\\AppData\\Local\\Programs\\Python\\Python312\\Lib\\site-packages\\imblearn\\ensemble\\_forest.py:589: FutureWarning: The default of `replacement` will change from `False` to `True` in version 0.13. This change will follow the implementation proposed in the original paper. Set to `True` to silence this warning and adopt the future behaviour.\n",
      "  warn(\n",
      "C:\\Users\\uzairmuh\\AppData\\Local\\Programs\\Python\\Python312\\Lib\\site-packages\\imblearn\\ensemble\\_forest.py:601: FutureWarning: The default of `bootstrap` will change from `True` to `False` in version 0.13. This change will follow the implementation proposed in the original paper. Set to `False` to silence this warning and adopt the future behaviour.\n",
      "  warn(\n",
      "C:\\Users\\uzairmuh\\AppData\\Local\\Programs\\Python\\Python312\\Lib\\site-packages\\imblearn\\ensemble\\_forest.py:577: FutureWarning: The default of `sampling_strategy` will change from `'auto'` to `'all'` in version 0.13. This change will follow the implementation proposed in the original paper. Set to `'all'` to silence this warning and adopt the future behaviour.\n",
      "  warn(\n",
      "C:\\Users\\uzairmuh\\AppData\\Local\\Programs\\Python\\Python312\\Lib\\site-packages\\imblearn\\ensemble\\_forest.py:589: FutureWarning: The default of `replacement` will change from `False` to `True` in version 0.13. This change will follow the implementation proposed in the original paper. Set to `True` to silence this warning and adopt the future behaviour.\n",
      "  warn(\n",
      "C:\\Users\\uzairmuh\\AppData\\Local\\Programs\\Python\\Python312\\Lib\\site-packages\\imblearn\\ensemble\\_forest.py:601: FutureWarning: The default of `bootstrap` will change from `True` to `False` in version 0.13. This change will follow the implementation proposed in the original paper. Set to `False` to silence this warning and adopt the future behaviour.\n",
      "  warn(\n",
      "C:\\Users\\uzairmuh\\AppData\\Local\\Programs\\Python\\Python312\\Lib\\site-packages\\imblearn\\ensemble\\_forest.py:577: FutureWarning: The default of `sampling_strategy` will change from `'auto'` to `'all'` in version 0.13. This change will follow the implementation proposed in the original paper. Set to `'all'` to silence this warning and adopt the future behaviour.\n",
      "  warn(\n",
      "C:\\Users\\uzairmuh\\AppData\\Local\\Programs\\Python\\Python312\\Lib\\site-packages\\imblearn\\ensemble\\_forest.py:589: FutureWarning: The default of `replacement` will change from `False` to `True` in version 0.13. This change will follow the implementation proposed in the original paper. Set to `True` to silence this warning and adopt the future behaviour.\n",
      "  warn(\n",
      "C:\\Users\\uzairmuh\\AppData\\Local\\Programs\\Python\\Python312\\Lib\\site-packages\\imblearn\\ensemble\\_forest.py:601: FutureWarning: The default of `bootstrap` will change from `True` to `False` in version 0.13. This change will follow the implementation proposed in the original paper. Set to `False` to silence this warning and adopt the future behaviour.\n",
      "  warn(\n",
      "C:\\Users\\uzairmuh\\AppData\\Local\\Programs\\Python\\Python312\\Lib\\site-packages\\imblearn\\ensemble\\_forest.py:577: FutureWarning: The default of `sampling_strategy` will change from `'auto'` to `'all'` in version 0.13. This change will follow the implementation proposed in the original paper. Set to `'all'` to silence this warning and adopt the future behaviour.\n",
      "  warn(\n",
      "C:\\Users\\uzairmuh\\AppData\\Local\\Programs\\Python\\Python312\\Lib\\site-packages\\imblearn\\ensemble\\_forest.py:589: FutureWarning: The default of `replacement` will change from `False` to `True` in version 0.13. This change will follow the implementation proposed in the original paper. Set to `True` to silence this warning and adopt the future behaviour.\n",
      "  warn(\n",
      "C:\\Users\\uzairmuh\\AppData\\Local\\Programs\\Python\\Python312\\Lib\\site-packages\\imblearn\\ensemble\\_forest.py:601: FutureWarning: The default of `bootstrap` will change from `True` to `False` in version 0.13. This change will follow the implementation proposed in the original paper. Set to `False` to silence this warning and adopt the future behaviour.\n",
      "  warn(\n",
      "C:\\Users\\uzairmuh\\AppData\\Local\\Programs\\Python\\Python312\\Lib\\site-packages\\imblearn\\ensemble\\_forest.py:577: FutureWarning: The default of `sampling_strategy` will change from `'auto'` to `'all'` in version 0.13. This change will follow the implementation proposed in the original paper. Set to `'all'` to silence this warning and adopt the future behaviour.\n",
      "  warn(\n",
      "C:\\Users\\uzairmuh\\AppData\\Local\\Programs\\Python\\Python312\\Lib\\site-packages\\imblearn\\ensemble\\_forest.py:589: FutureWarning: The default of `replacement` will change from `False` to `True` in version 0.13. This change will follow the implementation proposed in the original paper. Set to `True` to silence this warning and adopt the future behaviour.\n",
      "  warn(\n",
      "C:\\Users\\uzairmuh\\AppData\\Local\\Programs\\Python\\Python312\\Lib\\site-packages\\imblearn\\ensemble\\_forest.py:601: FutureWarning: The default of `bootstrap` will change from `True` to `False` in version 0.13. This change will follow the implementation proposed in the original paper. Set to `False` to silence this warning and adopt the future behaviour.\n",
      "  warn(\n"
     ]
    },
    {
     "name": "stdout",
     "output_type": "stream",
     "text": [
      "\n",
      "Cross-Validation Scores:\n",
      "Fold 1: 0.710\n",
      "Fold 2: 0.750\n",
      "Fold 3: 0.709\n",
      "Fold 4: 0.740\n",
      "Fold 5: 0.738\n",
      "\n",
      "Training model with all data...\n"
     ]
    },
    {
     "name": "stderr",
     "output_type": "stream",
     "text": [
      "C:\\Users\\uzairmuh\\AppData\\Local\\Programs\\Python\\Python312\\Lib\\site-packages\\imblearn\\ensemble\\_forest.py:577: FutureWarning: The default of `sampling_strategy` will change from `'auto'` to `'all'` in version 0.13. This change will follow the implementation proposed in the original paper. Set to `'all'` to silence this warning and adopt the future behaviour.\n",
      "  warn(\n",
      "C:\\Users\\uzairmuh\\AppData\\Local\\Programs\\Python\\Python312\\Lib\\site-packages\\imblearn\\ensemble\\_forest.py:589: FutureWarning: The default of `replacement` will change from `False` to `True` in version 0.13. This change will follow the implementation proposed in the original paper. Set to `True` to silence this warning and adopt the future behaviour.\n",
      "  warn(\n",
      "C:\\Users\\uzairmuh\\AppData\\Local\\Programs\\Python\\Python312\\Lib\\site-packages\\imblearn\\ensemble\\_forest.py:601: FutureWarning: The default of `bootstrap` will change from `True` to `False` in version 0.13. This change will follow the implementation proposed in the original paper. Set to `False` to silence this warning and adopt the future behaviour.\n",
      "  warn(\n"
     ]
    },
    {
     "name": "stdout",
     "output_type": "stream",
     "text": [
      "\n",
      "Evaluating model with all data...\n",
      "\n",
      "Results with All Data:\n",
      "F1 +ve: 0.839\n",
      "F1 -ve: 0.752\n",
      "AUC: 0.891\n",
      "Accuracy: 0.745\n"
     ]
    }
   ],
   "source": [
    "master_pipeline(filepath, target, strategy='class_weight')"
   ]
  },
  {
   "cell_type": "code",
   "execution_count": 170,
   "id": "b3e7f4d9-4170-4a0e-8186-338f8fcaf87e",
   "metadata": {
    "scrolled": true
   },
   "outputs": [
    {
     "name": "stdout",
     "output_type": "stream",
     "text": [
      "Easy Ensemble Classifier (Ensemble Method)\n",
      "\n",
      "Training model without cross-validation...\n"
     ]
    },
    {
     "name": "stderr",
     "output_type": "stream",
     "text": [
      "C:\\Users\\uzairmuh\\AppData\\Local\\Temp\\ipykernel_14436\\758360173.py:7: FutureWarning: Downcasting behavior in `replace` is deprecated and will be removed in a future version. To retain the old behavior, explicitly call `result.infer_objects(copy=False)`. To opt-in to the future behavior, set `pd.set_option('future.no_silent_downcasting', True)`\n",
      "  df['Target'] = df['Target'].replace({'Graduate': 1, 'Dropout': 0,'Enrolled':2})\n"
     ]
    },
    {
     "name": "stdout",
     "output_type": "stream",
     "text": [
      "\n",
      "Evaluating model without cross-validation...\n",
      "\n",
      "Results without Cross-Validation:\n",
      "F1 +ve: 0.827\n",
      "F1 -ve: 0.762\n",
      "AUC: 0.875\n",
      "Accuracy: 0.736\n",
      "\n",
      "Training and evaluating model with cross-validation...\n",
      "\n",
      "Cross-Validation Scores:\n",
      "Fold 1: 0.723\n",
      "Fold 2: 0.708\n",
      "Fold 3: 0.698\n",
      "Fold 4: 0.737\n",
      "Fold 5: 0.703\n",
      "\n",
      "Training model with all data...\n",
      "\n",
      "Evaluating model with all data...\n",
      "\n",
      "Results with All Data:\n",
      "F1 +ve: 0.837\n",
      "F1 -ve: 0.762\n",
      "AUC: 0.877\n",
      "Accuracy: 0.744\n"
     ]
    }
   ],
   "source": [
    "master_pipeline(filepath, target, strategy='ensemble')"
   ]
  },
  {
   "cell_type": "markdown",
   "id": "afef616b-a516-4130-94c7-30553b78a801",
   "metadata": {},
   "source": [
    "## Decision Trees Classifier (Ensemble)"
   ]
  },
  {
   "cell_type": "code",
   "execution_count": 171,
   "id": "5bb39c2a-4701-4b5e-8d4a-da5d981422cb",
   "metadata": {},
   "outputs": [],
   "source": [
    "def model_selection(strategy='class_weight', y_train=None):\n",
    "    if strategy == 'class_weight':\n",
    "        if y_train is None:\n",
    "            raise ValueError(\"If 'class_weight' strategy is selected, y_train must be provided.\")\n",
    "        class_weights = compute_class_weight('balanced', classes=np.unique(y_train), y=y_train)\n",
    "        class_weights_dict = {class_label: weight for class_label, weight in zip(np.unique(y_train), class_weights)}\n",
    "        model = DecisionTreeClassifier(class_weight=class_weights_dict)\n",
    "        print('Decision Tree Classifier with Class Weighting')\n",
    "    elif strategy == 'ensemble':\n",
    "        model = DecisionTreeClassifier()\n",
    "        print('Decision Tree Classifier (Ensemble Method)')\n",
    "    else:\n",
    "        raise ValueError(\"Invalid strategy. Choose either 'class_weight' or 'ensemble'.\")\n",
    "    return model\n"
   ]
  },
  {
   "cell_type": "code",
   "execution_count": 172,
   "id": "b798b31b-7d97-4f88-9758-2cec54428453",
   "metadata": {
    "scrolled": true
   },
   "outputs": [
    {
     "name": "stdout",
     "output_type": "stream",
     "text": [
      "Decision Tree Classifier with Class Weighting\n",
      "\n",
      "Training model without cross-validation...\n",
      "\n",
      "Evaluating model without cross-validation...\n",
      "\n",
      "Results without Cross-Validation:\n",
      "F1 +ve: 0.770\n",
      "F1 -ve: 0.700\n",
      "AUC: 0.726\n",
      "Accuracy: 0.682\n",
      "\n",
      "Training and evaluating model with cross-validation...\n"
     ]
    },
    {
     "name": "stderr",
     "output_type": "stream",
     "text": [
      "C:\\Users\\uzairmuh\\AppData\\Local\\Temp\\ipykernel_14436\\758360173.py:7: FutureWarning: Downcasting behavior in `replace` is deprecated and will be removed in a future version. To retain the old behavior, explicitly call `result.infer_objects(copy=False)`. To opt-in to the future behavior, set `pd.set_option('future.no_silent_downcasting', True)`\n",
      "  df['Target'] = df['Target'].replace({'Graduate': 1, 'Dropout': 0,'Enrolled':2})\n"
     ]
    },
    {
     "name": "stdout",
     "output_type": "stream",
     "text": [
      "\n",
      "Cross-Validation Scores:\n",
      "Fold 1: 0.663\n",
      "Fold 2: 0.670\n",
      "Fold 3: 0.666\n",
      "Fold 4: 0.688\n",
      "Fold 5: 0.675\n",
      "\n",
      "Training model with all data...\n",
      "\n",
      "Evaluating model with all data...\n",
      "\n",
      "Results with All Data:\n",
      "F1 +ve: 0.782\n",
      "F1 -ve: 0.705\n",
      "AUC: 0.725\n",
      "Accuracy: 0.685\n"
     ]
    }
   ],
   "source": [
    "master_pipeline(filepath, target, strategy='class_weight')"
   ]
  },
  {
   "cell_type": "code",
   "execution_count": 173,
   "id": "472da62b-be22-4c19-b8ce-8e2a0a5b99fa",
   "metadata": {
    "scrolled": true
   },
   "outputs": [
    {
     "name": "stdout",
     "output_type": "stream",
     "text": [
      "Decision Tree Classifier (Ensemble Method)\n",
      "\n",
      "Training model without cross-validation...\n"
     ]
    },
    {
     "name": "stderr",
     "output_type": "stream",
     "text": [
      "C:\\Users\\uzairmuh\\AppData\\Local\\Temp\\ipykernel_14436\\758360173.py:7: FutureWarning: Downcasting behavior in `replace` is deprecated and will be removed in a future version. To retain the old behavior, explicitly call `result.infer_objects(copy=False)`. To opt-in to the future behavior, set `pd.set_option('future.no_silent_downcasting', True)`\n",
      "  df['Target'] = df['Target'].replace({'Graduate': 1, 'Dropout': 0,'Enrolled':2})\n"
     ]
    },
    {
     "name": "stdout",
     "output_type": "stream",
     "text": [
      "\n",
      "Evaluating model without cross-validation...\n",
      "\n",
      "Results without Cross-Validation:\n",
      "F1 +ve: 0.776\n",
      "F1 -ve: 0.676\n",
      "AUC: 0.722\n",
      "Accuracy: 0.672\n",
      "\n",
      "Training and evaluating model with cross-validation...\n",
      "\n",
      "Cross-Validation Scores:\n",
      "Fold 1: 0.652\n",
      "Fold 2: 0.662\n",
      "Fold 3: 0.649\n",
      "Fold 4: 0.666\n",
      "Fold 5: 0.667\n",
      "\n",
      "Training model with all data...\n",
      "\n",
      "Evaluating model with all data...\n",
      "\n",
      "Results with All Data:\n",
      "F1 +ve: 0.785\n",
      "F1 -ve: 0.686\n",
      "AUC: 0.730\n",
      "Accuracy: 0.682\n"
     ]
    }
   ],
   "source": [
    "master_pipeline(filepath, target, strategy='ensemble')"
   ]
  },
  {
   "cell_type": "markdown",
   "id": "55cd8858-ef21-465d-9a09-cc6b068695d2",
   "metadata": {},
   "source": [
    "## Results"
   ]
  },
  {
   "cell_type": "markdown",
   "id": "24751e59-13ed-4d0e-a2f1-264df7dde09b",
   "metadata": {},
   "source": [
    "### Class Imbalance (Class Weight & Ensemble)\n",
    "| Class Weight         | Logistic Regression | Balanced Random Forest Classifier |\r\n",
    "|------------------------|---------------------|-----------------------------------|\r\n",
    "| F1 +ve                 | 0.848               | 0.839                             |\r\n",
    "| F1-ve                  | 0.779               | 0.752                             |\r\n",
    "| AUC                    | 0.886               | 0.891                             |\r\n",
    "| Accuracy               | 0.763               | 0.745                         \n",
    "\n",
    "---------------------------------------------------------------------------------------\n",
    "| Ensemble         | Easy Ensemble       | Decision Tree       | Gradient Boosting   |\r\n",
    "|------------------------|---------------------|---------------------|---------------------|\r\n",
    "| F1 +ve                 | 0.837               | 0.782               | 0.868               |\r\n",
    "| F1-ve                  | 0.762               | 0.705               | 0.793               |\r\n",
    "| AUC                    | 0.877               | 0.725               | 0.899               |\r\n",
    "| Accuracy               | 0.744               | 0.685               | 0.787               |\r\n",
    "    |\r\n"
   ]
  },
  {
   "cell_type": "markdown",
   "id": "58b095e9-b2cd-4df5-8e90-0cc2737a2cf4",
   "metadata": {},
   "source": [
    "# =====================================================\n",
    "# Class Imbalance - Data Techniques"
   ]
  },
  {
   "cell_type": "markdown",
   "id": "9a4b6103-8ac2-4bb0-b597-cc55236672dd",
   "metadata": {},
   "source": [
    "## Master Pipeline"
   ]
  },
  {
   "cell_type": "code",
   "execution_count": 200,
   "id": "d852b065-c030-462c-8f94-2bd8ef8017d7",
   "metadata": {},
   "outputs": [],
   "source": [
    "def master_pipeline_with_smote(filepath, target):\n",
    "    df = load_data(filepath)\n",
    "    df = class_label(df)\n",
    "    df = clean_data(df)\n",
    "    df = transform_data(df)\n",
    "    # eda(df)\n",
    "    X_train, X_test, y_train, y_test = manual_split(df, target)\n",
    "    \n",
    "    # Apply SMOTE to the training data\n",
    "    smote = SMOTE(random_state=42)\n",
    "    X_train_smote, y_train_smote = smote.fit_resample(X_train, y_train)\n",
    "    \n",
    "    # Model selection\n",
    "    model = model_selection()\n",
    "\n",
    "    # Train model without cross-validation\n",
    "    print(\"\\nTraining model without cross-validation...\")\n",
    "    train_model(model, X_train_smote, y_train_smote)\n",
    "\n",
    "    # Evaluate model without cross-validation\n",
    "    print(\"\\nResults without Cross-Validation:\")\n",
    "    accuracy, class_rep_without_cv, roc_auc_without_cv = evaluate_model(model, X_test, y_test)\n",
    "    \n",
    "    if class_rep_without_cv is not None:\n",
    "        print(f\"F1 +ve: {class_rep_without_cv['1']['f1-score']:.3f}\")\n",
    "        print(f\"F1 -ve: {class_rep_without_cv['0']['f1-score']:.3f}\")\n",
    "    else:\n",
    "        print(\"No classification report available.\")\n",
    "    \n",
    "    if roc_auc_without_cv is not None:\n",
    "        print(f\"AUC: {roc_auc_without_cv:.3f}\")\n",
    "    else:\n",
    "        print(\"No ROC AUC available.\")\n",
    "    \n",
    "    if accuracy is not None:\n",
    "        print(f\"Accuracy: {accuracy:.3f}\")\n",
    "    else:\n",
    "        print(\"No accuracy score available.\")\n",
    "\n",
    "    # Model selection with cross-validation\n",
    "    print(\"\\nTraining and evaluating model with cross-validation...\")\n",
    "    cv_scores_list = cv_scores(model, X_train_smote, y_train_smote)\n",
    "\n",
    "    # Report cross-validation scores\n",
    "    print(\"\\nCross-Validation Scores:\")\n",
    "    for i, score in enumerate(cv_scores_list):\n",
    "        print(f\"Fold {i+1}: {score:.3f}\")\n",
    "\n",
    "    # Train model with all data\n",
    "    print(\"\\nTraining model with all data...\")\n",
    "    model.fit(X_train_smote, y_train_smote)\n",
    "\n",
    "    # Evaluate model with all data\n",
    "    print(\"\\nEvaluating model with all data...\")\n",
    "    acc_with_all_data, class_rep_with_all_data, roc_auc_with_all_data = evaluate_model(model, X_test, y_test)\n",
    "\n",
    "    print(\"\\nResults with All Data:\")\n",
    "    print(f\"F1 +ve: {class_rep_with_all_data['1']['f1-score']:.3f}\")\n",
    "    print(f\"F1 -ve: {class_rep_with_all_data['0']['f1-score']:.3f}\")\n",
    "    print(f\"AUC: {roc_auc_with_all_data:.3f}\")\n",
    "    print(f\"Accuracy: {acc_with_all_data:.3f}\")\n"
   ]
  },
  {
   "cell_type": "code",
   "execution_count": null,
   "id": "f8b23be0-fd0c-4259-bfbc-2b9bce9f8951",
   "metadata": {},
   "outputs": [],
   "source": []
  },
  {
   "cell_type": "code",
   "execution_count": 202,
   "id": "2b8c957a-4cf5-4078-9521-f3c6f0622eaa",
   "metadata": {},
   "outputs": [],
   "source": [
    "def plot_dataset_before_after_smote(X_train, y_train, X_resampled, y_resampled):\n",
    "    plt.figure(figsize=(12, 6))\n",
    "    \n",
    "    # Plot the original dataset\n",
    "    plt.subplot(1, 2, 1)\n",
    "    sns.countplot(x=y_train)\n",
    "    plt.title('Original Dataset')\n",
    "    plt.xlabel('Target')\n",
    "    plt.ylabel('Count')\n",
    "    \n",
    "    # Plot the dataset after SMOTE\n",
    "    plt.subplot(1, 2, 2)\n",
    "    sns.countplot(x=y_resampled)\n",
    "    plt.title('Dataset After SMOTE')\n",
    "    plt.xlabel('Target')\n",
    "    plt.ylabel('Count')\n",
    "    \n",
    "    plt.tight_layout()\n",
    "    plt.show()\n"
   ]
  },
  {
   "cell_type": "code",
   "execution_count": 203,
   "id": "6c657a7a-c0f5-4034-848f-0f530b597cbb",
   "metadata": {},
   "outputs": [
    {
     "data": {
      "image/png": "[encoded data removed]",
      "text/plain": [
       "<Figure size 1200x600 with 2 Axes>"
      ]
     },
     "metadata": {},
     "output_type": "display_data"
    }
   ],
   "source": [
    "X_train, X_test, y_train, y_test = manual_split(df1, target_column='Target')\n",
    "\n",
    "# Apply SMOTE\n",
    "smote = SMOTE(random_state=42)\n",
    "X_resampled, y_resampled = smote.fit_resample(X_train, y_train)\n",
    "\n",
    "# Plot the dataset before and after SMOTE\n",
    "plot_dataset_before_after_smote(X_train, y_train, X_resampled, y_resampled)\n"
   ]
  },
  {
   "cell_type": "code",
   "execution_count": 223,
   "id": "445c9486-ec82-4ab1-8e1f-f3363bd8d30e",
   "metadata": {},
   "outputs": [],
   "source": [
    "# Convert the resampled X and y arrays into a DataFrame\n",
    "resampled_df = pd.concat([pd.DataFrame(X_resampled), pd.DataFrame({'y': y_resampled})], axis=1)\n",
    "\n",
    "# Export the DataFrame to a CSV file\n",
    "resampled_df.to_csv('DvA_resampled_dataset.csv', index=False)\n"
   ]
  },
  {
   "cell_type": "code",
   "execution_count": 210,
   "id": "d9a2d250-868b-4ab9-a897-d02f47a64786",
   "metadata": {},
   "outputs": [],
   "source": [
    "def evaluate_model(model, X_test, y_test):\n",
    "    if isinstance(model, OneClassSVM):\n",
    "        y_pred = model.predict(X_test)\n",
    "        accuracy = None  # Since OneClassSVM doesn't provide accuracy\n",
    "        classification_rep = None  # No classification report available\n",
    "        roc_auc = None  # No ROC AUC available\n",
    "    else:\n",
    "        y_pred = model.predict(X_test)\n",
    "        accuracy = accuracy_score(y_test, y_pred)\n",
    "        classification_rep = classification_report(y_test, y_pred, output_dict=True)\n",
    "        \n",
    "        # Check if the model supports predict_proba method\n",
    "        if hasattr(model, 'predict_proba'):\n",
    "            y_pred_proba = model.predict_proba(X_test)\n",
    "            if len(y_pred_proba.shape) > 1 and y_pred_proba.shape[1] > 1:\n",
    "                # For binary classification, use ROC AUC for positive class\n",
    "                if len(np.unique(y_test)) == 2:  # Binary classification\n",
    "                    roc_auc = roc_auc_score(y_test, y_pred_proba[:, 1])\n",
    "                else:  # Multi-class classification\n",
    "                    roc_auc = roc_auc_score(y_test, y_pred_proba, multi_class='ovr')\n",
    "            else:\n",
    "                # For multi-class classification, use ROC AUC\n",
    "                roc_auc = roc_auc_score(y_test, y_pred_proba, multi_class='ovr')\n",
    "        else:\n",
    "            roc_auc = None\n",
    "\n",
    "    return accuracy, classification_rep, roc_auc\n"
   ]
  },
  {
   "cell_type": "markdown",
   "id": "d7ec4080-06d4-47be-8306-2bc1e21b6454",
   "metadata": {},
   "source": [
    "## Random Forest Classifier (Data Technique)"
   ]
  },
  {
   "cell_type": "code",
   "execution_count": 2,
   "id": "32ee956e-993d-4bda-bbe3-f107ee559b93",
   "metadata": {},
   "outputs": [],
   "source": [
    "def model_selection():\n",
    "    model = RandomForestClassifier()  \n",
    "    print('Random Forest Classifier') \n",
    "    return model"
   ]
  },
  {
   "cell_type": "code",
   "execution_count": 213,
   "id": "0b5e6625-731e-4d9f-9a0a-45801c277ca3",
   "metadata": {
    "scrolled": true
   },
   "outputs": [
    {
     "name": "stderr",
     "output_type": "stream",
     "text": [
      "C:\\Users\\uzairmuh\\AppData\\Local\\Temp\\ipykernel_14436\\1176217534.py:7: FutureWarning: Downcasting behavior in `replace` is deprecated and will be removed in a future version. To retain the old behavior, explicitly call `result.infer_objects(copy=False)`. To opt-in to the future behavior, set `pd.set_option('future.no_silent_downcasting', True)`\n",
      "  df['Target'] = df['Target'].replace({'Graduate': 1, 'Dropout': 0,'Enrolled':2})\n"
     ]
    },
    {
     "name": "stdout",
     "output_type": "stream",
     "text": [
      "Random Forest Classifier\n",
      "\n",
      "Training model without cross-validation...\n",
      "\n",
      "Results without Cross-Validation:\n",
      "F1 +ve: 0.869\n",
      "F1 -ve: 0.781\n",
      "AUC: 0.897\n",
      "Accuracy: 0.787\n",
      "\n",
      "Training and evaluating model with cross-validation...\n",
      "\n",
      "Cross-Validation Scores:\n",
      "Fold 1: 0.773\n",
      "Fold 2: 0.762\n",
      "Fold 3: 0.842\n",
      "Fold 4: 0.880\n",
      "Fold 5: 0.872\n",
      "\n",
      "Training model with all data...\n",
      "\n",
      "Evaluating model with all data...\n",
      "\n",
      "Results with All Data:\n",
      "F1 +ve: 0.868\n",
      "F1 -ve: 0.775\n",
      "AUC: 0.898\n",
      "Accuracy: 0.781\n"
     ]
    }
   ],
   "source": [
    "master_pipeline_with_smote(filepath, target)"
   ]
  },
  {
   "cell_type": "markdown",
   "id": "b4f31beb-1530-4536-8e80-4ac6f1c3e78b",
   "metadata": {},
   "source": [
    "## Gradient Boosting (Data Technique)"
   ]
  },
  {
   "cell_type": "code",
   "execution_count": 214,
   "id": "904ec74f-f563-4e9b-b29d-d5ac73db5679",
   "metadata": {},
   "outputs": [],
   "source": [
    "\n",
    "def model_selection():\n",
    "    model = GradientBoostingClassifier()\n",
    "    print('Gradient Boosting Classifier')\n",
    "    return model"
   ]
  },
  {
   "cell_type": "code",
   "execution_count": 215,
   "id": "c3232d1e-87f9-404f-82be-d12b73cf3137",
   "metadata": {
    "scrolled": true
   },
   "outputs": [
    {
     "name": "stderr",
     "output_type": "stream",
     "text": [
      "C:\\Users\\uzairmuh\\AppData\\Local\\Temp\\ipykernel_14436\\1176217534.py:7: FutureWarning: Downcasting behavior in `replace` is deprecated and will be removed in a future version. To retain the old behavior, explicitly call `result.infer_objects(copy=False)`. To opt-in to the future behavior, set `pd.set_option('future.no_silent_downcasting', True)`\n",
      "  df['Target'] = df['Target'].replace({'Graduate': 1, 'Dropout': 0,'Enrolled':2})\n"
     ]
    },
    {
     "name": "stdout",
     "output_type": "stream",
     "text": [
      "Gradient Boosting Classifier\n",
      "\n",
      "Training model without cross-validation...\n",
      "\n",
      "Results without Cross-Validation:\n",
      "F1 +ve: 0.873\n",
      "F1 -ve: 0.782\n",
      "AUC: 0.900\n",
      "Accuracy: 0.791\n",
      "\n",
      "Training and evaluating model with cross-validation...\n",
      "\n",
      "Cross-Validation Scores:\n",
      "Fold 1: 0.728\n",
      "Fold 2: 0.722\n",
      "Fold 3: 0.815\n",
      "Fold 4: 0.847\n",
      "Fold 5: 0.836\n",
      "\n",
      "Training model with all data...\n",
      "\n",
      "Evaluating model with all data...\n",
      "\n",
      "Results with All Data:\n",
      "F1 +ve: 0.873\n",
      "F1 -ve: 0.782\n",
      "AUC: 0.900\n",
      "Accuracy: 0.791\n"
     ]
    }
   ],
   "source": [
    "master_pipeline_with_smote(filepath, target)"
   ]
  },
  {
   "cell_type": "markdown",
   "id": "3daba866-a3c6-4b3a-ae9d-334432388942",
   "metadata": {},
   "source": [
    "## Naive Bayes (Data Technique)"
   ]
  },
  {
   "cell_type": "code",
   "execution_count": 216,
   "id": "7b6257f5-5f6f-4e8e-bb3f-ee96c712cecf",
   "metadata": {},
   "outputs": [],
   "source": [
    "\n",
    "def model_selection():\n",
    "    model = GaussianNB() \n",
    "    print('Naive Bayes')  \n",
    "    return model"
   ]
  },
  {
   "cell_type": "code",
   "execution_count": 217,
   "id": "e29caba0-ad50-4575-a443-ddfe3c5e7495",
   "metadata": {
    "scrolled": true
   },
   "outputs": [
    {
     "name": "stderr",
     "output_type": "stream",
     "text": [
      "C:\\Users\\uzairmuh\\AppData\\Local\\Temp\\ipykernel_14436\\1176217534.py:7: FutureWarning: Downcasting behavior in `replace` is deprecated and will be removed in a future version. To retain the old behavior, explicitly call `result.infer_objects(copy=False)`. To opt-in to the future behavior, set `pd.set_option('future.no_silent_downcasting', True)`\n",
      "  df['Target'] = df['Target'].replace({'Graduate': 1, 'Dropout': 0,'Enrolled':2})\n"
     ]
    },
    {
     "name": "stdout",
     "output_type": "stream",
     "text": [
      "Naive Bayes\n",
      "\n",
      "Training model without cross-validation...\n",
      "\n",
      "Results without Cross-Validation:\n",
      "F1 +ve: 0.688\n",
      "F1 -ve: 0.710\n",
      "AUC: 0.784\n",
      "Accuracy: 0.617\n",
      "\n",
      "Training and evaluating model with cross-validation...\n",
      "\n",
      "Cross-Validation Scores:\n",
      "Fold 1: 0.588\n",
      "Fold 2: 0.600\n",
      "Fold 3: 0.699\n",
      "Fold 4: 0.678\n",
      "Fold 5: 0.693\n",
      "\n",
      "Training model with all data...\n",
      "\n",
      "Evaluating model with all data...\n",
      "\n",
      "Results with All Data:\n",
      "F1 +ve: 0.688\n",
      "F1 -ve: 0.710\n",
      "AUC: 0.784\n",
      "Accuracy: 0.617\n"
     ]
    }
   ],
   "source": [
    "master_pipeline_with_smote(filepath, target)"
   ]
  },
  {
   "cell_type": "markdown",
   "id": "2f1fbc1a-632e-44a4-800c-045cdc3fa55b",
   "metadata": {},
   "source": [
    "## Logistic Regression (Data Technique)"
   ]
  },
  {
   "cell_type": "code",
   "execution_count": 218,
   "id": "a086a67c-b814-42bc-a4ba-590663f3907c",
   "metadata": {},
   "outputs": [],
   "source": [
    "\n",
    "def model_selection():\n",
    "    model = LogisticRegression()  \n",
    "    print('Logistic Regression') \n",
    "    return model"
   ]
  },
  {
   "cell_type": "code",
   "execution_count": 219,
   "id": "ab76089f-e00b-4334-aeec-6c9c52436431",
   "metadata": {
    "scrolled": true
   },
   "outputs": [
    {
     "name": "stdout",
     "output_type": "stream",
     "text": [
      "Logistic Regression\n",
      "\n",
      "Training model without cross-validation...\n"
     ]
    },
    {
     "name": "stderr",
     "output_type": "stream",
     "text": [
      "C:\\Users\\uzairmuh\\AppData\\Local\\Temp\\ipykernel_14436\\1176217534.py:7: FutureWarning: Downcasting behavior in `replace` is deprecated and will be removed in a future version. To retain the old behavior, explicitly call `result.infer_objects(copy=False)`. To opt-in to the future behavior, set `pd.set_option('future.no_silent_downcasting', True)`\n",
      "  df['Target'] = df['Target'].replace({'Graduate': 1, 'Dropout': 0,'Enrolled':2})\n",
      "C:\\Users\\uzairmuh\\AppData\\Local\\Programs\\Python\\Python312\\Lib\\site-packages\\sklearn\\linear_model\\_logistic.py:469: ConvergenceWarning: lbfgs failed to converge (status=1):\n",
      "STOP: TOTAL NO. of ITERATIONS REACHED LIMIT.\n",
      "\n",
      "Increase the number of iterations (max_iter) or scale the data as shown in:\n",
      "    https://scikit-learn.org/stable/modules/preprocessing.html\n",
      "Please also refer to the documentation for alternative solver options:\n",
      "    https://scikit-learn.org/stable/modules/linear_model.html#logistic-regression\n",
      "  n_iter_i = _check_optimize_result(\n"
     ]
    },
    {
     "name": "stdout",
     "output_type": "stream",
     "text": [
      "\n",
      "Results without Cross-Validation:\n",
      "F1 +ve: 0.783\n",
      "F1 -ve: 0.672\n",
      "AUC: 0.794\n",
      "Accuracy: 0.673\n",
      "\n",
      "Training and evaluating model with cross-validation...\n"
     ]
    },
    {
     "name": "stderr",
     "output_type": "stream",
     "text": [
      "C:\\Users\\uzairmuh\\AppData\\Local\\Programs\\Python\\Python312\\Lib\\site-packages\\sklearn\\linear_model\\_logistic.py:469: ConvergenceWarning: lbfgs failed to converge (status=1):\n",
      "STOP: TOTAL NO. of ITERATIONS REACHED LIMIT.\n",
      "\n",
      "Increase the number of iterations (max_iter) or scale the data as shown in:\n",
      "    https://scikit-learn.org/stable/modules/preprocessing.html\n",
      "Please also refer to the documentation for alternative solver options:\n",
      "    https://scikit-learn.org/stable/modules/linear_model.html#logistic-regression\n",
      "  n_iter_i = _check_optimize_result(\n",
      "C:\\Users\\uzairmuh\\AppData\\Local\\Programs\\Python\\Python312\\Lib\\site-packages\\sklearn\\linear_model\\_logistic.py:469: ConvergenceWarning: lbfgs failed to converge (status=1):\n",
      "STOP: TOTAL NO. of ITERATIONS REACHED LIMIT.\n",
      "\n",
      "Increase the number of iterations (max_iter) or scale the data as shown in:\n",
      "    https://scikit-learn.org/stable/modules/preprocessing.html\n",
      "Please also refer to the documentation for alternative solver options:\n",
      "    https://scikit-learn.org/stable/modules/linear_model.html#logistic-regression\n",
      "  n_iter_i = _check_optimize_result(\n",
      "C:\\Users\\uzairmuh\\AppData\\Local\\Programs\\Python\\Python312\\Lib\\site-packages\\sklearn\\linear_model\\_logistic.py:469: ConvergenceWarning: lbfgs failed to converge (status=1):\n",
      "STOP: TOTAL NO. of ITERATIONS REACHED LIMIT.\n",
      "\n",
      "Increase the number of iterations (max_iter) or scale the data as shown in:\n",
      "    https://scikit-learn.org/stable/modules/preprocessing.html\n",
      "Please also refer to the documentation for alternative solver options:\n",
      "    https://scikit-learn.org/stable/modules/linear_model.html#logistic-regression\n",
      "  n_iter_i = _check_optimize_result(\n",
      "C:\\Users\\uzairmuh\\AppData\\Local\\Programs\\Python\\Python312\\Lib\\site-packages\\sklearn\\linear_model\\_logistic.py:469: ConvergenceWarning: lbfgs failed to converge (status=1):\n",
      "STOP: TOTAL NO. of ITERATIONS REACHED LIMIT.\n",
      "\n",
      "Increase the number of iterations (max_iter) or scale the data as shown in:\n",
      "    https://scikit-learn.org/stable/modules/preprocessing.html\n",
      "Please also refer to the documentation for alternative solver options:\n",
      "    https://scikit-learn.org/stable/modules/linear_model.html#logistic-regression\n",
      "  n_iter_i = _check_optimize_result(\n",
      "C:\\Users\\uzairmuh\\AppData\\Local\\Programs\\Python\\Python312\\Lib\\site-packages\\sklearn\\linear_model\\_logistic.py:469: ConvergenceWarning: lbfgs failed to converge (status=1):\n",
      "STOP: TOTAL NO. of ITERATIONS REACHED LIMIT.\n",
      "\n",
      "Increase the number of iterations (max_iter) or scale the data as shown in:\n",
      "    https://scikit-learn.org/stable/modules/preprocessing.html\n",
      "Please also refer to the documentation for alternative solver options:\n",
      "    https://scikit-learn.org/stable/modules/linear_model.html#logistic-regression\n",
      "  n_iter_i = _check_optimize_result(\n"
     ]
    },
    {
     "name": "stdout",
     "output_type": "stream",
     "text": [
      "\n",
      "Cross-Validation Scores:\n",
      "Fold 1: 0.626\n",
      "Fold 2: 0.602\n",
      "Fold 3: 0.623\n",
      "Fold 4: 0.626\n",
      "Fold 5: 0.662\n",
      "\n",
      "Training model with all data...\n",
      "\n",
      "Evaluating model with all data...\n",
      "\n",
      "Results with All Data:\n",
      "F1 +ve: 0.783\n",
      "F1 -ve: 0.672\n",
      "AUC: 0.794\n",
      "Accuracy: 0.673\n"
     ]
    },
    {
     "name": "stderr",
     "output_type": "stream",
     "text": [
      "C:\\Users\\uzairmuh\\AppData\\Local\\Programs\\Python\\Python312\\Lib\\site-packages\\sklearn\\linear_model\\_logistic.py:469: ConvergenceWarning: lbfgs failed to converge (status=1):\n",
      "STOP: TOTAL NO. of ITERATIONS REACHED LIMIT.\n",
      "\n",
      "Increase the number of iterations (max_iter) or scale the data as shown in:\n",
      "    https://scikit-learn.org/stable/modules/preprocessing.html\n",
      "Please also refer to the documentation for alternative solver options:\n",
      "    https://scikit-learn.org/stable/modules/linear_model.html#logistic-regression\n",
      "  n_iter_i = _check_optimize_result(\n"
     ]
    }
   ],
   "source": [
    "master_pipeline_with_smote(filepath, target)"
   ]
  },
  {
   "cell_type": "markdown",
   "id": "e3d497ee-b578-4595-8f9e-4d02d0e68cd8",
   "metadata": {},
   "source": [
    "## Decision Trees (Data Technique)"
   ]
  },
  {
   "cell_type": "code",
   "execution_count": 220,
   "id": "93862b2b-0467-4de3-a3cc-5ebc0dd27317",
   "metadata": {},
   "outputs": [],
   "source": [
    "\n",
    "def model_selection():\n",
    "    model = DecisionTreeClassifier()  \n",
    "    print('Decision Tree Classifier') \n",
    "    return model"
   ]
  },
  {
   "cell_type": "code",
   "execution_count": 221,
   "id": "c864ee42-25a4-44cf-81fa-d2e0c4b06223",
   "metadata": {
    "scrolled": true
   },
   "outputs": [
    {
     "name": "stderr",
     "output_type": "stream",
     "text": [
      "C:\\Users\\uzairmuh\\AppData\\Local\\Temp\\ipykernel_14436\\1176217534.py:7: FutureWarning: Downcasting behavior in `replace` is deprecated and will be removed in a future version. To retain the old behavior, explicitly call `result.infer_objects(copy=False)`. To opt-in to the future behavior, set `pd.set_option('future.no_silent_downcasting', True)`\n",
      "  df['Target'] = df['Target'].replace({'Graduate': 1, 'Dropout': 0,'Enrolled':2})\n"
     ]
    },
    {
     "name": "stdout",
     "output_type": "stream",
     "text": [
      "Decision Tree Classifier\n",
      "\n",
      "Training model without cross-validation...\n",
      "\n",
      "Results without Cross-Validation:\n",
      "F1 +ve: 0.758\n",
      "F1 -ve: 0.682\n",
      "AUC: 0.711\n",
      "Accuracy: 0.649\n",
      "\n",
      "Training and evaluating model with cross-validation...\n",
      "\n",
      "Cross-Validation Scores:\n",
      "Fold 1: 0.655\n",
      "Fold 2: 0.654\n",
      "Fold 3: 0.745\n",
      "Fold 4: 0.751\n",
      "Fold 5: 0.751\n",
      "\n",
      "Training model with all data...\n",
      "\n",
      "Evaluating model with all data...\n",
      "\n",
      "Results with All Data:\n",
      "F1 +ve: 0.768\n",
      "F1 -ve: 0.697\n",
      "AUC: 0.722\n",
      "Accuracy: 0.665\n"
     ]
    }
   ],
   "source": [
    "master_pipeline_with_smote(filepath, target)"
   ]
  },
  {
   "cell_type": "markdown",
   "id": "598b6892-cf91-4d7a-821c-39921358edbe",
   "metadata": {},
   "source": [
    "## Results"
   ]
  },
  {
   "cell_type": "markdown",
   "id": "6fc8ba87-6eb7-421b-89e1-f670f02cf7d2",
   "metadata": {
    "jp-MarkdownHeadingCollapsed": true
   },
   "source": [
    "### Class Imbalance (Data Technique)\n",
    "|          | Logistic Regression | Naïve Bayes | Decision Tree | Random Forest Classifier | Gradient Boosting |\r\n",
    "|------------------------|---------------------|-------------|---------------|--------------------------|-------------------|\r\n",
    "| F1 +ve                 | 0.783               | 0.688       | 0.768         | 0.722                    | 0.781             |\r\n",
    "| F1-ve                  | 0.672               | 0.710       | 0.617         | 0.665                    | 0.873             |\r\n",
    "| AUC                    | 0.794               | 0.784       | 0.697         | 0.868                    | 0.782             |\r\n",
    "| Accuracy               | 0.673               | 0.617       | 0.722         | 0.775                    | 0.900             |\r\n"
   ]
  },
  {
   "cell_type": "markdown",
   "id": "69945ddc-f16f-4b0e-81d0-b52b13d5b8de",
   "metadata": {},
   "source": [
    "# 1"
   ]
  },
  {
   "cell_type": "code",
   "execution_count": null,
   "id": "04d69a66-95b0-454e-ad69-a9e61263ee53",
   "metadata": {},
   "outputs": [],
   "source": []
  },
  {
   "cell_type": "code",
   "execution_count": null,
   "id": "61bc040f-ea7f-442f-9486-6d18419ea48e",
   "metadata": {},
   "outputs": [],
   "source": []
  },
  {
   "cell_type": "code",
   "execution_count": null,
   "id": "be984a89-9bb5-4169-b9fa-f66679baeceb",
   "metadata": {},
   "outputs": [],
   "source": []
  },
  {
   "cell_type": "code",
   "execution_count": null,
   "id": "5a8fb165-71d8-4adc-8d3b-0b2a1ac09a2e",
   "metadata": {},
   "outputs": [],
   "source": []
  },
  {
   "cell_type": "code",
   "execution_count": null,
   "id": "a2739211-4edb-49dc-b0a2-b9cf1b69960b",
   "metadata": {},
   "outputs": [],
   "source": []
  },
  {
   "cell_type": "code",
   "execution_count": null,
   "id": "4ea94a52-3fe2-4f7f-955b-35680af0fe94",
   "metadata": {},
   "outputs": [],
   "source": []
  },
  {
   "cell_type": "code",
   "execution_count": null,
   "id": "ad8d8ac0-55c4-4da9-a449-04c4bcafaa2b",
   "metadata": {},
   "outputs": [],
   "source": []
  },
  {
   "cell_type": "code",
   "execution_count": null,
   "id": "2c9b36dd-44e2-4fcb-a8f1-a7b1085b9d86",
   "metadata": {},
   "outputs": [],
   "source": []
  }
 ],
 "metadata": {
  "kernelspec": {
   "display_name": "Python 3 (ipykernel)",
   "language": "python",
   "name": "python3"
  },
  "language_info": {
   "codemirror_mode": {
    "name": "ipython",
    "version": 3
   },
   "file_extension": ".py",
   "mimetype": "text/x-python",
   "name": "python",
   "nbconvert_exporter": "python",
   "pygments_lexer": "ipython3",
   "version": "3.12.1"
  }
 },
 "nbformat": 4,
 "nbformat_minor": 5
}

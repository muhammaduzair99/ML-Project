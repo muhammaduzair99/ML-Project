{
 "cells": [
  {
   "cell_type": "markdown",
   "id": "c9e87332-976a-4eac-87b3-9d8309f60e64",
   "metadata": {},
   "source": [
    "## <center> Machine Learning Project\n",
    "## <center> Course: ML1    \n",
    "#### <center> Instructor: Dr. Tariq Mahmood\n",
    "\n",
    "### <center> Submitted By:\n",
    "## <center> Muhammad Uzair 29414\n",
    "#### <center> MS - Data Science (IBA)\n",
    "#### <center> Dataset - Customer Churn\n",
    "https://archive.ics.uci.edu/dataset/563/iranian+churn+dataset"
   ]
  },
  {
   "cell_type": "markdown",
   "id": "6574dfec-919b-4a88-9b78-e0d788a6588b",
   "metadata": {},
   "source": [
    "# Imports"
   ]
  },
  {
   "cell_type": "code",
   "execution_count": 58,
   "id": "2da197a9-0f08-4fd7-af99-cf1dae47e51b",
   "metadata": {},
   "outputs": [],
   "source": [
    "import pandas as pd\n",
    "import numpy as np\n",
    "import matplotlib.pyplot as plt\n",
    "import seaborn as sns\n",
    "from sklearn.model_selection import train_test_split, cross_val_score\n",
    "from sklearn.preprocessing import StandardScaler, LabelEncoder, OneHotEncoder\n",
    "from sklearn.compose import ColumnTransformer\n",
    "from sklearn.pipeline import Pipeline\n",
    "from sklearn.metrics import classification_report, roc_auc_score, roc_curve, accuracy_score, auc, mean_squared_error, mean_absolute_error, r2_score\n",
    "from sklearn.decomposition import PCA\n",
    "from sklearn.neighbors import KNeighborsClassifier, KNeighborsRegressor\n",
    "from sklearn.svm import SVC\n",
    "from sklearn.tree import DecisionTreeClassifier\n",
    "from sklearn.linear_model import LogisticRegression\n",
    "from sklearn.ensemble import RandomForestClassifier, GradientBoostingClassifier\n",
    "from imblearn.ensemble import BalancedRandomForestClassifier\n",
    "from imblearn.over_sampling import RandomOverSampler\n",
    "from imblearn.under_sampling import RandomUnderSampler\n",
    "from sklearn.naive_bayes import GaussianNB\n",
    "from sklearn.utils.class_weight import compute_class_weight\n",
    "from imblearn.ensemble import EasyEnsembleClassifier\n",
    "from sklearn.ensemble import IsolationForest\n",
    "from sklearn.svm import OneClassSVM\n",
    "from imblearn.over_sampling import SMOTE\n"
   ]
  },
  {
   "cell_type": "markdown",
   "id": "79427b0d-906d-444f-b7db-96f5757f3b6b",
   "metadata": {},
   "source": [
    "# Functions"
   ]
  },
  {
   "cell_type": "code",
   "execution_count": 59,
   "id": "ef1f7758-54a2-4b2f-bf60-85f8a915e68c",
   "metadata": {},
   "outputs": [],
   "source": [
    "def load_data(filepath):\n",
    "    df = pd.read_csv(filepath)\n",
    "    return df\n",
    "\n",
    "def class_label(df):\n",
    "    # Assuming your dataset is stored in a variable called 'df'\n",
    "    df['y'] = df['y'].replace({'yes': 1, 'no': 0})\n",
    "    return df\n",
    "\n",
    "def clean_data(df):\n",
    "    df_cleaned = df.dropna()\n",
    "    return df_cleaned\n",
    "\n",
    "def transform_data(df):\n",
    "    scaler = StandardScaler()\n",
    "    numerical_cols = df.select_dtypes(include=['float64']).columns\n",
    "    df[numerical_cols] = scaler.fit_transform(df[numerical_cols])\n",
    "    return df\n",
    "    \n",
    "def eda(df):\n",
    "    summary_stats = df.describe()\n",
    "    float_cols = df.select_dtypes(include=['float64']).columns\n",
    "    \n",
    "    num_cols = len(float_cols)\n",
    "    num_rows = (num_cols + 2) // 3\n",
    "    \n",
    "    plt.figure(figsize=(12, 8))\n",
    "    for i, col in enumerate(float_cols):\n",
    "        plt.subplot(num_rows, 3, i+1)\n",
    "        sns.histplot(df[col], kde=True)\n",
    "        plt.title(f'Histogram of {col}')\n",
    "    plt.tight_layout()\n",
    "    plt.show()\n",
    "    \n",
    "    plt.figure(figsize=(12, 8))\n",
    "    for i, col in enumerate(float_cols):\n",
    "        plt.subplot(num_rows, 3, i+1)\n",
    "        sns.boxplot(y=df[col])\n",
    "        plt.title(f'Boxplot of {col}')\n",
    "    plt.tight_layout()\n",
    "    plt.show()\n",
    "\n",
    "\n",
    "def manual_split(df, target_column):\n",
    "    if isinstance(target_column, list):\n",
    "        target_column = target_column[0]\n",
    "    \n",
    "    # One-hot encoding for categorical features\n",
    "    categorical_cols = df.select_dtypes(include=['object']).columns.tolist()\n",
    "    # Check if the target column is in the list of categorical columns\n",
    "    if target_column in categorical_cols:\n",
    "        # Remove the target column from the list of categorical columns\n",
    "        categorical_cols.remove(target_column)\n",
    "    # else:\n",
    "    #     print(f\"Target column '{target_column}' is not found in the DataFrame's categorical columns.\")\n",
    "    \n",
    "    # Perform one-hot encoding excluding the target column\n",
    "    df = pd.get_dummies(df, columns=categorical_cols)\n",
    "\n",
    "    # Label encoding for the target variable\n",
    "    label_encoder = LabelEncoder()\n",
    "    df[target_column] = label_encoder.fit_transform(df[target_column])\n",
    "\n",
    "    X_train, X_test, y_train, y_test = train_test_split(\n",
    "        df.drop(columns=[target_column]),\n",
    "        df[target_column],\n",
    "        test_size=0.3,\n",
    "        random_state=1\n",
    "    )\n",
    "    return X_train, X_test, y_train, y_test\n",
    "    \n",
    "def cv_scores(model,X_train, y_train):  \n",
    "    # Example: KNN Classifier\n",
    "    cv_scores = cross_val_score(model, X_train, y_train, cv=5, scoring='accuracy')\n",
    "    return cv_scores\n",
    "    \n",
    "def train_model(model,X_train,y_train):\n",
    "    model.fit(X_train, y_train)\n",
    "\n",
    "def evaluate_model(model,X_test,y_test):\n",
    "    y_pred = model.predict(X_test)\n",
    "    accuracy = accuracy_score(y_test, y_pred)\n",
    "    classification_rep = classification_report(y_test, y_pred, output_dict=True)\n",
    "    \n",
    "    if len(np.unique(y_test)) > 2:\n",
    "        roc_auc = roc_auc_score(y_test, model.predict_proba(X_test), multi_class='ovr')\n",
    "    else:\n",
    "        roc_auc = roc_auc_score(y_test, model.predict_proba(X_test)[:, 1])\n",
    "\n",
    "    return accuracy, classification_rep, roc_auc"
   ]
  },
  {
   "cell_type": "markdown",
   "id": "7c1b0aea-712e-4552-8f35-aa9588e96bb9",
   "metadata": {},
   "source": [
    "# without CI"
   ]
  },
  {
   "cell_type": "markdown",
   "id": "bca7bc67-d03a-419c-a696-13181492a350",
   "metadata": {},
   "source": [
    "## Master Pipeline"
   ]
  },
  {
   "cell_type": "code",
   "execution_count": 60,
   "id": "00265656-1db3-4bbe-b4fd-f9faa9e92e10",
   "metadata": {},
   "outputs": [],
   "source": [
    "def master_pipeline(filepath, target):\n",
    "    df = load_data(filepath)\n",
    "    # df = class_label(df)\n",
    "    df = clean_data(df)\n",
    "    df = transform_data(df)\n",
    "    # eda(df)\n",
    "    X_train, X_test, y_train, y_test = manual_split(df, target)\n",
    "    \n",
    "    # Model selection\n",
    "    model = model_selection()\n",
    "\n",
    "    # Train model without cross-validation\n",
    "    print(\"\\nTraining model without cross-validation...\")\n",
    "    train_model(model, X_train, y_train)\n",
    "\n",
    "    # Evaluate model without cross-validation\n",
    "    print(\"\\nEvaluating model without cross-validation...\")\n",
    "    acc_without_cv, class_rep_without_cv, roc_auc_without_cv = evaluate_model(model, X_test, y_test)\n",
    "\n",
    "    print(\"\\nResults without Cross-Validation:\")\n",
    "    print(f\"F1 +ve: {class_rep_without_cv['1']['f1-score']:.3f}\")\n",
    "    print(f\"F1 -ve: {class_rep_without_cv['0']['f1-score']:.3f}\")\n",
    "    print(f\"AUC: {roc_auc_without_cv:.3f}\")\n",
    "    print(f\"Accuracy: {acc_without_cv:.3f}\")\n",
    "\n",
    "    # Model selection with cross-validation\n",
    "    print(\"\\nTraining and evaluating model with cross-validation...\")\n",
    "    cv_scores_list = cv_scores(model, X_train, y_train)\n",
    "\n",
    "    # Report cross-validation scores\n",
    "    print(\"\\nCross-Validation Scores:\")\n",
    "    for i, score in enumerate(cv_scores_list):\n",
    "        print(f\"Fold {i+1}: {score:.3f}\")\n",
    "\n",
    "    # Train model with all data\n",
    "    print(\"\\nTraining model with all data...\")\n",
    "    model.fit(X_train, y_train)\n",
    "\n",
    "    # Evaluate model with all data\n",
    "    print(\"\\nEvaluating model with all data...\")\n",
    "    acc_with_all_data, class_rep_with_all_data, roc_auc_with_all_data = evaluate_model(model, X_test, y_test)\n",
    "\n",
    "    print(\"\\nResults with All Data:\")\n",
    "    print(f\"F1 +ve: {class_rep_with_all_data['1']['f1-score']:.3f}\")\n",
    "    print(f\"F1 -ve: {class_rep_with_all_data['0']['f1-score']:.3f}\")\n",
    "    print(f\"AUC: {roc_auc_with_all_data:.3f}\")\n",
    "    print(f\"Accuracy: {acc_with_all_data:.3f}\")"
   ]
  },
  {
   "cell_type": "code",
   "execution_count": null,
   "id": "bb16580a-3ef5-4d5e-91b5-5ca5cc3384fa",
   "metadata": {},
   "outputs": [],
   "source": []
  },
  {
   "cell_type": "code",
   "execution_count": 61,
   "id": "c1426dae-91a7-48f2-ba6f-82b9324dc109",
   "metadata": {},
   "outputs": [],
   "source": [
    "# file path\n",
    "filepath = 'Classification.Customer Churn.csv'\n",
    "target = 'Churn'\n",
    "\n",
    "df1 = pd.read_csv(filepath)\n",
    "\n"
   ]
  },
  {
   "cell_type": "code",
   "execution_count": 118,
   "id": "2c4edf3a-5832-43a1-810f-84901b4c0133",
   "metadata": {},
   "outputs": [
    {
     "data": {
      "text/html": [
       "<div>\n",
       "<style scoped>\n",
       "    .dataframe tbody tr th:only-of-type {\n",
       "        vertical-align: middle;\n",
       "    }\n",
       "\n",
       "    .dataframe tbody tr th {\n",
       "        vertical-align: top;\n",
       "    }\n",
       "\n",
       "    .dataframe thead th {\n",
       "        text-align: right;\n",
       "    }\n",
       "</style>\n",
       "<table border=\"1\" class=\"dataframe\">\n",
       "  <thead>\n",
       "    <tr style=\"text-align: right;\">\n",
       "      <th></th>\n",
       "      <th>Call  Failure</th>\n",
       "      <th>Complains</th>\n",
       "      <th>Subscription  Length</th>\n",
       "      <th>Charge  Amount</th>\n",
       "      <th>Seconds of Use</th>\n",
       "      <th>Frequency of use</th>\n",
       "      <th>Frequency of SMS</th>\n",
       "      <th>Distinct Called Numbers</th>\n",
       "      <th>Age Group</th>\n",
       "      <th>Tariff Plan</th>\n",
       "      <th>Status</th>\n",
       "      <th>Age</th>\n",
       "      <th>Customer Value</th>\n",
       "      <th>Churn</th>\n",
       "    </tr>\n",
       "  </thead>\n",
       "  <tbody>\n",
       "    <tr>\n",
       "      <th>0</th>\n",
       "      <td>8</td>\n",
       "      <td>0</td>\n",
       "      <td>38</td>\n",
       "      <td>0</td>\n",
       "      <td>4370</td>\n",
       "      <td>71</td>\n",
       "      <td>5</td>\n",
       "      <td>17</td>\n",
       "      <td>3</td>\n",
       "      <td>1</td>\n",
       "      <td>1</td>\n",
       "      <td>30</td>\n",
       "      <td>197.640</td>\n",
       "      <td>0</td>\n",
       "    </tr>\n",
       "    <tr>\n",
       "      <th>1</th>\n",
       "      <td>0</td>\n",
       "      <td>0</td>\n",
       "      <td>39</td>\n",
       "      <td>0</td>\n",
       "      <td>318</td>\n",
       "      <td>5</td>\n",
       "      <td>7</td>\n",
       "      <td>4</td>\n",
       "      <td>2</td>\n",
       "      <td>1</td>\n",
       "      <td>2</td>\n",
       "      <td>25</td>\n",
       "      <td>46.035</td>\n",
       "      <td>0</td>\n",
       "    </tr>\n",
       "    <tr>\n",
       "      <th>2</th>\n",
       "      <td>10</td>\n",
       "      <td>0</td>\n",
       "      <td>37</td>\n",
       "      <td>0</td>\n",
       "      <td>2453</td>\n",
       "      <td>60</td>\n",
       "      <td>359</td>\n",
       "      <td>24</td>\n",
       "      <td>3</td>\n",
       "      <td>1</td>\n",
       "      <td>1</td>\n",
       "      <td>30</td>\n",
       "      <td>1536.520</td>\n",
       "      <td>0</td>\n",
       "    </tr>\n",
       "    <tr>\n",
       "      <th>3</th>\n",
       "      <td>10</td>\n",
       "      <td>0</td>\n",
       "      <td>38</td>\n",
       "      <td>0</td>\n",
       "      <td>4198</td>\n",
       "      <td>66</td>\n",
       "      <td>1</td>\n",
       "      <td>35</td>\n",
       "      <td>1</td>\n",
       "      <td>1</td>\n",
       "      <td>1</td>\n",
       "      <td>15</td>\n",
       "      <td>240.020</td>\n",
       "      <td>0</td>\n",
       "    </tr>\n",
       "    <tr>\n",
       "      <th>4</th>\n",
       "      <td>3</td>\n",
       "      <td>0</td>\n",
       "      <td>38</td>\n",
       "      <td>0</td>\n",
       "      <td>2393</td>\n",
       "      <td>58</td>\n",
       "      <td>2</td>\n",
       "      <td>33</td>\n",
       "      <td>1</td>\n",
       "      <td>1</td>\n",
       "      <td>1</td>\n",
       "      <td>15</td>\n",
       "      <td>145.805</td>\n",
       "      <td>0</td>\n",
       "    </tr>\n",
       "    <tr>\n",
       "      <th>...</th>\n",
       "      <td>...</td>\n",
       "      <td>...</td>\n",
       "      <td>...</td>\n",
       "      <td>...</td>\n",
       "      <td>...</td>\n",
       "      <td>...</td>\n",
       "      <td>...</td>\n",
       "      <td>...</td>\n",
       "      <td>...</td>\n",
       "      <td>...</td>\n",
       "      <td>...</td>\n",
       "      <td>...</td>\n",
       "      <td>...</td>\n",
       "      <td>...</td>\n",
       "    </tr>\n",
       "    <tr>\n",
       "      <th>3145</th>\n",
       "      <td>21</td>\n",
       "      <td>0</td>\n",
       "      <td>19</td>\n",
       "      <td>2</td>\n",
       "      <td>6697</td>\n",
       "      <td>147</td>\n",
       "      <td>92</td>\n",
       "      <td>44</td>\n",
       "      <td>2</td>\n",
       "      <td>2</td>\n",
       "      <td>1</td>\n",
       "      <td>25</td>\n",
       "      <td>721.980</td>\n",
       "      <td>0</td>\n",
       "    </tr>\n",
       "    <tr>\n",
       "      <th>3146</th>\n",
       "      <td>17</td>\n",
       "      <td>0</td>\n",
       "      <td>17</td>\n",
       "      <td>1</td>\n",
       "      <td>9237</td>\n",
       "      <td>177</td>\n",
       "      <td>80</td>\n",
       "      <td>42</td>\n",
       "      <td>5</td>\n",
       "      <td>1</td>\n",
       "      <td>1</td>\n",
       "      <td>55</td>\n",
       "      <td>261.210</td>\n",
       "      <td>0</td>\n",
       "    </tr>\n",
       "    <tr>\n",
       "      <th>3147</th>\n",
       "      <td>13</td>\n",
       "      <td>0</td>\n",
       "      <td>18</td>\n",
       "      <td>4</td>\n",
       "      <td>3157</td>\n",
       "      <td>51</td>\n",
       "      <td>38</td>\n",
       "      <td>21</td>\n",
       "      <td>3</td>\n",
       "      <td>1</td>\n",
       "      <td>1</td>\n",
       "      <td>30</td>\n",
       "      <td>280.320</td>\n",
       "      <td>0</td>\n",
       "    </tr>\n",
       "    <tr>\n",
       "      <th>3148</th>\n",
       "      <td>7</td>\n",
       "      <td>0</td>\n",
       "      <td>11</td>\n",
       "      <td>2</td>\n",
       "      <td>4695</td>\n",
       "      <td>46</td>\n",
       "      <td>222</td>\n",
       "      <td>12</td>\n",
       "      <td>3</td>\n",
       "      <td>1</td>\n",
       "      <td>1</td>\n",
       "      <td>30</td>\n",
       "      <td>1077.640</td>\n",
       "      <td>0</td>\n",
       "    </tr>\n",
       "    <tr>\n",
       "      <th>3149</th>\n",
       "      <td>8</td>\n",
       "      <td>1</td>\n",
       "      <td>11</td>\n",
       "      <td>2</td>\n",
       "      <td>1792</td>\n",
       "      <td>25</td>\n",
       "      <td>7</td>\n",
       "      <td>9</td>\n",
       "      <td>3</td>\n",
       "      <td>1</td>\n",
       "      <td>1</td>\n",
       "      <td>30</td>\n",
       "      <td>100.680</td>\n",
       "      <td>1</td>\n",
       "    </tr>\n",
       "  </tbody>\n",
       "</table>\n",
       "<p>3150 rows × 14 columns</p>\n",
       "</div>"
      ],
      "text/plain": [
       "      Call  Failure  Complains  Subscription  Length  Charge  Amount  \\\n",
       "0                 8          0                    38               0   \n",
       "1                 0          0                    39               0   \n",
       "2                10          0                    37               0   \n",
       "3                10          0                    38               0   \n",
       "4                 3          0                    38               0   \n",
       "...             ...        ...                   ...             ...   \n",
       "3145             21          0                    19               2   \n",
       "3146             17          0                    17               1   \n",
       "3147             13          0                    18               4   \n",
       "3148              7          0                    11               2   \n",
       "3149              8          1                    11               2   \n",
       "\n",
       "      Seconds of Use  Frequency of use  Frequency of SMS  \\\n",
       "0               4370                71                 5   \n",
       "1                318                 5                 7   \n",
       "2               2453                60               359   \n",
       "3               4198                66                 1   \n",
       "4               2393                58                 2   \n",
       "...              ...               ...               ...   \n",
       "3145            6697               147                92   \n",
       "3146            9237               177                80   \n",
       "3147            3157                51                38   \n",
       "3148            4695                46               222   \n",
       "3149            1792                25                 7   \n",
       "\n",
       "      Distinct Called Numbers  Age Group  Tariff Plan  Status  Age  \\\n",
       "0                          17          3            1       1   30   \n",
       "1                           4          2            1       2   25   \n",
       "2                          24          3            1       1   30   \n",
       "3                          35          1            1       1   15   \n",
       "4                          33          1            1       1   15   \n",
       "...                       ...        ...          ...     ...  ...   \n",
       "3145                       44          2            2       1   25   \n",
       "3146                       42          5            1       1   55   \n",
       "3147                       21          3            1       1   30   \n",
       "3148                       12          3            1       1   30   \n",
       "3149                        9          3            1       1   30   \n",
       "\n",
       "      Customer Value  Churn  \n",
       "0            197.640      0  \n",
       "1             46.035      0  \n",
       "2           1536.520      0  \n",
       "3            240.020      0  \n",
       "4            145.805      0  \n",
       "...              ...    ...  \n",
       "3145         721.980      0  \n",
       "3146         261.210      0  \n",
       "3147         280.320      0  \n",
       "3148        1077.640      0  \n",
       "3149         100.680      1  \n",
       "\n",
       "[3150 rows x 14 columns]"
      ]
     },
     "execution_count": 118,
     "metadata": {},
     "output_type": "execute_result"
    }
   ],
   "source": [
    "df1"
   ]
  },
  {
   "cell_type": "code",
   "execution_count": 119,
   "id": "54f243ac-8cfb-4fcb-b504-30d679c5c262",
   "metadata": {},
   "outputs": [
    {
     "data": {
      "text/plain": [
       "Call  Failure                int64\n",
       "Complains                    int64\n",
       "Subscription  Length         int64\n",
       "Charge  Amount               int64\n",
       "Seconds of Use               int64\n",
       "Frequency of use             int64\n",
       "Frequency of SMS             int64\n",
       "Distinct Called Numbers      int64\n",
       "Age Group                    int64\n",
       "Tariff Plan                  int64\n",
       "Status                       int64\n",
       "Age                          int64\n",
       "Customer Value             float64\n",
       "Churn                        int64\n",
       "dtype: object"
      ]
     },
     "execution_count": 119,
     "metadata": {},
     "output_type": "execute_result"
    }
   ],
   "source": [
    "df1.dtypes"
   ]
  },
  {
   "cell_type": "markdown",
   "id": "f2cefe6d-97c0-4311-bc47-b04a75ecf5ef",
   "metadata": {},
   "source": [
    "## Logistic Regression"
   ]
  },
  {
   "cell_type": "code",
   "execution_count": 64,
   "id": "ed21c544-6cdd-4f9b-ac49-aae75ef696a7",
   "metadata": {},
   "outputs": [],
   "source": [
    "def model_selection():\n",
    "    model = LogisticRegression(max_iter = 1000000)\n",
    "    print ('Logistic Regression')\n",
    "    return model"
   ]
  },
  {
   "cell_type": "code",
   "execution_count": 65,
   "id": "595d6068-67fe-4e02-b41a-5474b162882b",
   "metadata": {
    "scrolled": true
   },
   "outputs": [
    {
     "name": "stdout",
     "output_type": "stream",
     "text": [
      "Logistic Regression\n",
      "\n",
      "Training model without cross-validation...\n",
      "\n",
      "Evaluating model without cross-validation...\n",
      "\n",
      "Results without Cross-Validation:\n",
      "F1 +ve: 0.525\n",
      "F1 -ve: 0.937\n",
      "AUC: 0.922\n",
      "Accuracy: 0.889\n",
      "\n",
      "Training and evaluating model with cross-validation...\n",
      "\n",
      "Cross-Validation Scores:\n",
      "Fold 1: 0.900\n",
      "Fold 2: 0.887\n",
      "Fold 3: 0.882\n",
      "Fold 4: 0.900\n",
      "Fold 5: 0.905\n",
      "\n",
      "Training model with all data...\n",
      "\n",
      "Evaluating model with all data...\n",
      "\n",
      "Results with All Data:\n",
      "F1 +ve: 0.525\n",
      "F1 -ve: 0.937\n",
      "AUC: 0.922\n",
      "Accuracy: 0.889\n"
     ]
    }
   ],
   "source": [
    "master_pipeline(filepath, target)"
   ]
  },
  {
   "cell_type": "markdown",
   "id": "f8eeb68e-7e09-4cc7-8443-a95fb65743ad",
   "metadata": {},
   "source": [
    "## Naive Bayes"
   ]
  },
  {
   "cell_type": "code",
   "execution_count": 66,
   "id": "a95928dd-f60a-404e-822c-58969adbd07b",
   "metadata": {},
   "outputs": [],
   "source": [
    "def model_selection():\n",
    "    model = GaussianNB()\n",
    "    print('Naive Bayes')\n",
    "    return model"
   ]
  },
  {
   "cell_type": "code",
   "execution_count": 67,
   "id": "b264756a-4346-4682-a929-1753b1ba1395",
   "metadata": {
    "scrolled": true
   },
   "outputs": [
    {
     "name": "stdout",
     "output_type": "stream",
     "text": [
      "Naive Bayes\n",
      "\n",
      "Training model without cross-validation...\n",
      "\n",
      "Evaluating model without cross-validation...\n",
      "\n",
      "Results without Cross-Validation:\n",
      "F1 +ve: 0.499\n",
      "F1 -ve: 0.817\n",
      "AUC: 0.897\n",
      "Accuracy: 0.732\n",
      "\n",
      "Training and evaluating model with cross-validation...\n",
      "\n",
      "Cross-Validation Scores:\n",
      "Fold 1: 0.757\n",
      "Fold 2: 0.744\n",
      "Fold 3: 0.746\n",
      "Fold 4: 0.746\n",
      "Fold 5: 0.730\n",
      "\n",
      "Training model with all data...\n",
      "\n",
      "Evaluating model with all data...\n",
      "\n",
      "Results with All Data:\n",
      "F1 +ve: 0.499\n",
      "F1 -ve: 0.817\n",
      "AUC: 0.897\n",
      "Accuracy: 0.732\n"
     ]
    }
   ],
   "source": [
    "master_pipeline(filepath, target)"
   ]
  },
  {
   "cell_type": "markdown",
   "id": "1f65982f-f378-4711-9492-7e436ab9868c",
   "metadata": {},
   "source": [
    "## Decision Tree"
   ]
  },
  {
   "cell_type": "code",
   "execution_count": 70,
   "id": "1510a7a5-0f94-4946-976a-92ffb6eed6da",
   "metadata": {},
   "outputs": [],
   "source": [
    "def model_selection():\n",
    "    model = DecisionTreeClassifier()\n",
    "    print('Decision Tree')\n",
    "    return model"
   ]
  },
  {
   "cell_type": "code",
   "execution_count": 71,
   "id": "7e5778a6-a563-48f6-9de9-34f78f6adb93",
   "metadata": {
    "scrolled": true
   },
   "outputs": [
    {
     "name": "stdout",
     "output_type": "stream",
     "text": [
      "Decision Tree\n",
      "\n",
      "Training model without cross-validation...\n",
      "\n",
      "Evaluating model without cross-validation...\n",
      "\n",
      "Results without Cross-Validation:\n",
      "F1 +ve: 0.782\n",
      "F1 -ve: 0.964\n",
      "AUC: 0.897\n",
      "Accuracy: 0.938\n",
      "\n",
      "Training and evaluating model with cross-validation...\n",
      "\n",
      "Cross-Validation Scores:\n",
      "Fold 1: 0.959\n",
      "Fold 2: 0.934\n",
      "Fold 3: 0.939\n",
      "Fold 4: 0.925\n",
      "Fold 5: 0.930\n",
      "\n",
      "Training model with all data...\n",
      "\n",
      "Evaluating model with all data...\n",
      "\n",
      "Results with All Data:\n",
      "F1 +ve: 0.777\n",
      "F1 -ve: 0.962\n",
      "AUC: 0.900\n",
      "Accuracy: 0.935\n"
     ]
    }
   ],
   "source": [
    "master_pipeline(filepath,target)"
   ]
  },
  {
   "cell_type": "markdown",
   "id": "03dbab1e-339e-48c3-af14-bd5220a987db",
   "metadata": {},
   "source": [
    "## Random Forest Classifier"
   ]
  },
  {
   "cell_type": "code",
   "execution_count": 72,
   "id": "4d9d1308-7733-45f1-9701-4b74d819ac43",
   "metadata": {},
   "outputs": [],
   "source": [
    "def model_selection():\n",
    "    model = RandomForestClassifier()\n",
    "    print('Random Forest Classifier')\n",
    "    return model"
   ]
  },
  {
   "cell_type": "code",
   "execution_count": 73,
   "id": "feb18679-e382-4fc2-bba0-94b73293b87d",
   "metadata": {
    "scrolled": true
   },
   "outputs": [
    {
     "name": "stdout",
     "output_type": "stream",
     "text": [
      "Random Forest Classifier\n",
      "\n",
      "Training model without cross-validation...\n",
      "\n",
      "Evaluating model without cross-validation...\n",
      "\n",
      "Results without Cross-Validation:\n",
      "F1 +ve: 0.801\n",
      "F1 -ve: 0.967\n",
      "AUC: 0.979\n",
      "Accuracy: 0.944\n",
      "\n",
      "Training and evaluating model with cross-validation...\n",
      "\n",
      "Cross-Validation Scores:\n",
      "Fold 1: 0.966\n",
      "Fold 2: 0.959\n",
      "Fold 3: 0.955\n",
      "Fold 4: 0.952\n",
      "Fold 5: 0.955\n",
      "\n",
      "Training model with all data...\n",
      "\n",
      "Evaluating model with all data...\n",
      "\n",
      "Results with All Data:\n",
      "F1 +ve: 0.797\n",
      "F1 -ve: 0.967\n",
      "AUC: 0.979\n",
      "Accuracy: 0.944\n"
     ]
    }
   ],
   "source": [
    "master_pipeline(filepath, target)"
   ]
  },
  {
   "cell_type": "markdown",
   "id": "23c02a99-b099-4a99-a065-28f274ca2929",
   "metadata": {},
   "source": [
    "## Gradient Boosting Classifier"
   ]
  },
  {
   "cell_type": "code",
   "execution_count": 74,
   "id": "12c6ed22-281c-4467-bf88-cf1f1e0be66f",
   "metadata": {},
   "outputs": [],
   "source": [
    "def model_selection():\n",
    "    model = GradientBoostingClassifier()\n",
    "    print('Gradient Boosting Classifier')\n",
    "    return model"
   ]
  },
  {
   "cell_type": "code",
   "execution_count": 75,
   "id": "dfceb686-801a-4d25-ab39-ddc3da979212",
   "metadata": {
    "scrolled": true
   },
   "outputs": [
    {
     "name": "stdout",
     "output_type": "stream",
     "text": [
      "Gradient Boosting Classifier\n",
      "\n",
      "Training model without cross-validation...\n",
      "\n",
      "Evaluating model without cross-validation...\n",
      "\n",
      "Results without Cross-Validation:\n",
      "F1 +ve: 0.777\n",
      "F1 -ve: 0.964\n",
      "AUC: 0.972\n",
      "Accuracy: 0.939\n",
      "\n",
      "Training and evaluating model with cross-validation...\n",
      "\n",
      "Cross-Validation Scores:\n",
      "Fold 1: 0.943\n",
      "Fold 2: 0.948\n",
      "Fold 3: 0.948\n",
      "Fold 4: 0.952\n",
      "Fold 5: 0.943\n",
      "\n",
      "Training model with all data...\n",
      "\n",
      "Evaluating model with all data...\n",
      "\n",
      "Results with All Data:\n",
      "F1 +ve: 0.777\n",
      "F1 -ve: 0.964\n",
      "AUC: 0.972\n",
      "Accuracy: 0.939\n"
     ]
    }
   ],
   "source": [
    "master_pipeline(filepath, target)"
   ]
  },
  {
   "cell_type": "markdown",
   "id": "8e94bf99-fca3-4b67-bd7b-95a9187ebd2d",
   "metadata": {},
   "source": [
    "## Results"
   ]
  },
  {
   "cell_type": "markdown",
   "id": "854057c5-bcf6-4c2b-a4f3-d55e97b0f309",
   "metadata": {},
   "source": [
    "|          | Logistic Regression | Naïve Bayes | Decision Tree | Random Forest Classifier | Gradient Boosting |\r\n",
    "|------------------------|---------------------|-------------|---------------|--------------------------|-------------------|\r\n",
    "| F1 +ve                 | 0.525               | 0.499       | 0.777         | 0.797                    | 0.777             |\r\n",
    "| F1-ve                  | 0.937               | 0.817       | 0.962         | 0.967                    | 0.964             |\r\n",
    "| AUC                    | 0.922               | 0.897       | 0.900         | 0.979                    | 0.972             |\r\n",
    "| Accuracy               | 0.889               | 0.732       | 0.935         | 0.944                    | 0.939             |\r\n"
   ]
  },
  {
   "cell_type": "markdown",
   "id": "f15b98b3-f630-4aca-9c40-a8353eb8b1e8",
   "metadata": {},
   "source": [
    "# =====================================================\n",
    "# Class Imbalance - Resampling Method (Random Under Sampling)"
   ]
  },
  {
   "cell_type": "markdown",
   "id": "9aa56ffd-aacc-4055-a262-d397b8df0767",
   "metadata": {},
   "source": [
    "## Master Pipeline"
   ]
  },
  {
   "cell_type": "code",
   "execution_count": 76,
   "id": "f9b6481f-9e0d-4a9c-b330-bd1abdb27dbb",
   "metadata": {},
   "outputs": [],
   "source": [
    "def master_pipeline_with_resampling(filepath, target):\n",
    "    df = load_data(filepath)\n",
    "    #df = class_label(df)\n",
    "    df = clean_data(df)\n",
    "    df = transform_data(df)\n",
    "    # eda(df)\n",
    "    \n",
    "    # Apply Random Undersampling\n",
    "    X_train, X_test, y_train, y_test = manual_split(df, target)\n",
    "    rus = RandomUnderSampler(random_state=1)\n",
    "    X_train_resampled, y_train_resampled = rus.fit_resample(X_train, y_train)\n",
    "    \n",
    "    # Model selection\n",
    "    model = model_selection()\n",
    "\n",
    "    # Train model without cross-validation\n",
    "    print(\"\\nTraining model without cross-validation...\")\n",
    "    train_model(model, X_train_resampled, y_train_resampled)\n",
    "\n",
    "    # Evaluate model without cross-validation\n",
    "    print(\"\\nEvaluating model without cross-validation...\")\n",
    "    acc_without_cv, class_rep_without_cv, roc_auc_without_cv = evaluate_model(model, X_test, y_test)\n",
    "\n",
    "    print(\"\\nResults without Cross-Validation:\")\n",
    "    print(f\"F1 +ve: {class_rep_without_cv['1']['f1-score']:.3f}\")\n",
    "    print(f\"F1 -ve: {class_rep_without_cv['0']['f1-score']:.3f}\")\n",
    "    print(f\"AUC: {roc_auc_without_cv:.3f}\")\n",
    "    print(f\"Accuracy: {acc_without_cv:.3f}\")\n",
    "\n",
    "    # Model selection with cross-validation\n",
    "    print(\"\\nTraining and evaluating model with cross-validation...\")\n",
    "    cv_scores_list = cv_scores(model, X_train_resampled, y_train_resampled)\n",
    "\n",
    "    # Report cross-validation scores\n",
    "    print(\"\\nCross-Validation Scores:\")\n",
    "    for i, score in enumerate(cv_scores_list):\n",
    "        print(f\"Fold {i+1}: {score:.3f}\")\n",
    "\n",
    "    # Train model with all data\n",
    "    print(\"\\nTraining model with all data...\")\n",
    "    model.fit(X_train_resampled, y_train_resampled)\n",
    "\n",
    "    # Evaluate model with all data\n",
    "    print(\"\\nEvaluating model with all data...\")\n",
    "    acc_with_all_data, class_rep_with_all_data, roc_auc_with_all_data = evaluate_model(model, X_test, y_test)\n",
    "\n",
    "    print(\"\\nResults with All Data:\")\n",
    "    print(f\"F1 +ve: {class_rep_with_all_data['1']['f1-score']:.3f}\")\n",
    "    print(f\"F1 -ve: {class_rep_with_all_data['0']['f1-score']:.3f}\")\n",
    "    print(f\"AUC: {roc_auc_with_all_data:.3f}\")\n",
    "    print(f\"Accuracy: {acc_with_all_data:.3f}\")\n",
    "\n",
    "\n"
   ]
  },
  {
   "cell_type": "markdown",
   "id": "7139131b-d511-428b-bc24-7c40ec507b10",
   "metadata": {},
   "source": [
    "## Logistic Regression with Random Under Sampling"
   ]
  },
  {
   "cell_type": "code",
   "execution_count": 79,
   "id": "2d50f9b0-3288-4a94-8eb7-3db94431c36f",
   "metadata": {},
   "outputs": [],
   "source": [
    "def model_selection():\n",
    "    model = LogisticRegression(max_iter = 1000000)\n",
    "    print ('Logistic Regression with Random Under Sampling')\n",
    "    return model"
   ]
  },
  {
   "cell_type": "code",
   "execution_count": 80,
   "id": "696c25c7-47b3-41a9-88ac-9a2cf260ec15",
   "metadata": {
    "scrolled": true
   },
   "outputs": [
    {
     "name": "stdout",
     "output_type": "stream",
     "text": [
      "Logistic Regression with Random Under Sampling\n",
      "\n",
      "Training model without cross-validation...\n",
      "\n",
      "Evaluating model without cross-validation...\n",
      "\n",
      "Results without Cross-Validation:\n",
      "F1 +ve: 0.585\n",
      "F1 -ve: 0.892\n",
      "AUC: 0.922\n",
      "Accuracy: 0.829\n",
      "\n",
      "Training and evaluating model with cross-validation...\n",
      "\n",
      "Cross-Validation Scores:\n",
      "Fold 1: 0.882\n",
      "Fold 2: 0.861\n",
      "Fold 3: 0.819\n",
      "Fold 4: 0.861\n",
      "Fold 5: 0.819\n",
      "\n",
      "Training model with all data...\n",
      "\n",
      "Evaluating model with all data...\n",
      "\n",
      "Results with All Data:\n",
      "F1 +ve: 0.585\n",
      "F1 -ve: 0.892\n",
      "AUC: 0.922\n",
      "Accuracy: 0.829\n"
     ]
    }
   ],
   "source": [
    "master_pipeline_with_resampling(filepath, target)"
   ]
  },
  {
   "cell_type": "markdown",
   "id": "5b3f26e1-b5d2-4891-bdb6-b6ceeef632a7",
   "metadata": {},
   "source": [
    "## Naive Bayes with Random Under Sampling"
   ]
  },
  {
   "cell_type": "code",
   "execution_count": 81,
   "id": "7c731826-ca5d-4006-ada8-17adb94d12a8",
   "metadata": {},
   "outputs": [],
   "source": [
    "def model_selection():\n",
    "    model = GaussianNB()\n",
    "    print('Naive Bayes with Random Under Sampling')\n",
    "    return model"
   ]
  },
  {
   "cell_type": "code",
   "execution_count": 82,
   "id": "c85d039f-ffe5-412f-b2c2-e11d9f92de7f",
   "metadata": {
    "scrolled": true
   },
   "outputs": [
    {
     "name": "stdout",
     "output_type": "stream",
     "text": [
      "Naive Bayes with Random Under Sampling\n",
      "\n",
      "Training model without cross-validation...\n",
      "\n",
      "Evaluating model without cross-validation...\n",
      "\n",
      "Results without Cross-Validation:\n",
      "F1 +ve: 0.446\n",
      "F1 -ve: 0.764\n",
      "AUC: 0.897\n",
      "Accuracy: 0.669\n",
      "\n",
      "Training and evaluating model with cross-validation...\n",
      "\n",
      "Cross-Validation Scores:\n",
      "Fold 1: 0.792\n",
      "Fold 2: 0.799\n",
      "Fold 3: 0.771\n",
      "Fold 4: 0.785\n",
      "Fold 5: 0.778\n",
      "\n",
      "Training model with all data...\n",
      "\n",
      "Evaluating model with all data...\n",
      "\n",
      "Results with All Data:\n",
      "F1 +ve: 0.446\n",
      "F1 -ve: 0.764\n",
      "AUC: 0.897\n",
      "Accuracy: 0.669\n"
     ]
    }
   ],
   "source": [
    "master_pipeline_with_resampling(filepath, target)"
   ]
  },
  {
   "cell_type": "markdown",
   "id": "978dd1d0-f3f4-42bd-be52-5a158a012c59",
   "metadata": {},
   "source": [
    "## Decision Tree Classifier with Random Under Sampling"
   ]
  },
  {
   "cell_type": "code",
   "execution_count": 85,
   "id": "c817b1e3-5c21-4653-8586-6953ea2b1ffd",
   "metadata": {},
   "outputs": [],
   "source": [
    "def model_selection():\n",
    "    model = DecisionTreeClassifier()\n",
    "    print('Decision Tree with Random Under Sampling')\n",
    "    return model"
   ]
  },
  {
   "cell_type": "code",
   "execution_count": 86,
   "id": "28e722be-d98e-459e-8924-f865ca30feb1",
   "metadata": {
    "scrolled": true
   },
   "outputs": [
    {
     "name": "stdout",
     "output_type": "stream",
     "text": [
      "Decision Tree with Random Under Sampling\n",
      "\n",
      "Training model without cross-validation...\n",
      "\n",
      "Evaluating model without cross-validation...\n",
      "\n",
      "Results without Cross-Validation:\n",
      "F1 +ve: 0.704\n",
      "F1 -ve: 0.936\n",
      "AUC: 0.899\n",
      "Accuracy: 0.894\n",
      "\n",
      "Training and evaluating model with cross-validation...\n",
      "\n",
      "Cross-Validation Scores:\n",
      "Fold 1: 0.917\n",
      "Fold 2: 0.910\n",
      "Fold 3: 0.861\n",
      "Fold 4: 0.847\n",
      "Fold 5: 0.854\n",
      "\n",
      "Training model with all data...\n",
      "\n",
      "Evaluating model with all data...\n",
      "\n",
      "Results with All Data:\n",
      "F1 +ve: 0.682\n",
      "F1 -ve: 0.927\n",
      "AUC: 0.894\n",
      "Accuracy: 0.881\n"
     ]
    }
   ],
   "source": [
    "master_pipeline_with_resampling(filepath, target)"
   ]
  },
  {
   "cell_type": "markdown",
   "id": "26198b5b-050b-46dd-a26d-71d5e97f7052",
   "metadata": {},
   "source": [
    "## Random Forest Classifier with Random Under Sampling"
   ]
  },
  {
   "cell_type": "code",
   "execution_count": 87,
   "id": "ba098edb-92a0-434f-a46e-085eb2979019",
   "metadata": {},
   "outputs": [],
   "source": [
    "def model_selection():\n",
    "    model = RandomForestClassifier()\n",
    "    print('Random Forest Classifier with Random Under Sampling')\n",
    "    return model"
   ]
  },
  {
   "cell_type": "code",
   "execution_count": 88,
   "id": "61ec90bc-356d-400f-ac55-3f40c66836b6",
   "metadata": {
    "scrolled": true
   },
   "outputs": [
    {
     "name": "stdout",
     "output_type": "stream",
     "text": [
      "Random Forest Classifier with Random Under Sampling\n",
      "\n",
      "Training model without cross-validation...\n",
      "\n",
      "Evaluating model without cross-validation...\n",
      "\n",
      "Results without Cross-Validation:\n",
      "F1 +ve: 0.766\n",
      "F1 -ve: 0.949\n",
      "AUC: 0.970\n",
      "Accuracy: 0.916\n",
      "\n",
      "Training and evaluating model with cross-validation...\n",
      "\n",
      "Cross-Validation Scores:\n",
      "Fold 1: 0.944\n",
      "Fold 2: 0.965\n",
      "Fold 3: 0.917\n",
      "Fold 4: 0.910\n",
      "Fold 5: 0.910\n",
      "\n",
      "Training model with all data...\n",
      "\n",
      "Evaluating model with all data...\n",
      "\n",
      "Results with All Data:\n",
      "F1 +ve: 0.739\n",
      "F1 -ve: 0.943\n",
      "AUC: 0.967\n",
      "Accuracy: 0.906\n"
     ]
    }
   ],
   "source": [
    "master_pipeline_with_resampling(filepath,target)"
   ]
  },
  {
   "cell_type": "markdown",
   "id": "029bcddd-8095-4eac-bd64-e4bf08a7d48c",
   "metadata": {},
   "source": [
    "## Gradient Boosting Classifier with Random Under Sampling"
   ]
  },
  {
   "cell_type": "code",
   "execution_count": 89,
   "id": "22c6c6f6-655b-461d-99b6-dbf19d4dff30",
   "metadata": {},
   "outputs": [],
   "source": [
    "def model_selection():\n",
    "    model = GradientBoostingClassifier()\n",
    "    print('Gradient Boosting Classifier with Random Under Sampling')\n",
    "    return model"
   ]
  },
  {
   "cell_type": "code",
   "execution_count": 90,
   "id": "ed040d78-d4c2-4798-96ba-8697096a27c4",
   "metadata": {
    "scrolled": true
   },
   "outputs": [
    {
     "name": "stdout",
     "output_type": "stream",
     "text": [
      "Gradient Boosting Classifier with Random Under Sampling\n",
      "\n",
      "Training model without cross-validation...\n",
      "\n",
      "Evaluating model without cross-validation...\n",
      "\n",
      "Results without Cross-Validation:\n",
      "F1 +ve: 0.729\n",
      "F1 -ve: 0.940\n",
      "AUC: 0.968\n",
      "Accuracy: 0.902\n",
      "\n",
      "Training and evaluating model with cross-validation...\n",
      "\n",
      "Cross-Validation Scores:\n",
      "Fold 1: 0.931\n",
      "Fold 2: 0.917\n",
      "Fold 3: 0.868\n",
      "Fold 4: 0.910\n",
      "Fold 5: 0.910\n",
      "\n",
      "Training model with all data...\n",
      "\n",
      "Evaluating model with all data...\n",
      "\n",
      "Results with All Data:\n",
      "F1 +ve: 0.729\n",
      "F1 -ve: 0.940\n",
      "AUC: 0.968\n",
      "Accuracy: 0.902\n"
     ]
    }
   ],
   "source": [
    "master_pipeline_with_resampling(filepath,target)"
   ]
  },
  {
   "cell_type": "markdown",
   "id": "0965e81f-5b0c-4bab-a63e-d73b00194d3c",
   "metadata": {},
   "source": [
    "## Results"
   ]
  },
  {
   "cell_type": "markdown",
   "id": "31759459-863a-4dfa-a686-9244819bf81a",
   "metadata": {},
   "source": [
    "### Class Imbalance (Resampling)\n",
    "| Classification         | Logistic Regression | Naïve Bayes | Decision Tree | Random Forest Classifier | Gradient Boosting |\r\n",
    "|------------------------|---------------------|-------------|---------------|--------------------------|-------------------|\r\n",
    "| F1 +ve                 | 0.585               | 0.446       | 0.682         | 0.739                    | 0.729             |\r\n",
    "| F1-ve                  | 0.892               | 0.764       | 0.927         | 0.943                    | 0.940             |\r\n",
    "| AUC                    | 0.922               | 0.897       | 0.894         | 0.967                    | 0.968             |\r\n",
    "| Accuracy               | 0.829               | 0.669       | 0.881         | 0.906                    | 0.902             |\r\n",
    "\n"
   ]
  },
  {
   "cell_type": "markdown",
   "id": "21356cb0-e82b-443a-9596-b613b7b7fa23",
   "metadata": {},
   "source": [
    "# =====================================================\n",
    "# Class Imbalance - Class weight and Ensemble "
   ]
  },
  {
   "cell_type": "markdown",
   "id": "8dbb82d3-6998-440b-a715-0ca8eb7c8a7f",
   "metadata": {},
   "source": [
    "## Master Pipeline"
   ]
  },
  {
   "cell_type": "code",
   "execution_count": 91,
   "id": "3716c043-b63b-4e5b-9b3a-d693b720a67d",
   "metadata": {},
   "outputs": [],
   "source": [
    "def master_pipeline(filepath, target, strategy='class_weight'):\n",
    "    df = load_data(filepath)\n",
    "    #df = class_label(df)\n",
    "    df = clean_data(df)\n",
    "    df = transform_data(df)\n",
    "    # eda(df)\n",
    "    X_train, X_test, y_train, y_test = manual_split(df, target)\n",
    "    \n",
    "    # Model selection\n",
    "    model = model_selection(strategy=strategy, y_train=y_train)\n",
    "    \n",
    "    # Train model without cross-validation\n",
    "    print(\"\\nTraining model without cross-validation...\")\n",
    "    train_model(model, X_train, y_train)\n",
    "\n",
    "    # Evaluate model without cross-validation\n",
    "    print(\"\\nEvaluating model without cross-validation...\")\n",
    "    acc_without_cv, class_rep_without_cv, roc_auc_without_cv = evaluate_model(model, X_test, y_test)\n",
    "\n",
    "    print(\"\\nResults without Cross-Validation:\")\n",
    "    print(f\"F1 +ve: {class_rep_without_cv['1']['f1-score']:.3f}\")\n",
    "    print(f\"F1 -ve: {class_rep_without_cv['0']['f1-score']:.3f}\")\n",
    "    print(f\"AUC: {roc_auc_without_cv:.3f}\")\n",
    "    print(f\"Accuracy: {acc_without_cv:.3f}\")\n",
    "\n",
    "    # Model selection with cross-validation\n",
    "    print(\"\\nTraining and evaluating model with cross-validation...\")\n",
    "    cv_scores_list = cv_scores(model, X_train, y_train)\n",
    "\n",
    "    # Report cross-validation scores\n",
    "    print(\"\\nCross-Validation Scores:\")\n",
    "    for i, score in enumerate(cv_scores_list):\n",
    "        print(f\"Fold {i+1}: {score:.3f}\")\n",
    "\n",
    "    # Train model with all data\n",
    "    print(\"\\nTraining model with all data...\")\n",
    "    model.fit(X_train, y_train)\n",
    "\n",
    "    # Evaluate model with all data\n",
    "    print(\"\\nEvaluating model with all data...\")\n",
    "    acc_with_all_data, class_rep_with_all_data, roc_auc_with_all_data = evaluate_model(model, X_test, y_test)\n",
    "\n",
    "    print(\"\\nResults with All Data:\")\n",
    "    print(f\"F1 +ve: {class_rep_with_all_data['1']['f1-score']:.3f}\")\n",
    "    print(f\"F1 -ve: {class_rep_with_all_data['0']['f1-score']:.3f}\")\n",
    "    print(f\"AUC: {roc_auc_with_all_data:.3f}\")\n",
    "    print(f\"Accuracy: {acc_with_all_data:.3f}\")\n"
   ]
  },
  {
   "cell_type": "markdown",
   "id": "aeec8d4d-7a1f-405e-935f-ed3456eae857",
   "metadata": {},
   "source": [
    "## Logistic Regression (Class Weight)\n",
    "## Gradient Boosting (Ensemble)"
   ]
  },
  {
   "cell_type": "code",
   "execution_count": 92,
   "id": "3ed59c34-9fd2-4ea0-b816-fe95109bfc3c",
   "metadata": {},
   "outputs": [],
   "source": [
    "def model_selection(strategy='class_weight', y_train=None):\n",
    "    if strategy == 'class_weight':\n",
    "        if y_train is None:\n",
    "            raise ValueError(\"If 'class_weight' strategy is selected, y_train must be provided.\")\n",
    "        class_weights = compute_class_weight('balanced', classes=np.unique(y_train), y=y_train)\n",
    "        class_weights_dict = {class_label: weight for class_label, weight in zip(np.unique(y_train), class_weights)}\n",
    "        model = LogisticRegression(class_weight=class_weights_dict,max_iter=1000000)\n",
    "        print('Logistic Regression with Class Weighting')\n",
    "    elif strategy == 'ensemble':\n",
    "        model = GradientBoostingClassifier()\n",
    "        print('Gradient Boosting Classifier (Ensemble Method)')\n",
    "    else:\n",
    "        raise ValueError(\"Invalid strategy. Choose either 'class_weight' or 'ensemble'.\")\n",
    "    return model\n"
   ]
  },
  {
   "cell_type": "code",
   "execution_count": 93,
   "id": "7681c403-bf6a-4012-af0b-575780383723",
   "metadata": {
    "scrolled": true
   },
   "outputs": [
    {
     "name": "stdout",
     "output_type": "stream",
     "text": [
      "Logistic Regression with Class Weighting\n",
      "\n",
      "Training model without cross-validation...\n",
      "\n",
      "Evaluating model without cross-validation...\n",
      "\n",
      "Results without Cross-Validation:\n",
      "F1 +ve: 0.592\n",
      "F1 -ve: 0.896\n",
      "AUC: 0.924\n",
      "Accuracy: 0.834\n",
      "\n",
      "Training and evaluating model with cross-validation...\n",
      "\n",
      "Cross-Validation Scores:\n",
      "Fold 1: 0.855\n",
      "Fold 2: 0.862\n",
      "Fold 3: 0.862\n",
      "Fold 4: 0.853\n",
      "Fold 5: 0.837\n",
      "\n",
      "Training model with all data...\n",
      "\n",
      "Evaluating model with all data...\n",
      "\n",
      "Results with All Data:\n",
      "F1 +ve: 0.592\n",
      "F1 -ve: 0.896\n",
      "AUC: 0.924\n",
      "Accuracy: 0.834\n"
     ]
    }
   ],
   "source": [
    "master_pipeline(filepath, target, strategy='class_weight')"
   ]
  },
  {
   "cell_type": "code",
   "execution_count": 94,
   "id": "62b1f96b-60be-447f-8822-1c2487b58ffb",
   "metadata": {
    "scrolled": true
   },
   "outputs": [
    {
     "name": "stdout",
     "output_type": "stream",
     "text": [
      "Gradient Boosting Classifier (Ensemble Method)\n",
      "\n",
      "Training model without cross-validation...\n",
      "\n",
      "Evaluating model without cross-validation...\n",
      "\n",
      "Results without Cross-Validation:\n",
      "F1 +ve: 0.777\n",
      "F1 -ve: 0.964\n",
      "AUC: 0.972\n",
      "Accuracy: 0.939\n",
      "\n",
      "Training and evaluating model with cross-validation...\n",
      "\n",
      "Cross-Validation Scores:\n",
      "Fold 1: 0.943\n",
      "Fold 2: 0.948\n",
      "Fold 3: 0.950\n",
      "Fold 4: 0.952\n",
      "Fold 5: 0.943\n",
      "\n",
      "Training model with all data...\n",
      "\n",
      "Evaluating model with all data...\n",
      "\n",
      "Results with All Data:\n",
      "F1 +ve: 0.777\n",
      "F1 -ve: 0.964\n",
      "AUC: 0.972\n",
      "Accuracy: 0.939\n"
     ]
    }
   ],
   "source": [
    "master_pipeline(filepath, target, strategy='ensemble')"
   ]
  },
  {
   "cell_type": "markdown",
   "id": "7fbfa719-ed7e-4fe1-b9ba-a5e5ca19624b",
   "metadata": {},
   "source": [
    "## Balanced Random Forest (Class Weight)\n",
    "## Easy Ensemble Classifier (Ensemble) "
   ]
  },
  {
   "cell_type": "code",
   "execution_count": 95,
   "id": "29a8fb79-9819-49c2-8128-ad72b44ec4d7",
   "metadata": {},
   "outputs": [],
   "source": [
    "def model_selection(strategy='class_weight', y_train=None):\n",
    "    if strategy == 'class_weight':\n",
    "        if y_train is None:\n",
    "            raise ValueError(\"If 'class_weight' strategy is selected, y_train must be provided.\")\n",
    "        class_weights = compute_class_weight('balanced', classes=np.unique(y_train), y=y_train)\n",
    "        class_weights_dict = {class_label: weight for class_label, weight in zip(np.unique(y_train), class_weights)}\n",
    "        model = BalancedRandomForestClassifier(class_weight=class_weights_dict)\n",
    "        print('Balanced Random Forest Classifier with Class Weighting')\n",
    "    elif strategy == 'ensemble':\n",
    "        model = EasyEnsembleClassifier()\n",
    "        print('Easy Ensemble Classifier (Ensemble Method)')\n",
    "    else:\n",
    "        raise ValueError(\"Invalid strategy. Choose either 'class_weight' or 'ensemble'.\")\n",
    "    return model\n"
   ]
  },
  {
   "cell_type": "code",
   "execution_count": 96,
   "id": "16904ecb-2395-467b-a896-ce5ce418b885",
   "metadata": {},
   "outputs": [
    {
     "name": "stdout",
     "output_type": "stream",
     "text": [
      "Balanced Random Forest Classifier with Class Weighting\n",
      "\n",
      "Training model without cross-validation...\n"
     ]
    },
    {
     "name": "stderr",
     "output_type": "stream",
     "text": [
      "C:\\Users\\uzairmuh\\AppData\\Local\\Programs\\Python\\Python312\\Lib\\site-packages\\imblearn\\ensemble\\_forest.py:577: FutureWarning: The default of `sampling_strategy` will change from `'auto'` to `'all'` in version 0.13. This change will follow the implementation proposed in the original paper. Set to `'all'` to silence this warning and adopt the future behaviour.\n",
      "  warn(\n",
      "C:\\Users\\uzairmuh\\AppData\\Local\\Programs\\Python\\Python312\\Lib\\site-packages\\imblearn\\ensemble\\_forest.py:589: FutureWarning: The default of `replacement` will change from `False` to `True` in version 0.13. This change will follow the implementation proposed in the original paper. Set to `True` to silence this warning and adopt the future behaviour.\n",
      "  warn(\n",
      "C:\\Users\\uzairmuh\\AppData\\Local\\Programs\\Python\\Python312\\Lib\\site-packages\\imblearn\\ensemble\\_forest.py:601: FutureWarning: The default of `bootstrap` will change from `True` to `False` in version 0.13. This change will follow the implementation proposed in the original paper. Set to `False` to silence this warning and adopt the future behaviour.\n",
      "  warn(\n"
     ]
    },
    {
     "name": "stdout",
     "output_type": "stream",
     "text": [
      "\n",
      "Evaluating model without cross-validation...\n",
      "\n",
      "Results without Cross-Validation:\n",
      "F1 +ve: 0.778\n",
      "F1 -ve: 0.953\n",
      "AUC: 0.974\n",
      "Accuracy: 0.923\n",
      "\n",
      "Training and evaluating model with cross-validation...\n"
     ]
    },
    {
     "name": "stderr",
     "output_type": "stream",
     "text": [
      "C:\\Users\\uzairmuh\\AppData\\Local\\Programs\\Python\\Python312\\Lib\\site-packages\\imblearn\\ensemble\\_forest.py:577: FutureWarning: The default of `sampling_strategy` will change from `'auto'` to `'all'` in version 0.13. This change will follow the implementation proposed in the original paper. Set to `'all'` to silence this warning and adopt the future behaviour.\n",
      "  warn(\n",
      "C:\\Users\\uzairmuh\\AppData\\Local\\Programs\\Python\\Python312\\Lib\\site-packages\\imblearn\\ensemble\\_forest.py:589: FutureWarning: The default of `replacement` will change from `False` to `True` in version 0.13. This change will follow the implementation proposed in the original paper. Set to `True` to silence this warning and adopt the future behaviour.\n",
      "  warn(\n",
      "C:\\Users\\uzairmuh\\AppData\\Local\\Programs\\Python\\Python312\\Lib\\site-packages\\imblearn\\ensemble\\_forest.py:601: FutureWarning: The default of `bootstrap` will change from `True` to `False` in version 0.13. This change will follow the implementation proposed in the original paper. Set to `False` to silence this warning and adopt the future behaviour.\n",
      "  warn(\n",
      "C:\\Users\\uzairmuh\\AppData\\Local\\Programs\\Python\\Python312\\Lib\\site-packages\\imblearn\\ensemble\\_forest.py:577: FutureWarning: The default of `sampling_strategy` will change from `'auto'` to `'all'` in version 0.13. This change will follow the implementation proposed in the original paper. Set to `'all'` to silence this warning and adopt the future behaviour.\n",
      "  warn(\n",
      "C:\\Users\\uzairmuh\\AppData\\Local\\Programs\\Python\\Python312\\Lib\\site-packages\\imblearn\\ensemble\\_forest.py:589: FutureWarning: The default of `replacement` will change from `False` to `True` in version 0.13. This change will follow the implementation proposed in the original paper. Set to `True` to silence this warning and adopt the future behaviour.\n",
      "  warn(\n",
      "C:\\Users\\uzairmuh\\AppData\\Local\\Programs\\Python\\Python312\\Lib\\site-packages\\imblearn\\ensemble\\_forest.py:601: FutureWarning: The default of `bootstrap` will change from `True` to `False` in version 0.13. This change will follow the implementation proposed in the original paper. Set to `False` to silence this warning and adopt the future behaviour.\n",
      "  warn(\n",
      "C:\\Users\\uzairmuh\\AppData\\Local\\Programs\\Python\\Python312\\Lib\\site-packages\\imblearn\\ensemble\\_forest.py:577: FutureWarning: The default of `sampling_strategy` will change from `'auto'` to `'all'` in version 0.13. This change will follow the implementation proposed in the original paper. Set to `'all'` to silence this warning and adopt the future behaviour.\n",
      "  warn(\n",
      "C:\\Users\\uzairmuh\\AppData\\Local\\Programs\\Python\\Python312\\Lib\\site-packages\\imblearn\\ensemble\\_forest.py:589: FutureWarning: The default of `replacement` will change from `False` to `True` in version 0.13. This change will follow the implementation proposed in the original paper. Set to `True` to silence this warning and adopt the future behaviour.\n",
      "  warn(\n",
      "C:\\Users\\uzairmuh\\AppData\\Local\\Programs\\Python\\Python312\\Lib\\site-packages\\imblearn\\ensemble\\_forest.py:601: FutureWarning: The default of `bootstrap` will change from `True` to `False` in version 0.13. This change will follow the implementation proposed in the original paper. Set to `False` to silence this warning and adopt the future behaviour.\n",
      "  warn(\n",
      "C:\\Users\\uzairmuh\\AppData\\Local\\Programs\\Python\\Python312\\Lib\\site-packages\\imblearn\\ensemble\\_forest.py:577: FutureWarning: The default of `sampling_strategy` will change from `'auto'` to `'all'` in version 0.13. This change will follow the implementation proposed in the original paper. Set to `'all'` to silence this warning and adopt the future behaviour.\n",
      "  warn(\n",
      "C:\\Users\\uzairmuh\\AppData\\Local\\Programs\\Python\\Python312\\Lib\\site-packages\\imblearn\\ensemble\\_forest.py:589: FutureWarning: The default of `replacement` will change from `False` to `True` in version 0.13. This change will follow the implementation proposed in the original paper. Set to `True` to silence this warning and adopt the future behaviour.\n",
      "  warn(\n",
      "C:\\Users\\uzairmuh\\AppData\\Local\\Programs\\Python\\Python312\\Lib\\site-packages\\imblearn\\ensemble\\_forest.py:601: FutureWarning: The default of `bootstrap` will change from `True` to `False` in version 0.13. This change will follow the implementation proposed in the original paper. Set to `False` to silence this warning and adopt the future behaviour.\n",
      "  warn(\n",
      "C:\\Users\\uzairmuh\\AppData\\Local\\Programs\\Python\\Python312\\Lib\\site-packages\\imblearn\\ensemble\\_forest.py:577: FutureWarning: The default of `sampling_strategy` will change from `'auto'` to `'all'` in version 0.13. This change will follow the implementation proposed in the original paper. Set to `'all'` to silence this warning and adopt the future behaviour.\n",
      "  warn(\n",
      "C:\\Users\\uzairmuh\\AppData\\Local\\Programs\\Python\\Python312\\Lib\\site-packages\\imblearn\\ensemble\\_forest.py:589: FutureWarning: The default of `replacement` will change from `False` to `True` in version 0.13. This change will follow the implementation proposed in the original paper. Set to `True` to silence this warning and adopt the future behaviour.\n",
      "  warn(\n",
      "C:\\Users\\uzairmuh\\AppData\\Local\\Programs\\Python\\Python312\\Lib\\site-packages\\imblearn\\ensemble\\_forest.py:601: FutureWarning: The default of `bootstrap` will change from `True` to `False` in version 0.13. This change will follow the implementation proposed in the original paper. Set to `False` to silence this warning and adopt the future behaviour.\n",
      "  warn(\n"
     ]
    },
    {
     "name": "stdout",
     "output_type": "stream",
     "text": [
      "\n",
      "Cross-Validation Scores:\n",
      "Fold 1: 0.930\n",
      "Fold 2: 0.921\n",
      "Fold 3: 0.927\n",
      "Fold 4: 0.907\n",
      "Fold 5: 0.907\n",
      "\n",
      "Training model with all data...\n"
     ]
    },
    {
     "name": "stderr",
     "output_type": "stream",
     "text": [
      "C:\\Users\\uzairmuh\\AppData\\Local\\Programs\\Python\\Python312\\Lib\\site-packages\\imblearn\\ensemble\\_forest.py:577: FutureWarning: The default of `sampling_strategy` will change from `'auto'` to `'all'` in version 0.13. This change will follow the implementation proposed in the original paper. Set to `'all'` to silence this warning and adopt the future behaviour.\n",
      "  warn(\n",
      "C:\\Users\\uzairmuh\\AppData\\Local\\Programs\\Python\\Python312\\Lib\\site-packages\\imblearn\\ensemble\\_forest.py:589: FutureWarning: The default of `replacement` will change from `False` to `True` in version 0.13. This change will follow the implementation proposed in the original paper. Set to `True` to silence this warning and adopt the future behaviour.\n",
      "  warn(\n",
      "C:\\Users\\uzairmuh\\AppData\\Local\\Programs\\Python\\Python312\\Lib\\site-packages\\imblearn\\ensemble\\_forest.py:601: FutureWarning: The default of `bootstrap` will change from `True` to `False` in version 0.13. This change will follow the implementation proposed in the original paper. Set to `False` to silence this warning and adopt the future behaviour.\n",
      "  warn(\n"
     ]
    },
    {
     "name": "stdout",
     "output_type": "stream",
     "text": [
      "\n",
      "Evaluating model with all data...\n",
      "\n",
      "Results with All Data:\n",
      "F1 +ve: 0.764\n",
      "F1 -ve: 0.948\n",
      "AUC: 0.972\n",
      "Accuracy: 0.914\n"
     ]
    }
   ],
   "source": [
    "master_pipeline(filepath, target, strategy='class_weight')"
   ]
  },
  {
   "cell_type": "code",
   "execution_count": 97,
   "id": "b3e7f4d9-4170-4a0e-8186-338f8fcaf87e",
   "metadata": {
    "scrolled": true
   },
   "outputs": [
    {
     "name": "stdout",
     "output_type": "stream",
     "text": [
      "Easy Ensemble Classifier (Ensemble Method)\n",
      "\n",
      "Training model without cross-validation...\n",
      "\n",
      "Evaluating model without cross-validation...\n",
      "\n",
      "Results without Cross-Validation:\n",
      "F1 +ve: 0.611\n",
      "F1 -ve: 0.901\n",
      "AUC: 0.947\n",
      "Accuracy: 0.842\n",
      "\n",
      "Training and evaluating model with cross-validation...\n",
      "\n",
      "Cross-Validation Scores:\n",
      "Fold 1: 0.878\n",
      "Fold 2: 0.855\n",
      "Fold 3: 0.868\n",
      "Fold 4: 0.868\n",
      "Fold 5: 0.853\n",
      "\n",
      "Training model with all data...\n",
      "\n",
      "Evaluating model with all data...\n",
      "\n",
      "Results with All Data:\n",
      "F1 +ve: 0.610\n",
      "F1 -ve: 0.899\n",
      "AUC: 0.946\n",
      "Accuracy: 0.839\n"
     ]
    }
   ],
   "source": [
    "master_pipeline(filepath, target, strategy='ensemble')"
   ]
  },
  {
   "cell_type": "markdown",
   "id": "afef616b-a516-4130-94c7-30553b78a801",
   "metadata": {},
   "source": [
    "## Decision Trees Classifier (Ensemble)"
   ]
  },
  {
   "cell_type": "code",
   "execution_count": 98,
   "id": "5bb39c2a-4701-4b5e-8d4a-da5d981422cb",
   "metadata": {},
   "outputs": [],
   "source": [
    "def model_selection(strategy='class_weight', y_train=None):\n",
    "    if strategy == 'class_weight':\n",
    "        if y_train is None:\n",
    "            raise ValueError(\"If 'class_weight' strategy is selected, y_train must be provided.\")\n",
    "        class_weights = compute_class_weight('balanced', classes=np.unique(y_train), y=y_train)\n",
    "        class_weights_dict = {class_label: weight for class_label, weight in zip(np.unique(y_train), class_weights)}\n",
    "        model = DecisionTreeClassifier(class_weight=class_weights_dict)\n",
    "        print('Decision Tree Classifier with Class Weighting')\n",
    "    elif strategy == 'ensemble':\n",
    "        model = DecisionTreeClassifier()\n",
    "        print('Decision Tree Classifier (Ensemble Method)')\n",
    "    else:\n",
    "        raise ValueError(\"Invalid strategy. Choose either 'class_weight' or 'ensemble'.\")\n",
    "    return model\n"
   ]
  },
  {
   "cell_type": "code",
   "execution_count": 99,
   "id": "472da62b-be22-4c19-b8ce-8e2a0a5b99fa",
   "metadata": {
    "scrolled": true
   },
   "outputs": [
    {
     "name": "stdout",
     "output_type": "stream",
     "text": [
      "Decision Tree Classifier (Ensemble Method)\n",
      "\n",
      "Training model without cross-validation...\n",
      "\n",
      "Evaluating model without cross-validation...\n",
      "\n",
      "Results without Cross-Validation:\n",
      "F1 +ve: 0.778\n",
      "F1 -ve: 0.963\n",
      "AUC: 0.901\n",
      "Accuracy: 0.937\n",
      "\n",
      "Training and evaluating model with cross-validation...\n",
      "\n",
      "Cross-Validation Scores:\n",
      "Fold 1: 0.957\n",
      "Fold 2: 0.930\n",
      "Fold 3: 0.943\n",
      "Fold 4: 0.916\n",
      "Fold 5: 0.934\n",
      "\n",
      "Training model with all data...\n",
      "\n",
      "Evaluating model with all data...\n",
      "\n",
      "Results with All Data:\n",
      "F1 +ve: 0.772\n",
      "F1 -ve: 0.962\n",
      "AUC: 0.896\n",
      "Accuracy: 0.934\n"
     ]
    }
   ],
   "source": [
    "master_pipeline(filepath, target, strategy='ensemble')"
   ]
  },
  {
   "cell_type": "markdown",
   "id": "519c6850-9c86-4b3f-b285-5252e62330f6",
   "metadata": {},
   "source": [
    "## Results"
   ]
  },
  {
   "cell_type": "markdown",
   "id": "bf7431bc-e66a-42f6-a20e-70835e03ea63",
   "metadata": {},
   "source": [
    "### Class Imbalance (Class Weight & Ensemble)\n",
    "\n",
    "| Class Weight         | Logistic Regression | Balanced Random Forest Classifier |\r\n",
    "|------------------------|---------------------|-----------------------------------|\r\n",
    "| F1 +ve                 | 0.592               | 0.764                             |\r\n",
    "| F1-ve                  | 0.896               | 0.948                             |\r\n",
    "| AUC                    | 0.942               | 0.972                             |\r\n",
    "| Accuracy               | 0.834               | 0.914                         \n",
    " ---------------------------------------------------------------------------------------------\n",
    "\n",
    "| Ensemble         | Easy Ensemble       | Decision Tree       | Gradient Boosting   |\r\n",
    "|------------------------|---------------------|---------------------|---------------------|\r\n",
    "| F1 +ve                 | 0.610               | 0.772               | 0.777               |\r\n",
    "| F1-ve                  | 0.899               | 0.962               | 0.964               |\r\n",
    "| AUC                    | 0.946               | 0.896               | 0.972               |\r\n",
    "| Accuracy               | 0.839               | 0.934               | 0.939               |\r\n",
    "   |\r\n"
   ]
  },
  {
   "cell_type": "markdown",
   "id": "58b095e9-b2cd-4df5-8e90-0cc2737a2cf4",
   "metadata": {},
   "source": [
    "# =====================================================\n",
    "# Class Imbalance - Data Techniques"
   ]
  },
  {
   "cell_type": "markdown",
   "id": "9a4b6103-8ac2-4bb0-b597-cc55236672dd",
   "metadata": {},
   "source": [
    "## Master Pipeline"
   ]
  },
  {
   "cell_type": "code",
   "execution_count": 100,
   "id": "d852b065-c030-462c-8f94-2bd8ef8017d7",
   "metadata": {},
   "outputs": [],
   "source": [
    "def master_pipeline_with_smote(filepath, target):\n",
    "    df = load_data(filepath)\n",
    "    #df = class_label(df)\n",
    "    df = clean_data(df)\n",
    "    df = transform_data(df)\n",
    "    # eda(df)\n",
    "    X_train, X_test, y_train, y_test = manual_split(df, target)\n",
    "    \n",
    "    # Apply SMOTE to the training data\n",
    "    smote = SMOTE(random_state=42)\n",
    "    X_train_smote, y_train_smote = smote.fit_resample(X_train, y_train)\n",
    "    \n",
    "    # Model selection\n",
    "    model = model_selection()\n",
    "\n",
    "    # Train model without cross-validation\n",
    "    print(\"\\nTraining model without cross-validation...\")\n",
    "    train_model(model, X_train_smote, y_train_smote)\n",
    "\n",
    "    # Evaluate model without cross-validation\n",
    "    print(\"\\nResults without Cross-Validation:\")\n",
    "    accuracy, class_rep_without_cv, roc_auc_without_cv = evaluate_model(model, X_test, y_test)\n",
    "    \n",
    "    if class_rep_without_cv is not None:\n",
    "        print(f\"F1 +ve: {class_rep_without_cv['1']['f1-score']:.3f}\")\n",
    "        print(f\"F1 -ve: {class_rep_without_cv['0']['f1-score']:.3f}\")\n",
    "    else:\n",
    "        print(\"No classification report available.\")\n",
    "    \n",
    "    if roc_auc_without_cv is not None:\n",
    "        print(f\"AUC: {roc_auc_without_cv:.3f}\")\n",
    "    else:\n",
    "        print(\"No ROC AUC available.\")\n",
    "    \n",
    "    if accuracy is not None:\n",
    "        print(f\"Accuracy: {accuracy:.3f}\")\n",
    "    else:\n",
    "        print(\"No accuracy score available.\")\n",
    "\n",
    "    # Model selection with cross-validation\n",
    "    print(\"\\nTraining and evaluating model with cross-validation...\")\n",
    "    cv_scores_list = cv_scores(model, X_train_smote, y_train_smote)\n",
    "\n",
    "    # Report cross-validation scores\n",
    "    print(\"\\nCross-Validation Scores:\")\n",
    "    for i, score in enumerate(cv_scores_list):\n",
    "        print(f\"Fold {i+1}: {score:.3f}\")\n",
    "\n",
    "    # Train model with all data\n",
    "    print(\"\\nTraining model with all data...\")\n",
    "    model.fit(X_train_smote, y_train_smote)\n",
    "\n",
    "    # Evaluate model with all data\n",
    "    print(\"\\nEvaluating model with all data...\")\n",
    "    acc_with_all_data, class_rep_with_all_data, roc_auc_with_all_data = evaluate_model(model, X_test, y_test)\n",
    "\n",
    "    print(\"\\nResults with All Data:\")\n",
    "    print(f\"F1 +ve: {class_rep_with_all_data['1']['f1-score']:.3f}\")\n",
    "    print(f\"F1 -ve: {class_rep_with_all_data['0']['f1-score']:.3f}\")\n",
    "    print(f\"AUC: {roc_auc_with_all_data:.3f}\")\n",
    "    print(f\"Accuracy: {acc_with_all_data:.3f}\")\n"
   ]
  },
  {
   "cell_type": "code",
   "execution_count": 101,
   "id": "f8b23be0-fd0c-4259-bfbc-2b9bce9f8951",
   "metadata": {},
   "outputs": [],
   "source": [
    "def evaluate_model(model, X_test, y_test):\n",
    "    if isinstance(model, OneClassSVM):\n",
    "        y_pred = model.predict(X_test)\n",
    "        accuracy = None  # Since OneClassSVM doesn't provide accuracy\n",
    "        classification_rep = None  # No classification report available\n",
    "        roc_auc = None  # No ROC AUC available\n",
    "    else:\n",
    "        y_pred = model.predict(X_test)\n",
    "        accuracy = accuracy_score(y_test, y_pred)\n",
    "        classification_rep = classification_report(y_test, y_pred, output_dict=True)\n",
    "        \n",
    "        # Check if the model supports predict_proba method\n",
    "        if hasattr(model, 'predict_proba'):\n",
    "            y_pred_proba = model.predict_proba(X_test)\n",
    "            if len(y_pred_proba.shape) > 1 and y_pred_proba.shape[1] > 1:\n",
    "                # For binary classification, use ROC AUC for positive class\n",
    "                roc_auc = roc_auc_score(y_test, y_pred_proba[:, 1])\n",
    "            else:\n",
    "                # For multi-class classification, use ROC AUC\n",
    "                roc_auc = roc_auc_score(y_test, y_pred_proba, multi_class='ovr')\n",
    "        else:\n",
    "            roc_auc = None\n",
    "\n",
    "    return accuracy, classification_rep, roc_auc\n",
    "\n",
    "\n"
   ]
  },
  {
   "cell_type": "code",
   "execution_count": 102,
   "id": "2b8c957a-4cf5-4078-9521-f3c6f0622eaa",
   "metadata": {},
   "outputs": [],
   "source": [
    "def plot_dataset_before_after_smote(X_train, y_train, X_resampled, y_resampled):\n",
    "    plt.figure(figsize=(12, 6))\n",
    "    \n",
    "    # Plot the original dataset\n",
    "    plt.subplot(1, 2, 1)\n",
    "    sns.countplot(x=y_train)\n",
    "    plt.title('Original Dataset')\n",
    "    plt.xlabel('Target')\n",
    "    plt.ylabel('Count')\n",
    "    \n",
    "    # Plot the dataset after SMOTE\n",
    "    plt.subplot(1, 2, 2)\n",
    "    sns.countplot(x=y_resampled)\n",
    "    plt.title('Dataset After SMOTE')\n",
    "    plt.xlabel('Target')\n",
    "    plt.ylabel('Count')\n",
    "    \n",
    "    plt.tight_layout()\n",
    "    plt.show()\n"
   ]
  },
  {
   "cell_type": "code",
   "execution_count": 103,
   "id": "6c657a7a-c0f5-4034-848f-0f530b597cbb",
   "metadata": {},
   "outputs": [
    {
     "data": {
      "image/png": "[encoded data removed]",
      "text/plain": [
       "<Figure size 1200x600 with 2 Axes>"
      ]
     },
     "metadata": {},
     "output_type": "display_data"
    }
   ],
   "source": [
    "X_train, X_test, y_train, y_test = manual_split(df1, target_column=target)\n",
    "\n",
    "# Apply SMOTE\n",
    "smote = SMOTE(random_state=42)\n",
    "X_resampled, y_resampled = smote.fit_resample(X_train, y_train)\n",
    "\n",
    "# Plot the dataset before and after SMOTE\n",
    "plot_dataset_before_after_smote(X_train, y_train, X_resampled, y_resampled)\n"
   ]
  },
  {
   "cell_type": "code",
   "execution_count": 104,
   "id": "445c9486-ec82-4ab1-8e1f-f3363bd8d30e",
   "metadata": {},
   "outputs": [],
   "source": [
    "# Convert the resampled X and y arrays into a DataFrame\n",
    "resampled_df = pd.concat([pd.DataFrame(X_resampled), pd.DataFrame({'y': y_resampled})], axis=1)\n",
    "\n",
    "# Export the DataFrame to a CSV file\n",
    "resampled_df.to_csv('Customer_Churn_resampled_dataset.csv', index=False)\n"
   ]
  },
  {
   "cell_type": "markdown",
   "id": "594f4579-ee79-4710-b9f7-3edc259cbf56",
   "metadata": {},
   "source": [
    "## Random Forest (Data Technique)"
   ]
  },
  {
   "cell_type": "code",
   "execution_count": 117,
   "id": "32ee956e-993d-4bda-bbe3-f107ee559b93",
   "metadata": {},
   "outputs": [],
   "source": [
    "def model_selection():\n",
    "    model = RandomForestClassifier()  \n",
    "    print('Random Forest Classifier')  \n",
    "    return model"
   ]
  },
  {
   "cell_type": "code",
   "execution_count": 106,
   "id": "0b5e6625-731e-4d9f-9a0a-45801c277ca3",
   "metadata": {
    "scrolled": true
   },
   "outputs": [
    {
     "name": "stdout",
     "output_type": "stream",
     "text": [
      "Random Forest Classifier\n",
      "\n",
      "Training model without cross-validation...\n",
      "\n",
      "Results without Cross-Validation:\n",
      "F1 +ve: 0.826\n",
      "F1 -ve: 0.968\n",
      "AUC: 0.980\n",
      "Accuracy: 0.946\n",
      "\n",
      "Training and evaluating model with cross-validation...\n",
      "\n",
      "Cross-Validation Scores:\n",
      "Fold 1: 0.966\n",
      "Fold 2: 0.972\n",
      "Fold 3: 0.973\n",
      "Fold 4: 0.972\n",
      "Fold 5: 0.974\n",
      "\n",
      "Training model with all data...\n",
      "\n",
      "Evaluating model with all data...\n",
      "\n",
      "Results with All Data:\n",
      "F1 +ve: 0.848\n",
      "F1 -ve: 0.973\n",
      "AUC: 0.979\n",
      "Accuracy: 0.953\n"
     ]
    }
   ],
   "source": [
    "master_pipeline_with_smote(filepath, target)"
   ]
  },
  {
   "cell_type": "markdown",
   "id": "b4f31beb-1530-4536-8e80-4ac6f1c3e78b",
   "metadata": {},
   "source": [
    "## Gradient Boosting (Data Technique)"
   ]
  },
  {
   "cell_type": "code",
   "execution_count": 115,
   "id": "904ec74f-f563-4e9b-b29d-d5ac73db5679",
   "metadata": {},
   "outputs": [],
   "source": [
    "\n",
    "def model_selection():\n",
    "    model = GradientBoostingClassifier()   \n",
    "    print('Gradient Boosting Classifier')  \n",
    "    return model"
   ]
  },
  {
   "cell_type": "code",
   "execution_count": 108,
   "id": "c3232d1e-87f9-404f-82be-d12b73cf3137",
   "metadata": {
    "scrolled": true
   },
   "outputs": [
    {
     "name": "stdout",
     "output_type": "stream",
     "text": [
      "Gradient Boosting Classifier\n",
      "\n",
      "Training model without cross-validation...\n",
      "\n",
      "Results without Cross-Validation:\n",
      "F1 +ve: 0.757\n",
      "F1 -ve: 0.947\n",
      "AUC: 0.974\n",
      "Accuracy: 0.913\n",
      "\n",
      "Training and evaluating model with cross-validation...\n",
      "\n",
      "Cross-Validation Scores:\n",
      "Fold 1: 0.942\n",
      "Fold 2: 0.932\n",
      "Fold 3: 0.940\n",
      "Fold 4: 0.944\n",
      "Fold 5: 0.930\n",
      "\n",
      "Training model with all data...\n",
      "\n",
      "Evaluating model with all data...\n",
      "\n",
      "Results with All Data:\n",
      "F1 +ve: 0.760\n",
      "F1 -ve: 0.948\n",
      "AUC: 0.974\n",
      "Accuracy: 0.914\n"
     ]
    }
   ],
   "source": [
    "master_pipeline_with_smote(filepath, target)"
   ]
  },
  {
   "cell_type": "markdown",
   "id": "3daba866-a3c6-4b3a-ae9d-334432388942",
   "metadata": {},
   "source": [
    "## Naive Bayes (Data Technique)"
   ]
  },
  {
   "cell_type": "code",
   "execution_count": 116,
   "id": "7b6257f5-5f6f-4e8e-bb3f-ee96c712cecf",
   "metadata": {},
   "outputs": [],
   "source": [
    "\n",
    "def model_selection():\n",
    "    model = GaussianNB()  \n",
    "    print('Naive Bayes')  \n",
    "    return model"
   ]
  },
  {
   "cell_type": "code",
   "execution_count": 110,
   "id": "e29caba0-ad50-4575-a443-ddfe3c5e7495",
   "metadata": {
    "scrolled": true
   },
   "outputs": [
    {
     "name": "stdout",
     "output_type": "stream",
     "text": [
      "Naive Bayes\n",
      "\n",
      "Training model without cross-validation...\n",
      "\n",
      "Results without Cross-Validation:\n",
      "F1 +ve: 0.447\n",
      "F1 -ve: 0.765\n",
      "AUC: 0.893\n",
      "Accuracy: 0.670\n",
      "\n",
      "Training and evaluating model with cross-validation...\n",
      "\n",
      "Cross-Validation Scores:\n",
      "Fold 1: 0.791\n",
      "Fold 2: 0.786\n",
      "Fold 3: 0.797\n",
      "Fold 4: 0.795\n",
      "Fold 5: 0.782\n",
      "\n",
      "Training model with all data...\n",
      "\n",
      "Evaluating model with all data...\n",
      "\n",
      "Results with All Data:\n",
      "F1 +ve: 0.447\n",
      "F1 -ve: 0.765\n",
      "AUC: 0.893\n",
      "Accuracy: 0.670\n"
     ]
    }
   ],
   "source": [
    "master_pipeline_with_smote(filepath, target)"
   ]
  },
  {
   "cell_type": "markdown",
   "id": "2f1fbc1a-632e-44a4-800c-045cdc3fa55b",
   "metadata": {},
   "source": [
    "## Logistic Regression (Data Technique)"
   ]
  },
  {
   "cell_type": "code",
   "execution_count": 111,
   "id": "a086a67c-b814-42bc-a4ba-590663f3907c",
   "metadata": {},
   "outputs": [],
   "source": [
    "\n",
    "def model_selection():\n",
    "    model = LogisticRegression(max_iter=1000000)  \n",
    "    print('Logistic Regression') \n",
    "    return model"
   ]
  },
  {
   "cell_type": "code",
   "execution_count": 112,
   "id": "ab76089f-e00b-4334-aeec-6c9c52436431",
   "metadata": {
    "scrolled": true
   },
   "outputs": [
    {
     "name": "stdout",
     "output_type": "stream",
     "text": [
      "Logistic Regression\n",
      "\n",
      "Training model without cross-validation...\n",
      "\n",
      "Results without Cross-Validation:\n",
      "F1 +ve: 0.559\n",
      "F1 -ve: 0.879\n",
      "AUC: 0.918\n",
      "Accuracy: 0.810\n",
      "\n",
      "Training and evaluating model with cross-validation...\n",
      "\n",
      "Cross-Validation Scores:\n",
      "Fold 1: 0.844\n",
      "Fold 2: 0.860\n",
      "Fold 3: 0.851\n",
      "Fold 4: 0.839\n",
      "Fold 5: 0.837\n",
      "\n",
      "Training model with all data...\n",
      "\n",
      "Evaluating model with all data...\n",
      "\n",
      "Results with All Data:\n",
      "F1 +ve: 0.559\n",
      "F1 -ve: 0.879\n",
      "AUC: 0.918\n",
      "Accuracy: 0.810\n"
     ]
    }
   ],
   "source": [
    "master_pipeline_with_smote(filepath, target)"
   ]
  },
  {
   "cell_type": "markdown",
   "id": "e3d497ee-b578-4595-8f9e-4d02d0e68cd8",
   "metadata": {},
   "source": [
    "## Decision Trees (Data Technique)"
   ]
  },
  {
   "cell_type": "code",
   "execution_count": 113,
   "id": "93862b2b-0467-4de3-a3cc-5ebc0dd27317",
   "metadata": {},
   "outputs": [],
   "source": [
    "\n",
    "def model_selection():\n",
    "    model = DecisionTreeClassifier()  \n",
    "    print('Decision Tree Classifier') \n",
    "    return model"
   ]
  },
  {
   "cell_type": "code",
   "execution_count": 114,
   "id": "c864ee42-25a4-44cf-81fa-d2e0c4b06223",
   "metadata": {
    "scrolled": true
   },
   "outputs": [
    {
     "name": "stdout",
     "output_type": "stream",
     "text": [
      "Decision Tree Classifier\n",
      "\n",
      "Training model without cross-validation...\n",
      "\n",
      "Results without Cross-Validation:\n",
      "F1 +ve: 0.761\n",
      "F1 -ve: 0.955\n",
      "AUC: 0.894\n",
      "Accuracy: 0.925\n",
      "\n",
      "Training and evaluating model with cross-validation...\n",
      "\n",
      "Cross-Validation Scores:\n",
      "Fold 1: 0.940\n",
      "Fold 2: 0.951\n",
      "Fold 3: 0.954\n",
      "Fold 4: 0.958\n",
      "Fold 5: 0.955\n",
      "\n",
      "Training model with all data...\n",
      "\n",
      "Evaluating model with all data...\n",
      "\n",
      "Results with All Data:\n",
      "F1 +ve: 0.770\n",
      "F1 -ve: 0.957\n",
      "AUC: 0.899\n",
      "Accuracy: 0.928\n"
     ]
    }
   ],
   "source": [
    "master_pipeline_with_smote(filepath, target)"
   ]
  },
  {
   "cell_type": "markdown",
   "id": "c18069f7-fe1e-4458-94ef-4129ee144a3a",
   "metadata": {},
   "source": [
    "## Results"
   ]
  },
  {
   "cell_type": "markdown",
   "id": "96d2bcab-2e3c-4902-9a8d-868e46165615",
   "metadata": {},
   "source": [
    "### Class Imbalance - (Data Technique)\n",
    "|          | Logistic Regression | Naïve Bayes | Decision Tree | Random Forest Classifier | Gradient Boosting |\r\n",
    "|------------------------|---------------------|-------------|---------------|--------------------------|-------------------|\r\n",
    "| F1 +ve                 | 0.559               | 0.447       | 0.770         | 0.848                    | 0.760             |\r\n",
    "| F1-ve                  | 0.879               | 0.765       | 0.957         | 0.973                    | 0.948             |\r\n",
    "| AUC                    | 0.918               | 0.893       | 0.899         | 0.979                    | 0.974             |\r\n",
    "| Accuracy               | 0.810               | 0.670       | 0.928         | 0.953                    | 0.914             |\r\n"
   ]
  },
  {
   "cell_type": "markdown",
   "id": "69945ddc-f16f-4b0e-81d0-b52b13d5b8de",
   "metadata": {},
   "source": [
    "# 1"
   ]
  },
  {
   "cell_type": "code",
   "execution_count": null,
   "id": "04d69a66-95b0-454e-ad69-a9e61263ee53",
   "metadata": {},
   "outputs": [],
   "source": []
  },
  {
   "cell_type": "code",
   "execution_count": null,
   "id": "61bc040f-ea7f-442f-9486-6d18419ea48e",
   "metadata": {},
   "outputs": [],
   "source": []
  },
  {
   "cell_type": "code",
   "execution_count": null,
   "id": "be984a89-9bb5-4169-b9fa-f66679baeceb",
   "metadata": {},
   "outputs": [],
   "source": []
  },
  {
   "cell_type": "code",
   "execution_count": null,
   "id": "5a8fb165-71d8-4adc-8d3b-0b2a1ac09a2e",
   "metadata": {},
   "outputs": [],
   "source": []
  },
  {
   "cell_type": "code",
   "execution_count": null,
   "id": "a2739211-4edb-49dc-b0a2-b9cf1b69960b",
   "metadata": {},
   "outputs": [],
   "source": []
  },
  {
   "cell_type": "code",
   "execution_count": null,
   "id": "4ea94a52-3fe2-4f7f-955b-35680af0fe94",
   "metadata": {},
   "outputs": [],
   "source": []
  },
  {
   "cell_type": "code",
   "execution_count": null,
   "id": "ad8d8ac0-55c4-4da9-a449-04c4bcafaa2b",
   "metadata": {},
   "outputs": [],
   "source": []
  },
  {
   "cell_type": "code",
   "execution_count": null,
   "id": "2c9b36dd-44e2-4fcb-a8f1-a7b1085b9d86",
   "metadata": {},
   "outputs": [],
   "source": []
  }
 ],
 "metadata": {
  "kernelspec": {
   "display_name": "Python 3 (ipykernel)",
   "language": "python",
   "name": "python3"
  },
  "language_info": {
   "codemirror_mode": {
    "name": "ipython",
    "version": 3
   },
   "file_extension": ".py",
   "mimetype": "text/x-python",
   "name": "python",
   "nbconvert_exporter": "python",
   "pygments_lexer": "ipython3",
   "version": "3.12.1"
  }
 },
 "nbformat": 4,
 "nbformat_minor": 5
}
